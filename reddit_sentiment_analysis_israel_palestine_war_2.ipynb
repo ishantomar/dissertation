{
  "cells": [
    {
      "cell_type": "markdown",
      "metadata": {
        "id": "view-in-github",
        "colab_type": "text"
      },
      "source": [
        "<a href=\"https://colab.research.google.com/github/ishantomar/dissertation/blob/main/reddit_sentiment_analysis_israel_palestine_war_2.ipynb\" target=\"_parent\"><img src=\"https://colab.research.google.com/assets/colab-badge.svg\" alt=\"Open In Colab\"/></a>"
      ]
    },
    {
      "cell_type": "markdown",
      "metadata": {
        "id": "24i17CjZfpw7"
      },
      "source": [
        "# **Initialization**"
      ]
    },
    {
      "cell_type": "code",
      "execution_count": 10,
      "metadata": {
        "colab": {
          "base_uri": "https://localhost:8080/"
        },
        "id": "tFZm4ZHadD4a",
        "outputId": "a769393c-26a3-4636-d4d9-14c14e6bb1ac"
      },
      "outputs": [
        {
          "output_type": "stream",
          "name": "stdout",
          "text": [
            "<module 'pandas' (ModuleAccelerator(fast=cudf, slow=pandas))>\n"
          ]
        },
        {
          "output_type": "stream",
          "name": "stderr",
          "text": [
            "[nltk_data] Downloading collection 'all-corpora'\n",
            "[nltk_data]    | \n",
            "[nltk_data]    | Downloading package abc to /root/nltk_data...\n",
            "[nltk_data]    |   Package abc is already up-to-date!\n",
            "[nltk_data]    | Downloading package alpino to /root/nltk_data...\n",
            "[nltk_data]    |   Package alpino is already up-to-date!\n",
            "[nltk_data]    | Downloading package bcp47 to /root/nltk_data...\n",
            "[nltk_data]    |   Package bcp47 is already up-to-date!\n",
            "[nltk_data]    | Downloading package biocreative_ppi to\n",
            "[nltk_data]    |     /root/nltk_data...\n",
            "[nltk_data]    |   Package biocreative_ppi is already up-to-date!\n",
            "[nltk_data]    | Downloading package brown to /root/nltk_data...\n",
            "[nltk_data]    |   Package brown is already up-to-date!\n",
            "[nltk_data]    | Downloading package brown_tei to /root/nltk_data...\n",
            "[nltk_data]    |   Package brown_tei is already up-to-date!\n",
            "[nltk_data]    | Downloading package cess_cat to /root/nltk_data...\n",
            "[nltk_data]    |   Package cess_cat is already up-to-date!\n",
            "[nltk_data]    | Downloading package cess_esp to /root/nltk_data...\n",
            "[nltk_data]    |   Package cess_esp is already up-to-date!\n",
            "[nltk_data]    | Downloading package chat80 to /root/nltk_data...\n",
            "[nltk_data]    |   Package chat80 is already up-to-date!\n",
            "[nltk_data]    | Downloading package city_database to\n",
            "[nltk_data]    |     /root/nltk_data...\n",
            "[nltk_data]    |   Package city_database is already up-to-date!\n",
            "[nltk_data]    | Downloading package cmudict to /root/nltk_data...\n",
            "[nltk_data]    |   Package cmudict is already up-to-date!\n",
            "[nltk_data]    | Downloading package comparative_sentences to\n",
            "[nltk_data]    |     /root/nltk_data...\n",
            "[nltk_data]    |   Package comparative_sentences is already up-to-\n",
            "[nltk_data]    |       date!\n",
            "[nltk_data]    | Downloading package comtrans to /root/nltk_data...\n",
            "[nltk_data]    |   Package comtrans is already up-to-date!\n",
            "[nltk_data]    | Downloading package conll2000 to /root/nltk_data...\n",
            "[nltk_data]    |   Package conll2000 is already up-to-date!\n",
            "[nltk_data]    | Downloading package conll2002 to /root/nltk_data...\n",
            "[nltk_data]    |   Package conll2002 is already up-to-date!\n",
            "[nltk_data]    | Downloading package conll2007 to /root/nltk_data...\n",
            "[nltk_data]    |   Package conll2007 is already up-to-date!\n",
            "[nltk_data]    | Downloading package crubadan to /root/nltk_data...\n",
            "[nltk_data]    |   Package crubadan is already up-to-date!\n",
            "[nltk_data]    | Downloading package dependency_treebank to\n",
            "[nltk_data]    |     /root/nltk_data...\n",
            "[nltk_data]    |   Package dependency_treebank is already up-to-date!\n",
            "[nltk_data]    | Downloading package dolch to /root/nltk_data...\n",
            "[nltk_data]    |   Package dolch is already up-to-date!\n",
            "[nltk_data]    | Downloading package europarl_raw to\n",
            "[nltk_data]    |     /root/nltk_data...\n",
            "[nltk_data]    |   Package europarl_raw is already up-to-date!\n",
            "[nltk_data]    | Downloading package extended_omw to\n",
            "[nltk_data]    |     /root/nltk_data...\n",
            "[nltk_data]    |   Package extended_omw is already up-to-date!\n",
            "[nltk_data]    | Downloading package floresta to /root/nltk_data...\n",
            "[nltk_data]    |   Package floresta is already up-to-date!\n",
            "[nltk_data]    | Downloading package framenet_v15 to\n",
            "[nltk_data]    |     /root/nltk_data...\n",
            "[nltk_data]    |   Package framenet_v15 is already up-to-date!\n",
            "[nltk_data]    | Downloading package framenet_v17 to\n",
            "[nltk_data]    |     /root/nltk_data...\n",
            "[nltk_data]    |   Package framenet_v17 is already up-to-date!\n",
            "[nltk_data]    | Downloading package gazetteers to /root/nltk_data...\n",
            "[nltk_data]    |   Package gazetteers is already up-to-date!\n",
            "[nltk_data]    | Downloading package genesis to /root/nltk_data...\n",
            "[nltk_data]    |   Package genesis is already up-to-date!\n",
            "[nltk_data]    | Downloading package gutenberg to /root/nltk_data...\n",
            "[nltk_data]    |   Package gutenberg is already up-to-date!\n",
            "[nltk_data]    | Downloading package ieer to /root/nltk_data...\n",
            "[nltk_data]    |   Package ieer is already up-to-date!\n",
            "[nltk_data]    | Downloading package inaugural to /root/nltk_data...\n",
            "[nltk_data]    |   Package inaugural is already up-to-date!\n",
            "[nltk_data]    | Downloading package indian to /root/nltk_data...\n",
            "[nltk_data]    |   Package indian is already up-to-date!\n",
            "[nltk_data]    | Downloading package jeita to /root/nltk_data...\n",
            "[nltk_data]    |   Package jeita is already up-to-date!\n",
            "[nltk_data]    | Downloading package kimmo to /root/nltk_data...\n",
            "[nltk_data]    |   Package kimmo is already up-to-date!\n",
            "[nltk_data]    | Downloading package knbc to /root/nltk_data...\n",
            "[nltk_data]    |   Package knbc is already up-to-date!\n",
            "[nltk_data]    | Downloading package lin_thesaurus to\n",
            "[nltk_data]    |     /root/nltk_data...\n",
            "[nltk_data]    |   Package lin_thesaurus is already up-to-date!\n",
            "[nltk_data]    | Downloading package mac_morpho to /root/nltk_data...\n",
            "[nltk_data]    |   Package mac_morpho is already up-to-date!\n",
            "[nltk_data]    | Downloading package machado to /root/nltk_data...\n",
            "[nltk_data]    |   Package machado is already up-to-date!\n",
            "[nltk_data]    | Downloading package masc_tagged to /root/nltk_data...\n",
            "[nltk_data]    |   Package masc_tagged is already up-to-date!\n",
            "[nltk_data]    | Downloading package movie_reviews to\n",
            "[nltk_data]    |     /root/nltk_data...\n",
            "[nltk_data]    |   Package movie_reviews is already up-to-date!\n",
            "[nltk_data]    | Downloading package mte_teip5 to /root/nltk_data...\n",
            "[nltk_data]    |   Package mte_teip5 is already up-to-date!\n",
            "[nltk_data]    | Downloading package names to /root/nltk_data...\n",
            "[nltk_data]    |   Package names is already up-to-date!\n",
            "[nltk_data]    | Downloading package nombank.1.0 to /root/nltk_data...\n",
            "[nltk_data]    |   Package nombank.1.0 is already up-to-date!\n",
            "[nltk_data]    | Downloading package nonbreaking_prefixes to\n",
            "[nltk_data]    |     /root/nltk_data...\n",
            "[nltk_data]    |   Package nonbreaking_prefixes is already up-to-date!\n",
            "[nltk_data]    | Downloading package nps_chat to /root/nltk_data...\n",
            "[nltk_data]    |   Package nps_chat is already up-to-date!\n",
            "[nltk_data]    | Downloading package omw to /root/nltk_data...\n",
            "[nltk_data]    |   Package omw is already up-to-date!\n",
            "[nltk_data]    | Downloading package omw-1.4 to /root/nltk_data...\n",
            "[nltk_data]    |   Package omw-1.4 is already up-to-date!\n",
            "[nltk_data]    | Downloading package opinion_lexicon to\n",
            "[nltk_data]    |     /root/nltk_data...\n",
            "[nltk_data]    |   Package opinion_lexicon is already up-to-date!\n",
            "[nltk_data]    | Downloading package panlex_swadesh to\n",
            "[nltk_data]    |     /root/nltk_data...\n",
            "[nltk_data]    |   Package panlex_swadesh is already up-to-date!\n",
            "[nltk_data]    | Downloading package paradigms to /root/nltk_data...\n",
            "[nltk_data]    |   Package paradigms is already up-to-date!\n",
            "[nltk_data]    | Downloading package pe08 to /root/nltk_data...\n",
            "[nltk_data]    |   Package pe08 is already up-to-date!\n",
            "[nltk_data]    | Downloading package pil to /root/nltk_data...\n",
            "[nltk_data]    |   Package pil is already up-to-date!\n",
            "[nltk_data]    | Downloading package pl196x to /root/nltk_data...\n",
            "[nltk_data]    |   Package pl196x is already up-to-date!\n",
            "[nltk_data]    | Downloading package ppattach to /root/nltk_data...\n",
            "[nltk_data]    |   Package ppattach is already up-to-date!\n",
            "[nltk_data]    | Downloading package problem_reports to\n",
            "[nltk_data]    |     /root/nltk_data...\n",
            "[nltk_data]    |   Package problem_reports is already up-to-date!\n",
            "[nltk_data]    | Downloading package product_reviews_1 to\n",
            "[nltk_data]    |     /root/nltk_data...\n",
            "[nltk_data]    |   Package product_reviews_1 is already up-to-date!\n",
            "[nltk_data]    | Downloading package product_reviews_2 to\n",
            "[nltk_data]    |     /root/nltk_data...\n",
            "[nltk_data]    |   Package product_reviews_2 is already up-to-date!\n",
            "[nltk_data]    | Downloading package propbank to /root/nltk_data...\n",
            "[nltk_data]    |   Package propbank is already up-to-date!\n",
            "[nltk_data]    | Downloading package pros_cons to /root/nltk_data...\n",
            "[nltk_data]    |   Package pros_cons is already up-to-date!\n",
            "[nltk_data]    | Downloading package ptb to /root/nltk_data...\n",
            "[nltk_data]    |   Package ptb is already up-to-date!\n",
            "[nltk_data]    | Downloading package qc to /root/nltk_data...\n",
            "[nltk_data]    |   Package qc is already up-to-date!\n",
            "[nltk_data]    | Downloading package reuters to /root/nltk_data...\n",
            "[nltk_data]    |   Package reuters is already up-to-date!\n",
            "[nltk_data]    | Downloading package rte to /root/nltk_data...\n",
            "[nltk_data]    |   Package rte is already up-to-date!\n",
            "[nltk_data]    | Downloading package semcor to /root/nltk_data...\n",
            "[nltk_data]    |   Package semcor is already up-to-date!\n",
            "[nltk_data]    | Downloading package senseval to /root/nltk_data...\n",
            "[nltk_data]    |   Package senseval is already up-to-date!\n",
            "[nltk_data]    | Downloading package sentence_polarity to\n",
            "[nltk_data]    |     /root/nltk_data...\n",
            "[nltk_data]    |   Package sentence_polarity is already up-to-date!\n",
            "[nltk_data]    | Downloading package sentiwordnet to\n",
            "[nltk_data]    |     /root/nltk_data...\n",
            "[nltk_data]    |   Package sentiwordnet is already up-to-date!\n",
            "[nltk_data]    | Downloading package shakespeare to /root/nltk_data...\n",
            "[nltk_data]    |   Package shakespeare is already up-to-date!\n",
            "[nltk_data]    | Downloading package sinica_treebank to\n",
            "[nltk_data]    |     /root/nltk_data...\n",
            "[nltk_data]    |   Package sinica_treebank is already up-to-date!\n",
            "[nltk_data]    | Downloading package smultron to /root/nltk_data...\n",
            "[nltk_data]    |   Package smultron is already up-to-date!\n",
            "[nltk_data]    | Downloading package state_union to /root/nltk_data...\n",
            "[nltk_data]    |   Package state_union is already up-to-date!\n",
            "[nltk_data]    | Downloading package stopwords to /root/nltk_data...\n",
            "[nltk_data]    |   Package stopwords is already up-to-date!\n",
            "[nltk_data]    | Downloading package subjectivity to\n",
            "[nltk_data]    |     /root/nltk_data...\n",
            "[nltk_data]    |   Package subjectivity is already up-to-date!\n",
            "[nltk_data]    | Downloading package swadesh to /root/nltk_data...\n",
            "[nltk_data]    |   Package swadesh is already up-to-date!\n",
            "[nltk_data]    | Downloading package switchboard to /root/nltk_data...\n",
            "[nltk_data]    |   Package switchboard is already up-to-date!\n",
            "[nltk_data]    | Downloading package timit to /root/nltk_data...\n",
            "[nltk_data]    |   Package timit is already up-to-date!\n",
            "[nltk_data]    | Downloading package toolbox to /root/nltk_data...\n",
            "[nltk_data]    |   Package toolbox is already up-to-date!\n",
            "[nltk_data]    | Downloading package treebank to /root/nltk_data...\n",
            "[nltk_data]    |   Package treebank is already up-to-date!\n",
            "[nltk_data]    | Downloading package twitter_samples to\n",
            "[nltk_data]    |     /root/nltk_data...\n",
            "[nltk_data]    |   Package twitter_samples is already up-to-date!\n",
            "[nltk_data]    | Downloading package udhr to /root/nltk_data...\n",
            "[nltk_data]    |   Package udhr is already up-to-date!\n",
            "[nltk_data]    | Downloading package udhr2 to /root/nltk_data...\n",
            "[nltk_data]    |   Package udhr2 is already up-to-date!\n",
            "[nltk_data]    | Downloading package unicode_samples to\n",
            "[nltk_data]    |     /root/nltk_data...\n",
            "[nltk_data]    |   Package unicode_samples is already up-to-date!\n",
            "[nltk_data]    | Downloading package universal_treebanks_v20 to\n",
            "[nltk_data]    |     /root/nltk_data...\n",
            "[nltk_data]    |   Package universal_treebanks_v20 is already up-to-\n",
            "[nltk_data]    |       date!\n",
            "[nltk_data]    | Downloading package verbnet to /root/nltk_data...\n",
            "[nltk_data]    |   Package verbnet is already up-to-date!\n",
            "[nltk_data]    | Downloading package verbnet3 to /root/nltk_data...\n",
            "[nltk_data]    |   Package verbnet3 is already up-to-date!\n",
            "[nltk_data]    | Downloading package webtext to /root/nltk_data...\n",
            "[nltk_data]    |   Package webtext is already up-to-date!\n",
            "[nltk_data]    | Downloading package wordnet to /root/nltk_data...\n",
            "[nltk_data]    |   Package wordnet is already up-to-date!\n",
            "[nltk_data]    | Downloading package wordnet2021 to /root/nltk_data...\n",
            "[nltk_data]    |   Package wordnet2021 is already up-to-date!\n",
            "[nltk_data]    | Downloading package wordnet2022 to /root/nltk_data...\n",
            "[nltk_data]    |   Package wordnet2022 is already up-to-date!\n",
            "[nltk_data]    | Downloading package wordnet31 to /root/nltk_data...\n",
            "[nltk_data]    |   Package wordnet31 is already up-to-date!\n",
            "[nltk_data]    | Downloading package wordnet_ic to /root/nltk_data...\n",
            "[nltk_data]    |   Package wordnet_ic is already up-to-date!\n",
            "[nltk_data]    | Downloading package words to /root/nltk_data...\n",
            "[nltk_data]    |   Package words is already up-to-date!\n",
            "[nltk_data]    | Downloading package ycoe to /root/nltk_data...\n",
            "[nltk_data]    |   Package ycoe is already up-to-date!\n",
            "[nltk_data]    | \n",
            "[nltk_data]  Done downloading collection all-corpora\n",
            "[nltk_data] Downloading package punkt to /root/nltk_data...\n",
            "[nltk_data]   Package punkt is already up-to-date!\n"
          ]
        }
      ],
      "source": [
        "import cudf\n",
        "%load_ext cudf.pandas\n",
        "# %reload_ext cudf.pandas\n",
        "\n",
        "import pandas as pd\n",
        "import numpy as np\n",
        "import random\n",
        "import pytz\n",
        "import datetime\n",
        "from collections import defaultdict\n",
        "from textblob import TextBlob\n",
        "from wordcloud import WordCloud\n",
        "import pandas as pd\n",
        "from sklearn.feature_extraction.text import TfidfVectorizer\n",
        "from sklearn.cluster import KMeans\n",
        "import nltk\n",
        "from nltk.corpus import stopwords\n",
        "from nltk.tokenize import word_tokenize\n",
        "from sklearn.decomposition import PCA\n",
        "import matplotlib.pyplot as plt\n",
        "import re\n",
        "import numpy as np\n",
        "from bs4 import BeautifulSoup\n",
        "from nltk.stem import WordNetLemmatizer\n",
        "from nltk.sentiment.vader import SentimentIntensityAnalyzer\n",
        "import seaborn as sns\n",
        "import matplotlib.pyplot as plt\n",
        "from wordcloud import WordCloud, STOPWORDS\n",
        "from sklearn.feature_extraction.text import TfidfVectorizer\n",
        "from sklearn.decomposition import LatentDirichletAllocation\n",
        "\n",
        "#For Roberta\n",
        "from transformers import AutoTokenizer, AutoModelForSequenceClassification#\n",
        "from scipy.special import softmax\n",
        "\n",
        "# Visualization\n",
        "import seaborn as sns\n",
        "import matplotlib.pyplot as plt\n",
        "import matplotlib.patches as mpatches\n",
        "from matplotlib.dates import DateFormatter\n",
        "import plotly.express as px\n",
        "import plotly.graph_objects as go\n",
        "import missingno as msno\n",
        "from IPython.display import HTML,display\n",
        "from tqdm import tqdm\n",
        "\n",
        "\n",
        "import warnings\n",
        "warnings.filterwarnings(\"ignore\")\n",
        "\n",
        "import time\n",
        "from datetime import timedelta\n",
        "\n",
        "\n",
        "nltk.download('all-corpora')\n",
        "nltk.download('punkt')\n",
        "\n",
        "\n",
        "\n",
        "from nltk.corpus import stopwords\n",
        "from nltk.tokenize import word_tokenize\n",
        "from nltk.stem import WordNetLemmatizer\n",
        "from bs4 import BeautifulSoup\n",
        "import re\n",
        "\n",
        "from tqdm.notebook import tqdm\n",
        "tqdm.pandas()\n",
        "\n",
        "print(pd)\n",
        "\n",
        "# Initialize the lemmatizer and stopwords\n",
        "lemmatizer = WordNetLemmatizer()\n",
        "stop_words = set(stopwords.words('english'))\n",
        "\n",
        "pd.set_option('display.max_columns', 25)\n",
        "pd.set_option('display.max_rows', 70)\n",
        "pd.set_option('display.min_rows', 5)\n",
        "pd.set_option('display.max_colwidth', 1000)\n"
      ]
    },
    {
      "cell_type": "code",
      "source": [
        "from google.colab import drive\n",
        "drive.mount('/content/drive/')\n",
        "\n",
        "# %reload_ext cudf.pandas\n",
        "# df_original = pd.read_csv(\"/kaggle/input/reddit-on-israel-palestine-daily-updated/reddit_opinion_PSE_ISR.csv\")\n",
        "# df_original = pd.read_csv(r\"c:\\Users\\tomar\\Documents\\Sheffield Sem 2\\Research And Dissertation Preparation\\Final_Dissertation\\DataSet\\reddit_opinion_PSE_ISR.csv\")\n",
        "start_time = time.monotonic()\n",
        "df_original = pd.read_csv(\"/content/drive/MyDrive/Dissertation/Dataset/reddit_opinion_PSE_ISR_cleaned_1.csv\")\n",
        "end_time = time.monotonic()\n",
        "print(timedelta(seconds=end_time - start_time))\n",
        "df = df_original.copy()\n",
        "# df.sample(1)"
      ],
      "metadata": {
        "id": "kcqqPv3JT05h"
      },
      "execution_count": null,
      "outputs": []
    },
    {
      "cell_type": "markdown",
      "metadata": {
        "id": "qxmQdepydD4d"
      },
      "source": [
        "# Data Exploration and Cleaning"
      ]
    },
    {
      "cell_type": "markdown",
      "metadata": {
        "id": "mmYQz8nt9Emr"
      },
      "source": [
        "## Bypass"
      ]
    },
    {
      "cell_type": "code",
      "execution_count": 3,
      "metadata": {
        "colab": {
          "base_uri": "https://localhost:8080/",
          "height": 219
        },
        "id": "9jLz7nv6RlTy",
        "outputId": "7ad2948b-bb8a-4d5c-aede-8a18637335b3"
      },
      "outputs": [
        {
          "output_type": "error",
          "ename": "NameError",
          "evalue": "name 'df_no_text' is not defined",
          "traceback": [
            "\u001b[0;31m---------------------------------------------------------------------------\u001b[0m",
            "\u001b[0;31mNameError\u001b[0m                                 Traceback (most recent call last)",
            "\u001b[0;32m<ipython-input-3-7759eb0c3f02>\u001b[0m in \u001b[0;36m<cell line: 8>\u001b[0;34m()\u001b[0m\n\u001b[1;32m      6\u001b[0m \u001b[0;31m# prompt: when are values in post_id equal to values in comment_id column in the dataframe ?\u001b[0m\u001b[0;34m\u001b[0m\u001b[0;34m\u001b[0m\u001b[0m\n\u001b[1;32m      7\u001b[0m \u001b[0;34m\u001b[0m\u001b[0m\n\u001b[0;32m----> 8\u001b[0;31m \u001b[0mequal_values\u001b[0m \u001b[0;34m=\u001b[0m \u001b[0mdf_no_text\u001b[0m\u001b[0;34m[\u001b[0m\u001b[0mdf_no_text\u001b[0m\u001b[0;34m[\u001b[0m\u001b[0;34m'post_id'\u001b[0m\u001b[0;34m]\u001b[0m \u001b[0;34m==\u001b[0m \u001b[0mdf_no_text\u001b[0m\u001b[0;34m[\u001b[0m\u001b[0;34m'comment_id'\u001b[0m\u001b[0;34m]\u001b[0m\u001b[0;34m]\u001b[0m\u001b[0;34m\u001b[0m\u001b[0;34m\u001b[0m\u001b[0m\n\u001b[0m\u001b[1;32m      9\u001b[0m \u001b[0;32mif\u001b[0m \u001b[0mlen\u001b[0m\u001b[0;34m(\u001b[0m\u001b[0mequal_values\u001b[0m\u001b[0;34m)\u001b[0m \u001b[0;34m>\u001b[0m \u001b[0;36m0\u001b[0m\u001b[0;34m:\u001b[0m\u001b[0;34m\u001b[0m\u001b[0;34m\u001b[0m\u001b[0m\n\u001b[1;32m     10\u001b[0m   \u001b[0mprint\u001b[0m\u001b[0;34m(\u001b[0m\u001b[0;34mf\"There are {len(equal_values)} rows where post_id and comment_id are equal.\"\u001b[0m\u001b[0;34m)\u001b[0m\u001b[0;34m\u001b[0m\u001b[0;34m\u001b[0m\u001b[0m\n",
            "\u001b[0;31mNameError\u001b[0m: name 'df_no_text' is not defined"
          ]
        }
      ],
      "source": [
        "# exclude_cols = ['post_self_text', 'post_title', 'self_text', 'clean_text', 'clean_post_self_text']\n",
        "# included_cols = [col for col in df.columns if col not in exclude_cols]\n",
        "# print(len(included_cols), included_cols)\n",
        "# df_no_text = df[included_cols]\n",
        "# df_no_text.to_csv(\"/content/drive/MyDrive/Dissertation/Dataset/reddit_opinion_PSE_ISR_no_text.csv\")\n",
        "# prompt: when are values in post_id equal to values in comment_id column in the dataframe ?\n",
        "\n",
        "equal_values = df_no_text[df_no_text['post_id'] == df_no_text['comment_id']]\n",
        "if len(equal_values) > 0:\n",
        "  print(f\"There are {len(equal_values)} rows where post_id and comment_id are equal.\")\n",
        "  # Display the rows\n",
        "  display(equal_values)\n",
        "else:\n",
        "  print(\"There are no rows where post_id and comment_id are equal.\")\n",
        "\n",
        "# Get number of unique comment_id in df_no_text\n",
        "# num_unique_posts = df_no_text['comment_id'].nunique()\n",
        "# print(num_unique_posts)\n",
        "# print(df_no_text.count())\n",
        "# Plot histogram of comment_id\n",
        "# plt.figure(figsize=(10, 6))\n",
        "# plt.hist(df_no_text['comment_id'], bins=100)\n",
        "# plt.xlabel('Comment ID')\n",
        "# plt.ylabel('Frequency')\n",
        "# plt.title('Histogram of Comment IDs')\n",
        "# plt.show()\n",
        "\n",
        "df.shape\n",
        "df.columns\n",
        "df.head()\n",
        "df.dtypes"
      ]
    },
    {
      "cell_type": "markdown",
      "metadata": {
        "id": "mVC2IrRsdD4f"
      },
      "source": [
        "## ***Changing wrong data types***"
      ]
    },
    {
      "cell_type": "code",
      "execution_count": 4,
      "metadata": {
        "colab": {
          "base_uri": "https://localhost:8080/"
        },
        "id": "0HkBN24_dD4f",
        "outputId": "6f133aa8-b67e-471a-96cd-4abca669e62a"
      },
      "outputs": [
        {
          "output_type": "execute_result",
          "data": {
            "text/plain": [
              "Unnamed: 0                             int64\n",
              "comment_id                            object\n",
              "score                                  int64\n",
              "self_text                             object\n",
              "subreddit                             object\n",
              "created_time                  datetime64[ns]\n",
              "post_id                               object\n",
              "author_name                           object\n",
              "controversiality                       int64\n",
              "ups                                    int64\n",
              "downs                                  int64\n",
              "user_is_verified                        bool\n",
              "user_account_created_time     datetime64[ns]\n",
              "user_awardee_karma                   float64\n",
              "user_awarder_karma                   float64\n",
              "user_link_karma                      float64\n",
              "user_comment_karma                   float64\n",
              "user_total_karma                     float64\n",
              "post_score                             int64\n",
              "post_self_text                        object\n",
              "post_title                            object\n",
              "post_upvote_ratio                    float64\n",
              "post_thumbs_ups                        int64\n",
              "post_total_awards_received             int64\n",
              "post_created_time             datetime64[ns]\n",
              "clean_text                            object\n",
              "clean_post_self_text                  object\n",
              "dtype: object"
            ]
          },
          "metadata": {},
          "execution_count": 4
        }
      ],
      "source": [
        "# convert to datetime using pd.to_datetime\n",
        "df['created_time'] = pd.to_datetime(df['created_time'])\n",
        "df['post_created_time'] = pd.to_datetime(df['post_created_time'])\n",
        "df['user_account_created_time'] = pd.to_datetime(df['user_account_created_time'])\n",
        "\n",
        "df.dtypes"
      ]
    },
    {
      "cell_type": "markdown",
      "metadata": {
        "id": "vLwvFGHNdD4g"
      },
      "source": [
        "### ***Cleaning text columns for better analysis (Bypass)***"
      ]
    },
    {
      "cell_type": "code",
      "execution_count": null,
      "metadata": {
        "id": "XgnVp3IZdD4h"
      },
      "outputs": [],
      "source": [
        "def clean_text(text):\n",
        "    if isinstance(text, str):  # Check if the input is a string\n",
        "        # Remove URLs\n",
        "        text = re.sub(r'http\\S+', '', text)\n",
        "\n",
        "        # Remove HTML tags\n",
        "        soup = BeautifulSoup(text, 'html.parser')\n",
        "        text = soup.get_text()\n",
        "\n",
        "        # Remove special characters and lowercase the text\n",
        "        text = re.sub(r'[^a-zA-Z0-9\\s]', '', text).lower()\n",
        "\n",
        "        # Tokenization\n",
        "        tokens = word_tokenize(text)\n",
        "\n",
        "        # Lemmatization and removing stopwords\n",
        "        tokens = [lemmatizer.lemmatize(token) for token in tokens if token not in stop_words]\n",
        "\n",
        "        # Join the tokens back into a sentence\n",
        "        cleaned_text = ' '.join(tokens)\n",
        "\n",
        "        return cleaned_text\n",
        "    else:\n",
        "        return ''  # Return an empty string for non-string values\n",
        "\n",
        "\n",
        "# usage on 'self_text' column\n",
        "# df['clean_text'] = df['self_text'].apply(clean_text)\n",
        "\n",
        "# df.to_csv(r\"C:\\Users\\tomar\\Documents\\Sheffield Sem 2\\Research And Dissertation Preparation\\Final_Dissertation\\DataSet\\reddit_opinion_PSE_ISR_cleaned_1.csv\")"
      ]
    },
    {
      "cell_type": "code",
      "execution_count": null,
      "metadata": {
        "id": "_nXHkZwZdD4h"
      },
      "outputs": [],
      "source": [
        "# without Initialize the lemmatizer and stopwords {self_text} column\n",
        "for i in range(15):\n",
        "    print(df.self_text[i])\n",
        "# with Initialize the lemmatizer and stopwords for self_text column\n",
        "for i in range(15):\n",
        "    print(df.clean_text[i])\n",
        "# usage on 'post_self_text' column\n",
        "df['clean_post_self_text'] = df['post_self_text'].apply(clean_text)\n",
        "# without Initialize the lemmatizer and stopwords post_self_text column\n",
        "for i in range(15):\n",
        "    print(df.post_self_text[i])\n",
        "# with Initialize the lemmatizer and stopwords post_self_text column\n",
        "for i in range(15):\n",
        "    print(df.clean_post_self_text[i])"
      ]
    },
    {
      "cell_type": "markdown",
      "metadata": {
        "id": "NvyZaBIOdD4i"
      },
      "source": [
        "## ***Select data(posts+comments) starting from '2023-10-07'***"
      ]
    },
    {
      "cell_type": "code",
      "execution_count": 11,
      "metadata": {
        "colab": {
          "base_uri": "https://localhost:8080/"
        },
        "id": "N2Tw-VbJdD4j",
        "outputId": "21c894be-ee9c-4b5c-f3a5-a19ef9d9426b"
      },
      "outputs": [
        {
          "output_type": "stream",
          "name": "stdout",
          "text": [
            "Len. of data before 2023-10-07: 1547486\n",
            "Len. of data After 2023-10-07: 1544785\n",
            "Num. of dropped rows: 2701\n"
          ]
        }
      ],
      "source": [
        "print('Len. of data before 2023-10-07:' ,len(df))\n",
        "start_date = pd.to_datetime('2023-10-07')\n",
        "\n",
        "# data(posts+comments) starting from '2023-10-07'\n",
        "filtered_df = df[(df['post_created_time'] >= start_date) & (df['created_time'] >= start_date)]\n",
        "print('Len. of data After 2023-10-07:',len(filtered_df))\n",
        "print('Num. of dropped rows:',len(df)-len(filtered_df))"
      ]
    },
    {
      "cell_type": "code",
      "execution_count": 6,
      "metadata": {
        "colab": {
          "base_uri": "https://localhost:8080/"
        },
        "id": "MXNJLSQVdD4k",
        "outputId": "13edf21b-51dd-4506-9bb2-dfd658216e56"
      },
      "outputs": [
        {
          "output_type": "execute_result",
          "data": {
            "text/plain": [
              "1805025"
            ]
          },
          "metadata": {},
          "execution_count": 6
        }
      ],
      "source": [
        "# Get total number of missing values for all the dataset\n",
        "filtered_df.isnull().sum().sum()"
      ]
    },
    {
      "cell_type": "code",
      "execution_count": 7,
      "metadata": {
        "colab": {
          "base_uri": "https://localhost:8080/"
        },
        "id": "SjMYHFLqdD4k",
        "outputId": "21997687-a6b1-42bf-86b3-d354df7814db"
      },
      "outputs": [
        {
          "output_type": "execute_result",
          "data": {
            "text/plain": [
              "Unnamed: 0                         0\n",
              "comment_id                         0\n",
              "score                              0\n",
              "self_text                          7\n",
              "subreddit                          0\n",
              "created_time                       0\n",
              "post_id                            0\n",
              "author_name                        0\n",
              "controversiality                   0\n",
              "ups                                0\n",
              "downs                              0\n",
              "user_is_verified                   0\n",
              "user_account_created_time      61633\n",
              "user_awardee_karma               215\n",
              "user_awarder_karma               215\n",
              "user_link_karma                  215\n",
              "user_comment_karma               215\n",
              "user_total_karma                 215\n",
              "post_score                         0\n",
              "post_self_text                859237\n",
              "post_title                         0\n",
              "post_upvote_ratio                  0\n",
              "post_thumbs_ups                    0\n",
              "post_total_awards_received         0\n",
              "post_created_time                  0\n",
              "clean_text                     14667\n",
              "clean_post_self_text          868406\n",
              "dtype: int64"
            ]
          },
          "metadata": {},
          "execution_count": 7
        }
      ],
      "source": [
        "filtered_df.isnull().sum()"
      ]
    },
    {
      "cell_type": "markdown",
      "metadata": {
        "id": "XUV_BWp598qg"
      },
      "source": [
        "## Bypass"
      ]
    },
    {
      "cell_type": "markdown",
      "metadata": {
        "id": "dQ0-fgvIdD4k"
      },
      "source": [
        "***The post_self_text column contains the most null values,but This doesn't necessarily mean posts lack content; it's due to the dataset structure where post details get repeated for each comment.***"
      ]
    },
    {
      "cell_type": "markdown",
      "metadata": {
        "id": "XKkcI686dD4k"
      },
      "source": [
        "***See the dublicated data***"
      ]
    },
    {
      "cell_type": "code",
      "execution_count": null,
      "metadata": {
        "id": "OzqBsHeSdD4l"
      },
      "outputs": [],
      "source": [
        "# Check the dublicated posts in dataset\n",
        "print(f\" Duplicate Posts: {filtered_df[['post_title','post_self_text']].duplicated().sum()}\")"
      ]
    },
    {
      "cell_type": "code",
      "execution_count": null,
      "metadata": {
        "id": "urwnso7XdD4l"
      },
      "outputs": [],
      "source": [
        "# Check the dublicated comments in dataset\n",
        "print(f'Duplicate Comments: {filtered_df[[\"self_text\"]].duplicated().sum()}')"
      ]
    },
    {
      "cell_type": "markdown",
      "metadata": {
        "id": "yLmzQAesdD4l"
      },
      "source": [
        "> **However there are many duplicated values, but we can't remove all of them. Perhaps it will affect the results, due to many people can share the same post or have the same agreement in the comment.**"
      ]
    },
    {
      "cell_type": "markdown",
      "metadata": {
        "id": "LvGPIdQhdD4l"
      },
      "source": [
        "***show the most duplicated values***"
      ]
    },
    {
      "cell_type": "code",
      "execution_count": null,
      "metadata": {
        "id": "ce1pKkNYdD4l"
      },
      "outputs": [],
      "source": [
        "#show the most duplicated values in posts\n",
        "df_duplicated_postss = filtered_df[filtered_df.duplicated(subset=['post_self_text'])]\n",
        "post_self_text_countss = df_duplicated_postss['post_self_text'].value_counts().reset_index()\n",
        "post_self_text_countss.columns = ['post_self_text', 'count']\n",
        "post_self_text_countss.head(15)"
      ]
    },
    {
      "cell_type": "code",
      "execution_count": null,
      "metadata": {
        "id": "8xzvnPJOdD4m"
      },
      "outputs": [],
      "source": [
        "#show the most duplicated values in comments\n",
        "df_duplicated_comments= filtered_df[filtered_df.duplicated(subset=['self_text'])]\n",
        "self_text_counts = df_duplicated_comments['self_text'].value_counts().reset_index()\n",
        "self_text_counts.columns = ['self_text', 'count']\n",
        "self_text_counts.head(15)"
      ]
    },
    {
      "cell_type": "markdown",
      "metadata": {
        "id": "7cG_OWbzdD4m"
      },
      "source": [
        "# Sentiment analysis\n"
      ]
    },
    {
      "cell_type": "markdown",
      "metadata": {
        "id": "d930wSNVdD4m"
      },
      "source": [
        "> Some reddit posts can only have a post title and a photo or video. This could be useful for identifying posts."
      ]
    },
    {
      "cell_type": "code",
      "execution_count": null,
      "metadata": {
        "id": "wnj8hIUKCWVD"
      },
      "outputs": [],
      "source": [
        "# %load_ext cudf.pandas\n",
        "# %reload_ext cudf.pandas\n"
      ]
    },
    {
      "cell_type": "code",
      "execution_count": 16,
      "metadata": {
        "colab": {
          "base_uri": "https://localhost:8080/"
        },
        "id": "RccMMFdomcFq",
        "outputId": "e8547394-351e-4264-a428-fdfbe03c96ff"
      },
      "outputs": [
        {
          "output_type": "stream",
          "name": "stdout",
          "text": [
            "<module 'pandas' (ModuleAccelerator(fast=cudf, slow=pandas))>\n"
          ]
        }
      ],
      "source": [
        "# import cudf\n",
        "print(pd)"
      ]
    },
    {
      "cell_type": "markdown",
      "metadata": {
        "id": "3AKsuRF2dD4m"
      },
      "source": [
        "## 1. Roberta Sentiment Analysis  "
      ]
    },
    {
      "cell_type": "code",
      "execution_count": 13,
      "metadata": {
        "colab": {
          "base_uri": "https://localhost:8080/",
          "height": 177,
          "referenced_widgets": [
            "165c6ed46d6c44ba89bb0bdb6a18086d",
            "1ad867a5872a4dfa8507462ffbf969fb",
            "bb1d35e1f38d45b9b5e28084559e8df7",
            "dfe56397fcca4e29bd990f1216e783c4",
            "fe520e04df5b4c2095c812cf3b43c194",
            "c3a02652c66c42789193c512b25d193a",
            "c86facb46e974a1da2d9a63b8321fc66",
            "58f14944dde2422f9ec3f027753cf5ed",
            "33b585d8e6d84f298e057f1f92fb32e6",
            "58f2f73f31b04b5f844ed8b54f11f342",
            "718725d95c904228abf972f59c7e4e74",
            "534a8cb2078f4c6280f2d278fb3f1b8b",
            "5d4c6cf36674477da79c1912f9d510b6",
            "26b2e6094f074dfab848b15ee146e5f3",
            "a1024ed088fc43dd81a2d30a2ca1b931",
            "2cfbc7acb2e74aaea3d99f9a8d64567d",
            "85d8d10d9a074fb6978404200485f7a7",
            "f588222e126c45aa90d2f81a6eccd9c2",
            "223c8dd66eeb4b089eb0dde6deee1c44",
            "209d473dc3f24c63abd197c4131a88fc",
            "bf26121168ac49d7b09f109b02f95f0c",
            "028b47b6d76244e594949b85913a8afc",
            "08b1b7762609451482e30b157892c4f7",
            "b867469a7fc54cd59696a8d3dee6bdad",
            "1d6998b777754934a828c7ceef775e85",
            "6f8989e390ab4c11a4fa6ccf49f51c00",
            "6fa1a1075e96428c9641c2667b4d4438",
            "9609b0124b7d4a2ea790ebd15b9ea8f5",
            "853b681a9fa7497f9229740ce7add025",
            "1db95eada75546c0a1dc516a1b44db73",
            "a344e5a110ec4997932895bff4a24b39",
            "b8d06253a4d341f8ac14152cb27dfa9d",
            "63b4933314fb4cf9860b67cee156b6cf",
            "a12577f4edd144faa0b7368c1eb81c33",
            "cb1512b6dab54089a324f7829e873fad",
            "c2964569e96642ff9da11adf0b84ccd4",
            "39c11dd7e9b248a5b4db026d9a932d32",
            "cc0ddde117e74bc2b5cf69b2c6e877aa",
            "621a89c4e0fc4bc2858e7a98ce3aedaf",
            "3806866808674c3daf4bb0ec974284e2",
            "9edc8c358d7743278cee0c314a94d418",
            "861e9996cfa8464dbc18a775e3d7d8c4",
            "73f104f200e649ac9251f94ab3ea5f2b",
            "e19b547d311a4c34a496b1f2db1690ac",
            "25e7f0da024d41dc9aeb12ca04c48ee7",
            "1a77dc5730f84fc293eeb4cb2477f244",
            "1ee68d1d47074e4d8a66f7c031591c3b",
            "819ad4bd9051424c85f5b82f11e7dd14",
            "a3678922ab5949a6a29aa591761ee512",
            "f778d743b94841ac8d46380536a060a1",
            "4dd0fc7857c841acb4c4860af06eecf1",
            "2b191726f49f403dae469178fb674f30",
            "a82e15542d7a424090b3feb6917a2e56",
            "21c8b67f7998430cb7abc0e1d66d249b",
            "1eedaf76705e4e2aa7cf18cf9fdc5ad3"
          ]
        },
        "id": "LIVJ1DyKmIzL",
        "outputId": "3f2fba34-2b96-477b-b1d9-dd8d54fcf1bd"
      },
      "outputs": [
        {
          "output_type": "display_data",
          "data": {
            "text/plain": [
              "config.json:   0%|          | 0.00/747 [00:00<?, ?B/s]"
            ],
            "application/vnd.jupyter.widget-view+json": {
              "version_major": 2,
              "version_minor": 0,
              "model_id": "165c6ed46d6c44ba89bb0bdb6a18086d"
            }
          },
          "metadata": {}
        },
        {
          "output_type": "display_data",
          "data": {
            "text/plain": [
              "vocab.json:   0%|          | 0.00/899k [00:00<?, ?B/s]"
            ],
            "application/vnd.jupyter.widget-view+json": {
              "version_major": 2,
              "version_minor": 0,
              "model_id": "534a8cb2078f4c6280f2d278fb3f1b8b"
            }
          },
          "metadata": {}
        },
        {
          "output_type": "display_data",
          "data": {
            "text/plain": [
              "merges.txt:   0%|          | 0.00/456k [00:00<?, ?B/s]"
            ],
            "application/vnd.jupyter.widget-view+json": {
              "version_major": 2,
              "version_minor": 0,
              "model_id": "08b1b7762609451482e30b157892c4f7"
            }
          },
          "metadata": {}
        },
        {
          "output_type": "display_data",
          "data": {
            "text/plain": [
              "special_tokens_map.json:   0%|          | 0.00/150 [00:00<?, ?B/s]"
            ],
            "application/vnd.jupyter.widget-view+json": {
              "version_major": 2,
              "version_minor": 0,
              "model_id": "a12577f4edd144faa0b7368c1eb81c33"
            }
          },
          "metadata": {}
        },
        {
          "output_type": "display_data",
          "data": {
            "text/plain": [
              "pytorch_model.bin:   0%|          | 0.00/499M [00:00<?, ?B/s]"
            ],
            "application/vnd.jupyter.widget-view+json": {
              "version_major": 2,
              "version_minor": 0,
              "model_id": "25e7f0da024d41dc9aeb12ca04c48ee7"
            }
          },
          "metadata": {}
        }
      ],
      "source": [
        "MODEL = f'cardiffnlp/twitter-roberta-base-sentiment'\n",
        "tokenizer = AutoTokenizer.from_pretrained(MODEL)\n",
        "model = AutoModelForSequenceClassification.from_pretrained(MODEL)"
      ]
    },
    {
      "cell_type": "code",
      "execution_count": 17,
      "metadata": {
        "colab": {
          "base_uri": "https://localhost:8080/"
        },
        "id": "x4MEUHtpmV8w",
        "outputId": "7ee47702-1ca6-4e6c-fe23-c3088a70a96d"
      },
      "outputs": [
        {
          "output_type": "execute_result",
          "data": {
            "text/plain": [
              "(0.00528834, 0.6065087, 0.388203, 'neu')"
            ]
          },
          "metadata": {},
          "execution_count": 17
        }
      ],
      "source": [
        "def get_Roberta_Sentiment(text):\n",
        "    # ipdb.set_trace()\n",
        "    encoded_text = tokenizer(text, return_tensors='pt')\n",
        "    output = model(**encoded_text)\n",
        "    scores = output[0][0].detach().numpy()\n",
        "    # print(scores)\n",
        "    scores = softmax(scores)\n",
        "    sentiment_dict = {0: 'neg', 1: 'neu', 2: 'pos'}\n",
        "    sentiment = sentiment_dict[np.where(scores==scores.max())[0][0]]\n",
        "    out = {'neg': scores[0], 'neu': scores[1], 'pos': scores[2], 'sentiment': sentiment}\n",
        "    out_tuple = (out['neg'], out['neu'], out['pos'], out['sentiment'])\n",
        "    if len(out_tuple) == 4:\n",
        "        return out_tuple\n",
        "    else:\n",
        "      ipb.set_trace()\n",
        "get_Roberta_Sentiment('Sun rises in the east, and the sun sets in the west.')"
      ]
    },
    {
      "cell_type": "markdown",
      "metadata": {
        "id": "iFudZpT5u2FV"
      },
      "source": [
        "### 1.1 Roberta Post Sentiment Analysis"
      ]
    },
    {
      "cell_type": "code",
      "execution_count": null,
      "metadata": {
        "colab": {
          "base_uri": "https://localhost:8080/",
          "height": 67,
          "referenced_widgets": [
            "8738a7347ba64b7583a1bf98d8363d67",
            "3926761f6cd5478ba14da71def423461",
            "a39351b0070a48049f09c4db2110eb73",
            "d50577525f174181af7aad84eda6bd4c",
            "6f6905a9abbf44829d32317d61cd99d3",
            "d42c72cc90a04ae1bfa55460757589e4",
            "3d5cd459b8cc4c5da0214710d4c4fd9f",
            "a6a6738030ac4ecd9cd055e27ef8fde5",
            "c6483f37d06d4631a998e0c3950b8b92",
            "28d3a9bb04d54a7b91935414c6fa68c9",
            "3ab7a4c7e59d4439a7c65fd9ce0dc873"
          ]
        },
        "id": "tQPUMkAQ2lop",
        "outputId": "c851e083-7b13-4d8d-d92d-3f9d899c66f1"
      },
      "outputs": [
        {
          "output_type": "stream",
          "name": "stdout",
          "text": [
            "Time taken to drop duplicates: 0:00:00.275774\n"
          ]
        },
        {
          "output_type": "display_data",
          "data": {
            "text/plain": [
              "  0%|          | 0/28537 [00:00<?, ?it/s]"
            ],
            "application/vnd.jupyter.widget-view+json": {
              "version_major": 2,
              "version_minor": 0,
              "model_id": "8738a7347ba64b7583a1bf98d8363d67"
            }
          },
          "metadata": {}
        }
      ],
      "source": [
        "df_col, display_name =  'post_title','Post_Sentiment'\n",
        "post_sentiment_filtered_df=filtered_df[(~filtered_df[df_col].isna())]\n",
        "# Remove duplicate values from the df_col column , as the one post may be duplicated as it has many comments\n",
        "start_time_1 = time.monotonic()\n",
        "post_sentiment_filtered_df = post_sentiment_filtered_df.drop_duplicates(subset=[df_col])\n",
        "end_time_1 = time.monotonic()\n",
        "print(f\"Time taken to drop duplicates: {timedelta(seconds=end_time_1 - start_time_1)}\")\n",
        "# Calc sentiment score for each record\n",
        "# post_sentimenet_filtered_df['post_sentiment'] = post_sentimenet_filtered_df[df_col].apply(lambda x: TextBlob(str(x)).sentiment.polarity)\n",
        "# Assign sentiment category based on sentiment score\n",
        "# post_sentimenet_filtered_df['post_sentiment_category'] = post_sentimenet_filtered_df['post_sentiment'].apply(lambda x: 'Positive' if x > 0 else ('Negative' if x < 0 else 'Neutral'))\n",
        "start_time_2 = time.monotonic()\n",
        "psdf = post_sentiment_filtered_df\n",
        "psdf['post_title_rbrt_neg'],psdf['post_title_rbrt_neu'],\\\n",
        "psdf['post_title_rbrt_pos'],psdf['post_title_rbrt_sent'] = psdf[df_col].progress_apply(get_Roberta_Sentiment)\n",
        "end_time_2 = time.monotonic()\n",
        "print(f\"Time taken to get roberta sentiments: {timedelta(seconds=end_time_2 - start_time_2)}\")\n",
        "# Count the occurrences of each sentiment category\n",
        "sentiment_counts = psdf['rbrt_sent'].value_counts()\n",
        "sentiment_counts_df = sentiment_counts.reset_index()\n",
        "sentiment_counts_df.columns = [display_name, 'Count']\n",
        "sentiment_counts_df = sentiment_counts_df.sort_values(by='Count', ascending=False)\n",
        "sentiment_counts_df.style.background_gradient(cmap='YlGnBu')\n"
      ]
    },
    {
      "cell_type": "code",
      "execution_count": null,
      "metadata": {
        "id": "1A1Zc4Xz-UU_"
      },
      "outputs": [],
      "source": [
        "\n",
        "post_self_text_filtered_df = filtered_df[(~filtered_df['clean_post_self_text'].isna())]\n",
        "# Remove duplicate values from the 'post_title' column , as the one post may be duplicated as it has many comments\n",
        "post_self_text_filtered_df = post_self_text_filtered_df.drop_duplicates(subset=['post_title'])\n",
        "\n",
        "# Calc sentiment score for each record\n",
        "pstfd = post_self_text_filtered_df\n",
        "pstfd['post_text_rbrt_neg'], pstfd['post_text_rbrt_neu'],\\\n",
        "pstfd['post_text_rbrt_pos'],pstfd['post_text_rbrt_sent'] = pstfd['clean_post_self_text'].progress_apply(get_Roberta_Sentiment)\n",
        "\n",
        "\n",
        "# Count the occurrences of each sentiment category\n",
        "sentiment_counts = pstfd['post_sentiment_category'].value_counts()\n",
        "sentiment_counts_df = sentiment_counts.reset_index()\n",
        "sentiment_counts_df.columns = ['Post_Sentiment', 'Count']\n",
        "sentiment_counts_df = sentiment_counts_df.sort_values(by='Count', ascending=False)\n",
        "sentiment_counts_df.style.background_gradient(cmap='YlGnBu')"
      ]
    },
    {
      "cell_type": "markdown",
      "metadata": {
        "id": "caGwJzhlxwlE"
      },
      "source": [
        "### Roberta Comment Sentiment Analysis"
      ]
    },
    {
      "cell_type": "code",
      "execution_count": null,
      "metadata": {
        "id": "2gaJem4hxwlK"
      },
      "outputs": [],
      "source": [
        "df_col, display_name =  'clean_text','Comment_Sentiment'\n",
        "#TODO generalize the variable, post_sentimen_filtered_df\n",
        "post_sentiment_filtered_df=filtered_df[(~filtered_df[df_col].isna())]\n",
        "# Remove duplicate values from the df_col column , as the one post may be duplicated as it has many comments\n",
        "start_time_1 = time.monotonic()\n",
        "post_sentiment_filtered_df = post_sentiment_filtered_df.drop_duplicates(subset=[df_col])\n",
        "end_time_1 = time.monotonic()\n",
        "print(f\"Time taken to drop duplicates: {timedelta(seconds=end_time_1 - start_time_1)}\")\n",
        "# Calc sentiment score for each record\n",
        "# post_sentimenet_filtered_df['post_sentiment'] = post_sentimenet_filtered_df[df_col].apply(lambda x: TextBlob(str(x)).sentiment.polarity)\n",
        "# Assign sentiment category based on sentiment score\n",
        "# post_sentimenet_filtered_df['post_sentiment_category'] = post_sentimenet_filtered_df['post_sentiment'].apply(lambda x: 'Positive' if x > 0 else ('Negative' if x < 0 else 'Neutral'))\n",
        "start_time_2 = time.monotonic()\n",
        "psdf = post_sentiment_filtered_df\n",
        "psdf['cmt_rbrt_neg'],psdf['cmt_rbrt_neu'],psdf['cmt_rbrt_pos'],psdf['cmt_rbrt_sent']  = psdf[df_col].progress_apply(get_Roberta_Sentiment)\n",
        "end_time_2 = time.monotonic()\n",
        "print(f\"Time taken to get roberta sentiments: {timedelta(seconds=end_time_2 - start_time_2)}\")\n",
        "# Count the occurrences of each sentiment category\n",
        "sentiment_counts = psdf['rbrt_sent'].value_counts()\n",
        "sentiment_counts_df = sentiment_counts.reset_index()\n",
        "sentiment_counts_df.columns = [display_name, 'Count']\n",
        "sentiment_counts_df = sentiment_counts_df.sort_values(by='Count', ascending=False)\n",
        "sentiment_counts_df.style.background_gradient(cmap='YlGnBu')"
      ]
    },
    {
      "cell_type": "markdown",
      "metadata": {
        "id": "pYyIO2fJ2_u0"
      },
      "source": [
        "## 2. TextBlob Sentiment Analysis"
      ]
    },
    {
      "cell_type": "markdown",
      "metadata": {
        "id": "FPRhioFldD4x"
      },
      "source": [
        "### 2.1 TextBlob Post Title sentiment analysis"
      ]
    },
    {
      "cell_type": "code",
      "execution_count": null,
      "metadata": {
        "id": "KsNG4sfZdD4x"
      },
      "outputs": [],
      "source": [
        "post_sentimenet_filtered_df=filtered_df[(~filtered_df['post_title'].isna())]\n",
        "# Remove duplicate values from the 'post_title' column , as the one post may be duplicated as it has many comments\n",
        "post_sentimenet_filtered_df = post_sentimenet_filtered_df.drop_duplicates(subset=['post_title'])\n",
        "\n",
        "# Calc sentiment score for each record\n",
        "post_sentimenet_filtered_df['post_sentiment'] = post_sentimenet_filtered_df['post_title'].apply(lambda x: TextBlob(str(x)).sentiment.polarity)\n",
        "# Assign sentiment category based on sentiment score\n",
        "post_sentimenet_filtered_df['post_sentiment_category'] = post_sentimenet_filtered_df['post_sentiment'].apply(lambda x: 'Positive' if x > 0 else ('Negative' if x < 0 else 'Neutral'))\n",
        "\n",
        "# Count the occurrences of each sentiment category\n",
        "sentiment_counts = post_sentimenet_filtered_df['post_sentiment_category'].value_counts()\n",
        "sentiment_counts_df = sentiment_counts.reset_index()\n",
        "sentiment_counts_df.columns = ['Post_Sentiment', 'Count']\n",
        "sentiment_counts_df = sentiment_counts_df.sort_values(by='Count', ascending=False)\n",
        "sentiment_counts_df.style.background_gradient(cmap='YlGnBu')"
      ]
    },
    {
      "cell_type": "code",
      "execution_count": null,
      "metadata": {
        "id": "iBpHDUlvdD4x"
      },
      "outputs": [],
      "source": [
        "fig = go.Figure(go.Funnelarea(\n",
        "    text =sentiment_counts_df.Post_Sentiment,\n",
        "    values = sentiment_counts_df.Count,\n",
        "    title = {\"position\": \"top center\"}\n",
        "    ))\n",
        "fig.update_layout(\n",
        "    title=\"Funnel-Chart of Sentiment Distribution | Posts\",\n",
        "    title_x=0.5, width=500, height=400)\n",
        "fig.show()\n",
        "\n",
        "\n",
        "plt.figure(figsize=(5, 5))\n",
        "ax = plt.pie(x =post_sentimenet_filtered_df['post_sentiment_category'].value_counts() , labels=post_sentimenet_filtered_df['post_sentiment_category'].value_counts().index, autopct = '%1.1f%%', explode = [0.03, 0.03, 0.08])\n",
        "plt.title('Sentiment Distribution | Posts')\n",
        "plt.show()"
      ]
    },
    {
      "cell_type": "markdown",
      "metadata": {
        "id": "XwW5KMHpdD4x"
      },
      "source": [
        "### 2.2 Text Blob post self text sentiment analysis"
      ]
    },
    {
      "cell_type": "code",
      "execution_count": null,
      "metadata": {
        "id": "eAJ5JgyFdD4y"
      },
      "outputs": [],
      "source": [
        "post_self_text_filtered_df = filtered_df[(~filtered_df['clean_post_self_text'].isna())]\n",
        "# Remove duplicate values from the 'post_title' column , as the one post may be duplicated as it has many comments\n",
        "post_self_text_filtered_df = post_self_text_filtered_df.drop_duplicates(subset=['post_title'])\n",
        "\n",
        "# Calc sentiment score for each record\n",
        "post_self_text_filtered_df['post_sentiment'] = post_self_text_filtered_df['clean_post_self_text'].apply(lambda x: TextBlob(str(x)).sentiment.polarity)\n",
        "# Assign sentiment category based on sentiment score\n",
        "post_self_text_filtered_df['post_sentiment_category'] = post_self_text_filtered_df['post_sentiment'].apply(lambda x: 'Positive' if x > 0 else ('Negative' if x < 0 else 'Neutral'))\n"
      ]
    },
    {
      "cell_type": "code",
      "execution_count": null,
      "metadata": {
        "id": "N6N2QVrgdD4y"
      },
      "outputs": [],
      "source": [
        "fig = go.Figure(go.Funnelarea(\n",
        "    text =sentiment_counts_df.Post_Sentiment,\n",
        "    values = sentiment_counts_df.Count,\n",
        "    title = {\"position\": \"top center\"}\n",
        "    ))\n",
        "fig.update_layout(\n",
        "    title=\"Funnel-Chart of Sentiment Distribution | Posts\",\n",
        "    title_x=0.5, width=500, height=400)\n",
        "fig.show()\n",
        "\n",
        "\n",
        "plt.figure(figsize=(5, 5))\n",
        "ax = plt.pie(x =post_self_text_filtered_df['post_sentiment_category'].value_counts() , labels=post_sentimenet_filtered_df['post_sentiment_category'].value_counts().index, autopct = '%1.1f%%', explode = [0.03, 0.03, 0.08])\n",
        "plt.title('Sentiment Distribution | Posts')\n",
        "plt.show()"
      ]
    },
    {
      "cell_type": "markdown",
      "metadata": {
        "id": "cFakWwVudD4y"
      },
      "source": [
        "### Examples of of TextBlob Positive, Negative, and Neutral posts"
      ]
    },
    {
      "cell_type": "code",
      "execution_count": null,
      "metadata": {
        "id": "RyycbXpVdD4y"
      },
      "outputs": [],
      "source": [
        "# Neutral posts\n",
        "post_self_text_filtered_df[\n",
        "    (post_self_text_filtered_df['post_sentiment_category'] == 'Neutral') &  (post_self_text_filtered_df['post_self_text'].notnull())\n",
        "    ].sample(n=5, random_state=random.seed())[['post_title', 'post_self_text', 'post_sentiment', 'post_sentiment_category']]"
      ]
    },
    {
      "cell_type": "code",
      "execution_count": null,
      "metadata": {
        "id": "D1qXauP6dD4z"
      },
      "outputs": [],
      "source": [
        "# positive posts\n",
        "post_self_text_filtered_df[\n",
        "    (post_self_text_filtered_df['post_sentiment_category'] == 'Positive') &  (post_self_text_filtered_df['post_self_text'].notnull())\n",
        "    ].sample(n=5, random_state=random.seed())[['post_title', 'post_self_text', 'post_sentiment', 'post_sentiment_category']]"
      ]
    },
    {
      "cell_type": "code",
      "execution_count": null,
      "metadata": {
        "id": "l14-r-ZvdD4z"
      },
      "outputs": [],
      "source": [
        "# Negative posts\n",
        "post_self_text_filtered_df[\n",
        "    (post_self_text_filtered_df['post_sentiment_category'] == 'Negative') &  (post_self_text_filtered_df['post_self_text'].notnull())\n",
        "    ].sample(n=5, random_state=random.seed())[['post_title', 'post_self_text', 'post_sentiment', 'post_sentiment_category']]"
      ]
    },
    {
      "cell_type": "markdown",
      "metadata": {
        "id": "Q12upPH5dD4z"
      },
      "source": [
        "#### **Analyzing Sentiment Trends Over Time**"
      ]
    },
    {
      "cell_type": "code",
      "execution_count": null,
      "metadata": {
        "id": "rTl2_eeidD40"
      },
      "outputs": [],
      "source": [
        "# Create legend patches\n",
        "positive_patch = mpatches.Patch(color='green', label='Positive')\n",
        "negative_patch = mpatches.Patch(color='red', label='Negative')\n",
        "neutral_patch = mpatches.Patch(color='blue', label='Neutral')\n",
        "\n",
        "# Group by 'created_time' and calculate the mean sentiment for each time period\n",
        "sentiment_by_time = post_self_text_filtered_df.groupby(post_self_text_filtered_df['post_created_time'].dt.date)['post_sentiment'].mean()\n",
        "\n",
        "# Replace 'sentiment_scores' with the actual variable or column containing sentiment scores\n",
        "sentiment_scores = post_self_text_filtered_df['post_sentiment']\n",
        "\n",
        "# Calculate dynamic thresholds based on percentiles\n",
        "percentile_25 = np.percentile(sentiment_scores, 25)\n",
        "percentile_75 = np.percentile(sentiment_scores, 75)\n",
        "\n",
        "# Classify sentiments based on dynamic thresholds\n",
        "post_self_text_filtered_df['post_sentiment_category'] = np.where(\n",
        "    post_self_text_filtered_df['post_sentiment'] < percentile_25, 'Negative',\n",
        "    np.where( post_self_text_filtered_df['post_sentiment'] > percentile_75, 'Positive','Neutral' ))\n",
        "\n",
        "# Plot the sentiment over time with lines connecting points and different colors for each category\n",
        "plt.figure(figsize=(15, 6))\n",
        "\n",
        "for idx, row in sentiment_by_time.reset_index().iterrows():\n",
        "    date = row['post_created_time']\n",
        "    sentiment = post_self_text_filtered_df.loc[post_self_text_filtered_df['post_created_time'].dt.date == date, 'post_sentiment_category'].iloc[0]\n",
        "\n",
        "    # Assign colors based on sentiment category\n",
        "    color = 'green' if sentiment == 'Positive' else ('red' if sentiment == 'Negative' else 'blue')\n",
        "\n",
        "    # Plot the point\n",
        "    plt.plot(date, row['post_sentiment'], marker='o', color=color)\n",
        "\n",
        "    # Connect with lines to the previous point\n",
        "    if idx > 0:\n",
        "        plt.plot([previous_date, date], [previous_sentiment, row['post_sentiment']], color=color)\n",
        "\n",
        "    previous_date = date\n",
        "    previous_sentiment = row['post_sentiment']\n",
        "\n",
        "# Add legend with colored boxes\n",
        "plt.legend(handles=[positive_patch, negative_patch, neutral_patch], title='Sentiment Category')\n",
        "plt.title('Sentiment Over Time | Posts')\n",
        "plt.xlabel('Date')\n",
        "plt.ylabel('Mean Sentiment Score')\n",
        "\n",
        "# Display every other date on x-axis\n",
        "plt.xticks(sentiment_by_time.index[::2], rotation=45, ha='right')\n",
        "\n",
        "plt.show()"
      ]
    },
    {
      "cell_type": "code",
      "execution_count": null,
      "metadata": {
        "id": "6ZAXmV_UdD40"
      },
      "outputs": [],
      "source": [
        "# Filter posts by sentiment category\n",
        "positive_posts = post_self_text_filtered_df[post_self_text_filtered_df['post_sentiment_category'] == 'Positive']\n",
        "negative_posts = post_self_text_filtered_df[post_self_text_filtered_df['post_sentiment_category'] == 'Negative']\n",
        "neutral_posts = post_self_text_filtered_df[post_self_text_filtered_df['post_sentiment_category'] == 'Neutral']\n",
        "\n",
        "# Group by 'post_created_time' and calculate counts\n",
        "positive_counts_per_day = positive_posts.groupby(positive_posts['post_created_time'].dt.date).size()\n",
        "negative_counts_per_day = negative_posts.groupby(negative_posts['post_created_time'].dt.date).size()\n",
        "neutral_counts_per_day = neutral_posts.groupby(neutral_posts['post_created_time'].dt.date).size()\n",
        "\n",
        "# Plotting using Seaborn\n",
        "plt.figure(figsize=(15, 6))\n",
        "\n",
        "# Plot lines for each sentiment category\n",
        "sns.lineplot(x=positive_counts_per_day.index, y=positive_counts_per_day.values, label='Positive',  color='green')\n",
        "sns.lineplot(x=negative_counts_per_day.index, y=negative_counts_per_day.values, label='Negative',  color='red')\n",
        "sns.lineplot(x=neutral_counts_per_day.index, y=neutral_counts_per_day.values, label='Neutral' , color='blue')\n",
        "\n",
        "plt.title('Sentiment Posts Over Time')\n",
        "plt.xlabel('Date')\n",
        "plt.ylabel('Number of Posts')\n",
        "plt.legend()\n",
        "plt.xticks(positive_counts_per_day.index[::2], rotation=45, ha='right')  # Display every second date for better visibility\n",
        "plt.show()"
      ]
    },
    {
      "cell_type": "markdown",
      "metadata": {
        "id": "RqV3t1pkdD41"
      },
      "source": [
        "### 2.3 TextBlob Comments sentiment analysis"
      ]
    },
    {
      "cell_type": "code",
      "execution_count": null,
      "metadata": {
        "id": "3Y2n6wNgdD41"
      },
      "outputs": [],
      "source": [
        "sentiment_filtered_df=filtered_df[(~filtered_df['clean_text'].isna())]\n",
        "sentiment_filtered_df = sentiment_filtered_df.drop_duplicates(subset=['clean_text'])\n",
        "\n",
        "sentiment_filtered_df['comment_sentiment'] = sentiment_filtered_df['clean_text'].apply(lambda x: TextBlob(str(x)).sentiment.polarity)\n",
        "sentiment_filtered_df['comment_sentiment_category'] = sentiment_filtered_df['comment_sentiment'].apply(lambda x: 'Positive' if x > 0 else ('Negative' if x < 0 else 'Neutral'))\n",
        "\n",
        "# Count the occurrences of each sentiment category\n",
        "sentiment_counts_df = pd.DataFrame(sentiment_filtered_df['comment_sentiment_category'].value_counts())\n",
        "sentiment_counts_df.columns = ['Count']\n",
        "sentiment_counts_df.index.name = 'comment_sentiment'\n",
        "sentiment_counts_df.reset_index(inplace=True)\n",
        "sentiment_counts_df = sentiment_counts_df.sort_values(by='Count', ascending=False)\n",
        "sentiment_counts_df.style.background_gradient(cmap='YlGnBu')"
      ]
    },
    {
      "cell_type": "markdown",
      "metadata": {
        "id": "u5mjhBK-dD42"
      },
      "source": [
        "### **Examples of Positive, Negative, and Neutral comments individually**"
      ]
    },
    {
      "cell_type": "code",
      "execution_count": null,
      "metadata": {
        "id": "dbKQ89d6dD42"
      },
      "outputs": [],
      "source": [
        "# Neutral comments\n",
        "sentiment_filtered_df[sentiment_filtered_df['comment_sentiment_category'] == 'Neutral'].sample(n=5, random_state=random.seed())[['self_text', 'comment_sentiment', 'comment_sentiment_category']]"
      ]
    },
    {
      "cell_type": "code",
      "execution_count": null,
      "metadata": {
        "id": "9vG_oqYhdD42"
      },
      "outputs": [],
      "source": [
        "# Positive comments\n",
        "sentiment_filtered_df[sentiment_filtered_df['comment_sentiment_category'] == 'Positive'].sample(n=5, random_state=random.seed())[['self_text', 'comment_sentiment', 'comment_sentiment_category']]"
      ]
    },
    {
      "cell_type": "code",
      "execution_count": null,
      "metadata": {
        "id": "cJ_q86JWdD43"
      },
      "outputs": [],
      "source": [
        "# Negative comments\n",
        "sentiment_filtered_df[sentiment_filtered_df['comment_sentiment_category'] == 'Negative'].sample(n=5, random_state=random.seed())[['self_text', 'comment_sentiment', 'comment_sentiment_category']]"
      ]
    },
    {
      "cell_type": "markdown",
      "metadata": {
        "id": "pl7YmwfDdD43"
      },
      "source": [
        "**Analyzing comments Trends Over Time**"
      ]
    },
    {
      "cell_type": "code",
      "execution_count": null,
      "metadata": {
        "id": "uHyYBMmodD42"
      },
      "outputs": [],
      "source": [
        "plt.figure(figsize=(5, 5))\n",
        "ax = plt.pie(x =sentiment_filtered_df['comment_sentiment_category'].value_counts() , labels=sentiment_filtered_df['comment_sentiment_category'].value_counts().index, autopct = '%1.1f%%', explode = [0.03, 0.03, 0.08])\n",
        "plt.title('Sentiment Distribution | Comments')\n",
        "plt.show()"
      ]
    },
    {
      "cell_type": "code",
      "execution_count": null,
      "metadata": {
        "id": "9b9WYqOydD43"
      },
      "outputs": [],
      "source": [
        "# Group by 'created_time' and calculate the mean sentiment for each time period\n",
        "sentiment_by_time = sentiment_filtered_df.groupby(sentiment_filtered_df['created_time'].dt.date)['comment_sentiment'].mean()\n",
        "\n",
        "# Replace 'sentiment_scores' with the actual variable or column containing sentiment scores\n",
        "sentiment_scores = sentiment_filtered_df['comment_sentiment']\n",
        "\n",
        "# Calculate dynamic thresholds based on percentiles\n",
        "percentile_25 = np.percentile(sentiment_scores, 25)\n",
        "percentile_75 = np.percentile(sentiment_scores, 75)\n",
        "\n",
        "# Classify sentiments based on dynamic thresholds\n",
        "sentiment_filtered_df['comment_sentiment_category'] = np.where(\n",
        "    sentiment_filtered_df['comment_sentiment'] < percentile_25, 'Negative',\n",
        "    np.where(\n",
        "        sentiment_filtered_df['comment_sentiment'] > percentile_75, 'Positive',\n",
        "        'Neutral'\n",
        "    )\n",
        ")\n",
        "\n",
        "# Plot the sentiment over time with lines connecting points and different colors for each category\n",
        "plt.figure(figsize=(12, 6))\n",
        "\n",
        "for idx, row in sentiment_by_time.reset_index().iterrows():\n",
        "    date = row['created_time']\n",
        "    sentiment = sentiment_filtered_df.loc[sentiment_filtered_df['created_time'].dt.date == date, 'comment_sentiment_category'].iloc[0]\n",
        "\n",
        "    # Assign colors based on sentiment category\n",
        "    color = 'green' if sentiment == 'Positive' else ('red' if sentiment == 'Negative' else 'blue')\n",
        "\n",
        "    # Plot the point\n",
        "    plt.plot(date, row['comment_sentiment'], marker='o', color=color)\n",
        "\n",
        "    # Connect with lines to the previous point\n",
        "    if idx > 0:\n",
        "        plt.plot([previous_date, date], [previous_sentiment, row['comment_sentiment']], color=color)\n",
        "\n",
        "    previous_date = date\n",
        "    previous_sentiment = row['comment_sentiment']\n",
        "\n",
        "# Add legend with colored boxes\n",
        "plt.legend(handles=[positive_patch, negative_patch, neutral_patch], title='Sentiment Category')\n",
        "plt.title('Sentiment Over Time | Comments')\n",
        "plt.xlabel('Date')\n",
        "plt.ylabel('Mean Sentiment Score')\n",
        "\n",
        "# Display every other date on x-axis\n",
        "plt.xticks(sentiment_by_time.index[::2], rotation=45, ha='right')\n",
        "\n",
        "plt.show()"
      ]
    },
    {
      "cell_type": "code",
      "execution_count": null,
      "metadata": {
        "id": "c2K71XyudD43"
      },
      "outputs": [],
      "source": [
        "# Filter comments by sentiment category\n",
        "positive_comment = sentiment_filtered_df[sentiment_filtered_df['comment_sentiment_category'] == 'Positive']\n",
        "negative_comment = sentiment_filtered_df[sentiment_filtered_df['comment_sentiment_category'] == 'Negative']\n",
        "neutral_comment = sentiment_filtered_df[sentiment_filtered_df['comment_sentiment_category'] == 'Neutral']\n",
        "\n",
        "# Group by 'post_created_time' and calculate counts\n",
        "positive_counts_per_day = positive_comment.groupby(positive_comment['created_time'].dt.date).size()\n",
        "negative_counts_per_day = negative_comment.groupby(negative_comment['created_time'].dt.date).size()\n",
        "neutral_counts_per_day = neutral_comment.groupby(neutral_comment['created_time'].dt.date).size()\n",
        "\n",
        "plt.figure(figsize=(15, 6))\n",
        "\n",
        "# Plot lines for each sentiment category\n",
        "sns.lineplot(x=positive_counts_per_day.index, y=positive_counts_per_day.values, label='Positive',  color='green')\n",
        "sns.lineplot(x=negative_counts_per_day.index, y=negative_counts_per_day.values, label='Negative',  color='red')\n",
        "sns.lineplot(x=neutral_counts_per_day.index, y=neutral_counts_per_day.values, label='Neutral' , color='blue')\n",
        "\n",
        "plt.title('Sentiment Comments Over Time')\n",
        "plt.xlabel('Date')\n",
        "plt.ylabel('Number of Comments')\n",
        "plt.legend()\n",
        "plt.xticks(positive_counts_per_day.index[::2], rotation=45, ha='right')  # Display every second date for better visibility\n",
        "plt.show()"
      ]
    },
    {
      "cell_type": "markdown",
      "metadata": {
        "id": "djQuB58RdD44"
      },
      "source": [
        "# EDA for the Dataset\n"
      ]
    },
    {
      "cell_type": "code",
      "execution_count": null,
      "metadata": {
        "id": "8iRCpcGXdD45"
      },
      "outputs": [],
      "source": [
        "filtered_df['post_created_time'] = pd.to_datetime(filtered_df['post_created_time'])\n",
        "\n",
        "# Calculate date difference\n",
        "date_difference = filtered_df['post_created_time'].max() - filtered_df['post_created_time'].min()\n",
        "\n",
        "# Calculate years, months, and days\n",
        "years = date_difference.days // 365\n",
        "months = (date_difference.days % 365) // 30\n",
        "days = (date_difference.days % 365) % 30\n",
        "\n",
        "result = f\"Data covers a period of {years} years, {months} months, {days} days, \\nfrom {filtered_df['post_created_time'].min().date()} till {filtered_df['post_created_time'].max().date()}\"\n",
        "print(result)\n",
        "print(filtered_df.shape)"
      ]
    },
    {
      "cell_type": "markdown",
      "metadata": {
        "id": "buR2CoaKdD45"
      },
      "source": [
        "## Highest post score & comment"
      ]
    },
    {
      "cell_type": "code",
      "execution_count": null,
      "metadata": {
        "id": "uqONphoUdD45"
      },
      "outputs": [],
      "source": [
        "pd.DataFrame(filtered_df.loc[filtered_df['post_score'].idxmax()][[ 'post_title', 'post_score', 'subreddit', 'post_created_time']]).T"
      ]
    },
    {
      "cell_type": "code",
      "execution_count": null,
      "metadata": {
        "id": "10m5nYkLdD46",
        "outputId": "032a4f8a-1ef6-41c1-e6c0-9a40b8911489"
      },
      "outputs": [
        {
          "ename": "NameError",
          "evalue": "name 'pd' is not defined",
          "output_type": "error",
          "traceback": [
            "\u001b[1;31m---------------------------------------------------------------------------\u001b[0m",
            "\u001b[1;31mNameError\u001b[0m                                 Traceback (most recent call last)",
            "Cell \u001b[1;32mIn[1], line 1\u001b[0m\n\u001b[1;32m----> 1\u001b[0m \u001b[43mpd\u001b[49m\u001b[38;5;241m.\u001b[39mDataFrame(filtered_df\u001b[38;5;241m.\u001b[39mloc[filtered_df[\u001b[38;5;124m'\u001b[39m\u001b[38;5;124mscore\u001b[39m\u001b[38;5;124m'\u001b[39m]\u001b[38;5;241m.\u001b[39midxmax()][[\u001b[38;5;124m'\u001b[39m\u001b[38;5;124mself_text\u001b[39m\u001b[38;5;124m'\u001b[39m, \u001b[38;5;124m'\u001b[39m\u001b[38;5;124mpost_title\u001b[39m\u001b[38;5;124m'\u001b[39m, \u001b[38;5;124m'\u001b[39m\u001b[38;5;124mscore\u001b[39m\u001b[38;5;124m'\u001b[39m, \u001b[38;5;124m'\u001b[39m\u001b[38;5;124msubreddit\u001b[39m\u001b[38;5;124m'\u001b[39m, \u001b[38;5;124m'\u001b[39m\u001b[38;5;124mcreated_time\u001b[39m\u001b[38;5;124m'\u001b[39m]])\u001b[38;5;241m.\u001b[39mT\n",
            "\u001b[1;31mNameError\u001b[0m: name 'pd' is not defined"
          ]
        }
      ],
      "source": [
        "pd.DataFrame(filtered_df.loc[filtered_df['score'].idxmax()][['self_text', 'post_title', 'score', 'subreddit', 'created_time']]).T"
      ]
    },
    {
      "cell_type": "markdown",
      "metadata": {
        "id": "Aqr_BsrIdD46"
      },
      "source": [
        "## Total Authors"
      ]
    },
    {
      "cell_type": "code",
      "execution_count": null,
      "metadata": {
        "id": "aF5qs9oDdD47"
      },
      "outputs": [],
      "source": [
        "print(\"Number of unique authors:\",  filtered_df['author_name'].nunique())\n"
      ]
    },
    {
      "cell_type": "markdown",
      "metadata": {
        "id": "7KyrkD1mdD47"
      },
      "source": [
        "### Correlation Analysis between scores, karma, upvotes/downvotes, and user_total_karma to identify patterns."
      ]
    },
    {
      "cell_type": "code",
      "execution_count": null,
      "metadata": {
        "id": "1l4FUNuLdD48"
      },
      "outputs": [],
      "source": [
        "# Select numerical features for correlation analysis\n",
        "numerical_columns = filtered_df.select_dtypes(include='number').columns\n",
        "\n",
        "# Create a subset DataFrame with selected features\n",
        "correlation_df = filtered_df[numerical_columns]\n",
        "\n",
        "# Calculate correlation matrix\n",
        "correlation_matrix = correlation_df.corr()\n",
        "\n",
        "\n",
        "mask = np.triu(np.ones_like(correlation_matrix, dtype=bool))\n",
        "plt.figure(figsize=(10, 5))\n",
        "sns.heatmap(correlation_matrix, annot=True, cmap='coolwarm', fmt='.2f', linewidths=.5, mask=mask)\n",
        "plt.title('Correlation Matrix 12-1-2024')\n",
        "plt.show()"
      ]
    },
    {
      "cell_type": "markdown",
      "metadata": {
        "id": "aPg0fV9tdD48"
      },
      "source": [
        "🍉 Insights 🍉\n",
        "\n",
        "From the provided correlation matrix, we can see that:\n",
        "\n",
        "1. High Correlation (0.75)to(1.0):\n",
        "\n",
        "* the columns \"post_thumbs_ups\" and \"post_score\" also have a perfect positive correlation (1.0), suggesting redundancy. We may choose to keep \"post_score\".\n",
        "* Similarly but with a lower score, the columns \"user_total_karma\" and \"user_comment_karma\" also have a high positive correlation (0.82), suggesting redundancy. We choose to drop \"user_comment_karma\".\n",
        "* In addition to another high positive correlation (0.75). we choose to drop \"user_link_karma\", and keep\"user_total_karma\".\n",
        "\n",
        "2. medium Correlations:\n",
        "\n",
        "* User_awardee_karma, user_total_karma have a moderate positive correlation, suggesting that users who write comments are also likely to takes awards.\n",
        "3. Columns with lowest Correlation:\n",
        "\n",
        "* The column \"downs\"has lowest correlation with other features, indicating no linear relationship. We consider dropping \"downs\" as it does not contribute meaningfully to our analysis"
      ]
    },
    {
      "cell_type": "code",
      "execution_count": null,
      "metadata": {
        "id": "05VIP00idD48"
      },
      "outputs": [],
      "source": [
        "filtered_df[['post_thumbs_ups','post_score','user_total_karma','user_comment_karma','user_link_karma','downs']]"
      ]
    },
    {
      "cell_type": "markdown",
      "metadata": {
        "id": "-xon0xLNdD48"
      },
      "source": [
        "### droping the unmeaningful features from the correlation analysis"
      ]
    },
    {
      "cell_type": "code",
      "execution_count": null,
      "metadata": {
        "id": "dO4dD6fhdD49"
      },
      "outputs": [],
      "source": [
        "filtered_df= filtered_df.drop(columns=['downs','post_thumbs_ups','user_comment_karma','user_link_karma'])\n",
        "filtered_df.columns"
      ]
    },
    {
      "cell_type": "code",
      "execution_count": null,
      "metadata": {
        "id": "B3Zf86hjdD49"
      },
      "outputs": [],
      "source": [
        "filtered_df.dtypes"
      ]
    },
    {
      "cell_type": "markdown",
      "metadata": {
        "id": "-L-O1gBDdD49"
      },
      "source": [
        "# Descriptive Statisics"
      ]
    },
    {
      "cell_type": "code",
      "execution_count": null,
      "metadata": {
        "id": "r_nSy7sEdD4-"
      },
      "outputs": [],
      "source": [
        "# Descriptive statistics for numerical features\n",
        "filtered_df.describe().T"
      ]
    },
    {
      "cell_type": "code",
      "execution_count": null,
      "metadata": {
        "id": "5L6H-_mudD4-"
      },
      "outputs": [],
      "source": [
        "# Descriptive statistics for categorical features\n",
        "filtered_df.describe(include='object').T"
      ]
    },
    {
      "cell_type": "markdown",
      "metadata": {
        "id": "Th7yol62dD4-"
      },
      "source": [
        "### exploring isrealpalestine Subreddit comments overtime"
      ]
    },
    {
      "cell_type": "code",
      "execution_count": null,
      "metadata": {
        "id": "7Gr2yDfudD4-"
      },
      "outputs": [],
      "source": [
        "popular_subreddits = filtered_df['subreddit'].value_counts()\n",
        "popular_subreddits.columns=['subreddit', 'count']\n",
        "popular_subreddits"
      ]
    },
    {
      "cell_type": "code",
      "execution_count": null,
      "metadata": {
        "id": "BwqlGXk0dD4-"
      },
      "outputs": [],
      "source": [
        "# Filter DataFrame for 'IsraelPalestine' subreddit\n",
        "filtered_df_israel_palestine = filtered_df[filtered_df['subreddit'] == 'IsraelPalestine']\n",
        "\n",
        "# Drop duplicates based on 'author_name' and 'user_account_created_time'\n",
        "filtered_df_unique = filtered_df_israel_palestine.drop_duplicates(subset=['author_name', 'self_text'], keep='first')\n",
        "\n",
        "filtered_df_unique['created_time'] = pd.to_datetime(filtered_df_unique['created_time']).dt.date\n",
        "\n",
        "# Get the dates with the most account creations\n",
        "top_dates = filtered_df_unique['created_time'].value_counts()\n",
        "\n",
        "# Create a DataFrame from the top dates\n",
        "top_dates_df = pd.DataFrame({'Date': top_dates.index, 'Account_Creations': top_dates.values})\n",
        "\n",
        "# Sort the DataFrame by date\n",
        "top_dates_df = top_dates_df.sort_values(by='Date')\n",
        "\n",
        "plt.figure(figsize=(12, 6))\n",
        "lineplot = sns.lineplot(x='Date', y='Account_Creations', data=top_dates_df, palette='viridis')\n",
        "\n",
        "# Add labels to the data points\n",
        "for x, y in zip(top_dates_df['Date'], top_dates_df['Account_Creations']):\n",
        "    plt.text(x, y, str(y), ha='center', va='bottom', fontsize=10, rotation=45)\n",
        "\n",
        "# Set the x-axis tick labels\n",
        "date_ticks = top_dates_df['Date'][::2]  # Display every second date\n",
        "plt.xticks(date_ticks, rotation=45, ha='right')\n",
        "\n",
        "plt.title('Daily Commenting Activity | \"IsraelPalestine\" Subreddit ')\n",
        "plt.xlabel('Date')\n",
        "plt.ylabel('Account Creations')\n",
        "plt.tight_layout()\n",
        "plt.show()"
      ]
    },
    {
      "cell_type": "markdown",
      "metadata": {
        "id": "IyBK4CUYdD4_"
      },
      "source": [
        "## 🍉 Insights 🍉\n",
        "\n",
        "The Earliest Comment Activity:\n",
        "* Notably, \"IsraelPalestine\"  started in early November.\n",
        "\n",
        "Top Day of highest comment rate:\n",
        "\n",
        "* It's intriguing to observe that \"Israelpalestine\" subreddit experienced peaks in commenting around mid-November.\n",
        "* \"IsraelPalestine\" stands out as having the highest total number of comments on its top day, reaching approximately +6359 comments on November 19, 2023.\n",
        "\n",
        "Day with the Lowest Comment Rate:\n",
        "\n",
        "* On November 6, 2023, the 'IsraelPalestine' subreddit experienced the lowest commenting rate, which is the first day for this Subreddit commuiny, with around 1063 comments.\n",
        "\n",
        "Consistency and Variability:\n",
        "\n",
        "* The data shows varying levels of commenting activity throughout the period, with fluctuations in comments creations. Yet a notable consistency is observed during mid-November, where the subreddit maintained a relatively high level of commenting activity over several consecutive days.\n",
        "\n",
        "Decrease in Engagement:\n",
        "\n",
        "* The gradual decline in comments towards the end of the dataset, especially from lately December, indicates a decrease in engagement."
      ]
    },
    {
      "cell_type": "markdown",
      "metadata": {
        "id": "a4jAOeoxdD4_"
      },
      "source": [
        "### Exploring the Most Engaging Subreddit | IsraelPalestine"
      ]
    },
    {
      "cell_type": "code",
      "execution_count": null,
      "metadata": {
        "id": "MUhaHwZrdD4_"
      },
      "outputs": [],
      "source": [
        "# Count unique active users in the 'IsraelPalestine' subreddit\n",
        "unique_users_count = filtered_df[filtered_df['subreddit'] == 'IsraelPalestine']['author_name'].nunique()\n",
        "display(HTML(f\"<h3>Number of unique users in IsraelPalestine subreddit: <b style='color:red'>{unique_users_count}</b></h3>\"))"
      ]
    },
    {
      "cell_type": "code",
      "execution_count": null,
      "metadata": {
        "id": "f7oZ84i5dD5A"
      },
      "outputs": [],
      "source": [
        "# Filter posts related to 'IsraelPalestine' subreddit\n",
        "posts_israel_palestine = filtered_df[(filtered_df['subreddit'] == 'IsraelPalestine') & (filtered_df['post_self_text'].notnull())]\n",
        "# Drop duplicate posts\n",
        "unique_posts = posts_israel_palestine.drop_duplicates(subset='post_self_text')\n",
        "posts_count = len(unique_posts)\n",
        "display(HTML(f\"<h3>Number of unique posts in IsraelPalestine subreddit : <b style='color:red'>{posts_count}</b></h3>\"))"
      ]
    },
    {
      "cell_type": "code",
      "execution_count": null,
      "metadata": {
        "id": "iRAVfO3QdD5A"
      },
      "outputs": [],
      "source": [
        "# Filter comments related to 'IsraelPalestine' subreddit\n",
        "comments_israel_palestine = filtered_df[(filtered_df['subreddit'] == 'IsraelPalestine') & (filtered_df['self_text'].notnull())]\n",
        "# Drop duplicate comments\n",
        "unique_comments = comments_israel_palestine.drop_duplicates(subset='self_text')\n",
        "# Get the counts\n",
        "comments_count = len(unique_comments)\n",
        "display(HTML(f\"<h3>Number of unique comments in IsraelPalestine subreddit : <b style='color:red'>{comments_count}</b></h3>\"))"
      ]
    },
    {
      "cell_type": "code",
      "execution_count": null,
      "metadata": {
        "id": "y6OfNtoxdD5A"
      },
      "outputs": [],
      "source": [
        "# Find the earliest post_created_time and corresponding post_self_text\n",
        "earliest_post = posts_israel_palestine.loc[posts_israel_palestine['post_created_time'].idxmin()]\n",
        "earliest_post_time = earliest_post['post_created_time']\n",
        "earliest_post_text = earliest_post['post_self_text']\n",
        "display(HTML(f\"<h4>Earliest post created time : <b style='color:red'>{earliest_post_time}</b></h4>\"))\n",
        "display(HTML(f\"<h4>Earliest post : <b style='color:red'>{earliest_post_text}</b></h4>\"))\n",
        "horizontal_line= '<hr style=\"border: none; background-color: #000000; height: 1px; margin: 5px 0;\">'\n",
        "\n",
        "display(HTML(horizontal_line))\n",
        "\n",
        "last_post = posts_israel_palestine.loc[posts_israel_palestine['post_created_time'].idxmax()]\n",
        "last_post_time = last_post['post_created_time']\n",
        "last_post_text = last_post['post_self_text']\n",
        "display(HTML(f\"<h4>Last post created time : <b style='color:red'>{last_post_time}</b></h4>\"))\n",
        "display(HTML(f\"<h4>Last post : <b style='color:red'>{last_post_text}</b></h4>\"))"
      ]
    },
    {
      "cell_type": "markdown",
      "metadata": {
        "id": "jr0WKhGrdD5A"
      },
      "source": [
        "### WORDCLOUD OF COMMENTS"
      ]
    },
    {
      "cell_type": "code",
      "execution_count": null,
      "metadata": {
        "id": "ReJiJBBxdD5B"
      },
      "outputs": [],
      "source": [
        "from wordcloud import WordCloud, STOPWORDS\n",
        "import matplotlib.pyplot as plt\n",
        "\n",
        "# Assuming 'post_created_time' and 'post_self_text' are columns in israel_palestine_df\n",
        "comment_words = ''\n",
        "stopwords = set(STOPWORDS)\n",
        "\n",
        "# Iterate through the DataFrame rows\n",
        "for index, row in sentiment_filtered_df.iterrows():\n",
        "    # Concatenate 'post_self_text' values\n",
        "    val = str(row['self_text'])\n",
        "\n",
        "    # Split the value into tokens\n",
        "    tokens = val.split()\n",
        "\n",
        "    # Convert each token to lowercase\n",
        "    tokens = [token.lower() for token in tokens]\n",
        "\n",
        "    # Join the lowercase tokens\n",
        "    comment_words += \" \".join(tokens) + \" \"\n",
        "\n",
        "# Generate WordCloud\n",
        "wordcloud = WordCloud(width=800, height=800,\n",
        "                      background_color='white',\n",
        "                      stopwords=stopwords,\n",
        "                      min_font_size=10).generate(comment_words)\n",
        "\n",
        "# Plot the WordCloud image\n",
        "plt.figure(figsize=(8, 8), facecolor=None)\n",
        "plt.imshow(wordcloud,  interpolation='bilinear')\n",
        "plt.axis(\"off\")\n",
        "plt.tight_layout(pad=0)\n",
        "plt.title(\"comments on 12-1-2024\")\n",
        "plt.show()"
      ]
    },
    {
      "cell_type": "markdown",
      "metadata": {
        "id": "2Lu1zNX2dD5B"
      },
      "source": [
        "### Trends Period"
      ]
    },
    {
      "cell_type": "code",
      "execution_count": null,
      "metadata": {
        "id": "OLfAVq34dD5B"
      },
      "outputs": [],
      "source": [
        "filtered_df_unique = filtered_df.copy()\n",
        "\n",
        "filtered_df_unique['created_time'] = pd.to_datetime(filtered_df_unique['created_time']).dt.date\n",
        "\n",
        "# Get the dates with the most account creations\n",
        "top_dates = filtered_df_unique['created_time'].value_counts()\n",
        "\n",
        "# Create a DataFrame from the top dates\n",
        "top_dates_df = pd.DataFrame({'Date': top_dates.index, 'Comment_Creations': top_dates.values})\n",
        "\n",
        "# Sort the DataFrame by date\n",
        "top_dates_df = top_dates_df.sort_values(by='Date')\n",
        "\n",
        "# Plotting using Seaborn\n",
        "plt.figure(figsize=(20,6))\n",
        "lineplot = sns.lineplot(x='Date', y='Comment_Creations', data=top_dates_df, palette='viridis')\n",
        "\n",
        "# Add labels to the data points\n",
        "for x, y in zip(top_dates_df['Date'], top_dates_df['Comment_Creations']):\n",
        "    plt.text(x, y, str(y), ha='center', va='bottom', fontsize=10, rotation=45)\n",
        "\n",
        "# Set the x-axis tick labels\n",
        "date_ticks = top_dates_df['Date'][::2]  # Display every second date\n",
        "plt.xticks(date_ticks, rotation=45, ha='right')\n",
        "\n",
        "# Highlight the time period from 24 November 2023 to 30 November 2023 in a different color\n",
        "highlight_start_date = pd.Timestamp('2023-11-24')\n",
        "highlight_end_date = pd.Timestamp('2023-11-30')\n",
        "\n",
        "lineplot.axvspan(highlight_start_date, highlight_end_date, color='lightcoral', alpha=0.3, label='Temporary Ceasefire Period')\n",
        "\n",
        "\n",
        "plt.title('Temporal Trends - Comments per Day | All Subreddits')\n",
        "plt.xlabel('Date')\n",
        "plt.ylabel('Total Number of Comments')\n",
        "plt.legend( title_fontsize='12', loc='upper left')\n",
        "plt.tight_layout()\n",
        "plt.show()"
      ]
    },
    {
      "cell_type": "markdown",
      "metadata": {
        "id": "C9Cx6UYEdD5B"
      },
      "source": [
        "### Ceasefire Impact:\n",
        "\n",
        "* There is a noticeable decline in the number of comments from November 24th to November 30th, possibly due to the announced ceasefire during that period. This decline aligns with a decrease in commenting activity."
      ]
    },
    {
      "cell_type": "code",
      "execution_count": null,
      "metadata": {
        "id": "ZlO5ZePidD5B"
      },
      "outputs": [],
      "source": [
        "# Assuming 'post_created_time' is a datetime column in israel_palestine_df\n",
        "filtered_df['post_created_time'] = pd.to_datetime(filtered_df['post_created_time'])\n",
        "\n",
        "# Group by date and count the number of posts for each day\n",
        "filtered_df.groupby(filtered_df['post_created_time'].dt.date)['post_self_text'].count()"
      ]
    },
    {
      "cell_type": "markdown",
      "metadata": {
        "id": "4IM_SsGQdD5C"
      },
      "source": [
        "# 🍉 Analysis"
      ]
    },
    {
      "cell_type": "code",
      "execution_count": null,
      "metadata": {
        "id": "neAu_9BudD5C"
      },
      "outputs": [],
      "source": [
        "# Assuming 'self_text' is the column containing posts/comments in your DataFrame\n",
        "emoji = '🍉'\n",
        "emoji_counts = filtered_df['self_text'].str.count(emoji)\n",
        "\n",
        "# Create a new column in the DataFrame with the counts\n",
        "filtered_df['emoji_counts'] = emoji_counts\n",
        "\n",
        "# Sum the counts to get the total occurrences\n",
        "total_occurrences = emoji_counts.sum()\n",
        "\n",
        "# Print the total occurrences\n",
        "print(f'Total occurrences of 🍉 emoji: {total_occurrences}')\n",
        "\n",
        "# Plot a bar chart with color gradient to visualize the occurrences\n",
        "plt.figure(figsize=(10, 6))\n",
        "sns.scatterplot(x=filtered_df.index, y=filtered_df['emoji_counts'], color='red')\n",
        "plt.xlabel('Index')\n",
        "plt.ylabel('Emoji Counts')\n",
        "plt.title('Scatter Plot of 🍉 Emoji Counts in Posts/Comments')\n",
        "plt.show()"
      ]
    },
    {
      "cell_type": "code",
      "execution_count": null,
      "metadata": {
        "id": "eBMcnTNRdD5C"
      },
      "outputs": [],
      "source": [
        "# Assuming 'self_text' is the column containing posts/comments in your DataFrame\n",
        "emoji = '🍉'\n",
        "emoji_counts = filtered_df['self_text'].str.count(emoji)\n",
        "\n",
        "# Create a new column in the DataFrame with the counts\n",
        "filtered_df['emoji_counts'] = emoji_counts\n",
        "\n",
        "# Sum the counts to get the total occurrences\n",
        "total_occurrences = emoji_counts.sum()\n",
        "\n",
        "# Print the total occurrences\n",
        "print(f'Total occurrences of 🍉 emoji: {total_occurrences}')\n",
        "\n",
        "# Filter rows where the emoji count is greater than 0\n",
        "comments_with_emoji = filtered_df[emoji_counts > 0]\n",
        "\n",
        "# Iterate over the DataFrame and print occurrences\n",
        "for index, row in comments_with_emoji.iterrows():\n",
        "    print(f'Index {index}: {row[\"self_text\"]}')\n",
        "\n",
        "# Plot a bar chart to visualize the occurrences\n",
        "# Your plotting code goes here"
      ]
    },
    {
      "cell_type": "code",
      "execution_count": null,
      "metadata": {
        "id": "fqz7ytcFdD5C"
      },
      "outputs": [],
      "source": [
        "import pandas as pd\n",
        "import matplotlib.pyplot as plt\n",
        "import seaborn as sns\n",
        "\n",
        "# Assuming 'self_text' is the column containing posts/comments in your DataFrame\n",
        "emojis_to_count = ['🍉', '🇵🇸']  # 🇵🇸 represents the Palestinian flag emoji\n",
        "\n",
        "# Create a new column in the DataFrame for each emoji count\n",
        "for emoji in emojis_to_count:\n",
        "    emoji_counts = filtered_df['self_text'].str.count(emoji)\n",
        "    filtered_df[f'{emoji}_counts'] = emoji_counts\n",
        "\n",
        "# Sum the counts for each emoji to get the total occurrences\n",
        "total_occurrences = filtered_df[[f'{emoji}_counts' for emoji in emojis_to_count]].sum()\n",
        "\n",
        "# Display the total occurrences of each emoji\n",
        "print(f'Total occurrences of each emoji: {total_occurrences}')\n",
        "\n",
        "# Plot a bar chart to visualize the occurrences\n",
        "plt.figure(figsize=(10, 6))\n",
        "sns.barplot(x=emojis_to_count, y=total_occurrences.values, palette='viridis')\n",
        "plt.xlabel('Emoji')\n",
        "plt.ylabel('Total Occurrences')\n",
        "plt.title('Total Occurrences of Emojis in Posts/Comments')\n",
        "plt.show()\n",
        "for emoji in emojis_to_count:\n",
        "    emoji_counts = filtered_df['self_text'].str.count(emoji)\n",
        "    filtered_df[f'{emoji}_counts'] = emoji_counts\n",
        "\n",
        "# Sum the counts for each emoji to get the total occurrences\n",
        "total_occurrences = filtered_df[[f'{emoji}_counts' for emoji in emojis_to_count]].sum()\n",
        "\n",
        "\n",
        "# Plot a pie chart to visualize the occurrences\n",
        "plt.figure(figsize=(8, 8))\n",
        "plt.pie(total_occurrences, labels=emojis_to_count, autopct='%1.1f%%', startangle=140, colors=['lightblue', 'lightgreen'])\n",
        "plt.title('Percentage of Occurrences of Emojis in Posts/Comments')\n",
        "plt.show()"
      ]
    },
    {
      "cell_type": "markdown",
      "metadata": {
        "id": "ZsMNbtNFdD5D"
      },
      "source": [
        "# Geopolitical Determination"
      ]
    },
    {
      "cell_type": "markdown",
      "metadata": {
        "id": "axs1MNEydD5D"
      },
      "source": [
        "Identify Author Locations\n",
        "Reddit, a predominantly anonymous community, faces challenges in discerning the geographical locations of its users. While Reddit has access to users' IP addresses, this information remains undisclosed to the public.\n",
        "\n",
        "An effective strategy involves recognizing that user activity, particularly engagement through comments, tends to peak from 12:00 to 21:00 UTC. By leveraging this temporal pattern, we can make a tentative inference about a user's likely country or region based on their prevalent posting times.\n",
        "\n",
        "To achieve this, we will follow these steps:\n",
        "\n",
        "1. Extract the hour component from the `created_time` column.\n",
        "2. Aggregate the data by `author_name` and compute the mean hour for each user.\n",
        "3. Utilize the mean hour to estimate the probable time zone associated with each user.\n",
        "4. Summarize the count of users within each estimated time zone."
      ]
    },
    {
      "cell_type": "code",
      "execution_count": null,
      "metadata": {
        "id": "KS-qzVHydD5D"
      },
      "outputs": [],
      "source": [
        "# Extract hour from 'created_time'\n",
        "filtered_df['hour'] = filtered_df['created_time'].dt.hour\n",
        "\n",
        "# Group by 'author_name' and calculate the mean hour\n",
        "df_users = filtered_df.groupby('author_name')['hour'].mean().reset_index()\n",
        "\n",
        "# Function to estimate timezone from mean hour\n",
        "def estimate_timezone(hour):\n",
        "    '''\n",
        "    estimate_timezone function takes the mean hour as input and estimates the timezone based on the assumption that the most active time\n",
        "    is between 12:00 - 21:00 local time. The function then calculates the difference (local_hour) between the mean hour and 12,and constructs\n",
        "    a string in the format \"UTC{local_hour:+03d}:00\". This string represents the estimated timezone with a UTC offset.\n",
        "\n",
        "    For example:\n",
        "    If the mean hour is 15, then local_hour would be 3, and the returned timezone would be \"UTC+03:00\".\n",
        "    If the mean hour is 9, then local_hour would be -3, and the returned timezone would be \"UTC-03:00\".\n",
        "    This way, you're expressing the timezone as a UTC offset relative to UTC time.\n",
        "    '''\n",
        "    # Assuming most active time is between 12:00 - 21:00 local time\n",
        "    local_hour = int (hour - 12)\n",
        "    return f\"UTC{local_hour:+03d}:00\"\n",
        "\n",
        "# Apply the timezone estimation function\n",
        "df_users['estimated_timezone'] = df_users['hour'].apply(estimate_timezone)\n",
        "\n",
        "# Count the number of users in each estimated timezone\n",
        "timezone_distribution = df_users['estimated_timezone'].value_counts()\n",
        "timezone_distribution"
      ]
    },
    {
      "cell_type": "code",
      "execution_count": null,
      "metadata": {
        "id": "U_DOQuM7dD5D"
      },
      "outputs": [],
      "source": [
        "#Aggregate the data by author_name and compute the mean hour for each user.\n",
        "filtered_df.groupby('author_name')['hour'].mean().reset_index()"
      ]
    },
    {
      "cell_type": "code",
      "execution_count": null,
      "metadata": {
        "id": "ES_KcRmbdD5E"
      },
      "outputs": [],
      "source": [
        "# Get a list of time zones\n",
        "time_zones = pytz.all_timezones\n",
        "\n",
        "# Create a mapping of UTC offsets to countries\n",
        "utc_region_mapping = defaultdict(list)\n",
        "\n",
        "for time_zone in time_zones:\n",
        "    tz = pytz.timezone(time_zone)\n",
        "    now = tz.localize(datetime.datetime.now())\n",
        "    offset = now.utcoffset()\n",
        "    utc_offset = offset.total_seconds() // 3600\n",
        "    utc_region_mapping[f'{utc_offset:+03.0f}:00'].append(time_zone)\n",
        "\n",
        "# Convert defaultdict to a regular dictionary\n",
        "utc_region_mapping = dict(utc_region_mapping)\n",
        "\n",
        "# Function to estimate region from UTC offset\n",
        "def estimate_region(estimated_timezone):\n",
        "    # Extract UTC offset from the 'estimated_timezone' column\n",
        "    utc_offset = estimated_timezone[-6:]\n",
        "\n",
        "    # Map UTC offset to region using the provided utc_region_mapping\n",
        "    return utc_region_mapping.get(utc_offset, 'Unknown')\n",
        "\n",
        "# Apply the region estimation function\n",
        "df_users['region'] = df_users['estimated_timezone'].apply(estimate_region)\n",
        "\n",
        "df_users.head()"
      ]
    },
    {
      "cell_type": "markdown",
      "metadata": {
        "id": "Dzsf63TrdD5E"
      },
      "source": [
        "# Controversiality Analysis"
      ]
    },
    {
      "cell_type": "code",
      "execution_count": null,
      "metadata": {
        "id": "nwEvWg5mdD5E"
      },
      "outputs": [],
      "source": [
        "filtered_df['controversiality'] = df_original['controversiality']\n",
        "# Create comment_df with non-NaN values in both self_text and post_self_text\n",
        "comment_df = filtered_df.dropna(subset=['self_text','post_self_text'])\n",
        "# drop duplicate comments (like comments by Reddit Commuinty)\n",
        "comment_df = comment_df.drop_duplicates(subset=['self_text'])\n",
        "controversiality_counts = comment_df['controversiality'].value_counts()\n",
        "controversiality_counts"
      ]
    },
    {
      "cell_type": "code",
      "execution_count": null,
      "metadata": {
        "id": "E6f1IAsYdD5E"
      },
      "outputs": [],
      "source": [
        "# Calculate controversiality percentages for each subreddit\n",
        "controversiality_percentages = comment_df.groupby('subreddit')['controversiality'].mean().sort_values(ascending=False)\n",
        "\n",
        "# Sort subreddits based on the highest comment_id\n",
        "subreddit_sorted = comment_df.groupby('subreddit')['comment_id'].count().sort_values(ascending=False).index\n",
        "\n",
        "# Set up subplots\n",
        "num_subplots = min(12, len(controversiality_percentages))  # Display only 12 charts\n",
        "num_cols = 6  # Display 6 charts per line\n",
        "num_rows = (num_subplots + num_cols - 1) // num_cols\n",
        "fig, axes = plt.subplots(nrows=num_rows, ncols=num_cols, figsize=(15, 5 * num_rows))\n",
        "axes = axes.flatten()\n",
        "\n",
        "# Plot pie charts for each subreddit\n",
        "for i, subreddit in enumerate(subreddit_sorted[:num_subplots]):\n",
        "    # Filter data for the current subreddit\n",
        "    subreddit_data = comment_df[comment_df['subreddit'] == subreddit]\n",
        "    # Calculate controversiality distribution\n",
        "    controversiality_counts = subreddit_data['controversiality'].value_counts()\n",
        "    # Plot the pie chart for the current subreddit\n",
        "    axes[i].pie(controversiality_counts, labels=controversiality_counts.index, autopct='%1.1f%%', startangle=90, colors=['lightcoral', 'lightblue'])\n",
        "    axes[i].set_title(f'{subreddit}')\n",
        "\n",
        "plt.tight_layout()\n",
        "plt.show()"
      ]
    },
    {
      "cell_type": "code",
      "execution_count": null,
      "metadata": {
        "id": "qtCKLmL5dD5F"
      },
      "outputs": [],
      "source": [
        "comment_df[comment_df['controversiality'] == 1].sort_values(by=['score','user_total_karma'], ascending=False).head()[['self_text', 'score', 'user_total_karma', 'controversiality']]"
      ]
    },
    {
      "cell_type": "code",
      "execution_count": null,
      "metadata": {
        "id": "hd986l9edD5F"
      },
      "outputs": [],
      "source": [
        "comment_df[comment_df['controversiality'] == 0].sort_values(by=['score','user_total_karma'], ascending=False).head()[['self_text', 'score', 'user_total_karma', 'controversiality']]"
      ]
    },
    {
      "cell_type": "markdown",
      "metadata": {
        "id": "oFX5Ce0EdD5F"
      },
      "source": [
        "# Topic modeling"
      ]
    },
    {
      "cell_type": "code",
      "execution_count": null,
      "metadata": {
        "id": "9nqmxFtxdD5H"
      },
      "outputs": [],
      "source": [
        "from sklearn.feature_extraction.text import TfidfVectorizer\n",
        "from sklearn.decomposition import LatentDirichletAllocation\n",
        "\n",
        "vectorizer = TfidfVectorizer(max_features=5000, stop_words='english')\n",
        "df['self_text'].fillna(\"\", inplace=True)\n",
        "tfidf_matrix = vectorizer.fit_transform(df['self_text'])\n",
        "lda_model = LatentDirichletAllocation(n_components=10, random_state=42, n_jobs=-1)  # Assuming 10 topics\n",
        "lda_topic_matrix = lda_model.fit_transform(tfidf_matrix)\n",
        "# Get the feature names (words) from the vectorizer\n",
        "feature_names = vectorizer.get_feature_names_out()\n",
        "\n",
        "# Get the top words for each topic\n",
        "# Number of words for each topic\n",
        "no_words_per_topic = 10\n",
        "top_words_per_topic = []\n",
        "for topic_idx, topic in enumerate(lda_model.components_):\n",
        "    top_words_idx = topic.argsort()[:-no_words_per_topic - 1:-1]\n",
        "    top_words = [feature_names[i] for i in top_words_idx]\n",
        "    top_words_per_topic.append(top_words)\n",
        "\n",
        "# Print the topics and related words\n",
        "for topic_idx, top_words in enumerate(top_words_per_topic):\n",
        "    print(f\"Topic {topic_idx + 1}:\")\n",
        "    print(\", \".join(top_words))\n",
        "    print()"
      ]
    },
    {
      "cell_type": "code",
      "execution_count": null,
      "metadata": {
        "id": "nzy4BEdNdD5I"
      },
      "outputs": [],
      "source": [
        "# Get the vocabulary indices for 'israel' and 'palestine' in your vectorizer\n",
        "israel_word_index = vectorizer.vocabulary_['israel']\n",
        "palestine_word_index = vectorizer.vocabulary_['palestine']"
      ]
    },
    {
      "cell_type": "code",
      "execution_count": null,
      "metadata": {
        "id": "Xsd8tJS7dD5I"
      },
      "outputs": [],
      "source": [
        "topic_term_distribution = lda_model.components_\n",
        "israel_topic_index = topic_term_distribution[:, israel_word_index].argmax()\n",
        "palestine_topic_index = topic_term_distribution[:, palestine_word_index].argmax()"
      ]
    },
    {
      "cell_type": "code",
      "execution_count": null,
      "metadata": {
        "id": "V2_DIFOPdD5I"
      },
      "outputs": [],
      "source": [
        "print(f\"The topic related with 'israel' is Topic {israel_topic_index + 1}:\")\n",
        "print(\", \".join(top_words_per_topic[israel_topic_index]))\n",
        "print()\n",
        "\n",
        "# Print the topics related with 'palestine'\n",
        "print(f\"The topic related with 'palestine' is Topic {palestine_topic_index + 1}:\")\n",
        "print(\", \".join(top_words_per_topic[palestine_topic_index]))\n",
        "print()"
      ]
    }
  ],
  "metadata": {
    "accelerator": "GPU",
    "colab": {
      "gpuType": "T4",
      "provenance": [],
      "collapsed_sections": [
        "mmYQz8nt9Emr",
        "vLwvFGHNdD4g",
        "XUV_BWp598qg",
        "FPRhioFldD4x",
        "XwW5KMHpdD4x",
        "cFakWwVudD4y",
        "Q12upPH5dD4z",
        "djQuB58RdD44",
        "-L-O1gBDdD49",
        "4IM_SsGQdD5C",
        "ZsMNbtNFdD5D",
        "Dzsf63TrdD5E",
        "oFX5Ce0EdD5F"
      ],
      "include_colab_link": true
    },
    "kaggle": {
      "accelerator": "none",
      "dataSources": [
        {
          "datasetId": 3848678,
          "sourceId": 8722590,
          "sourceType": "datasetVersion"
        }
      ],
      "dockerImageVersionId": 30626,
      "isGpuEnabled": false,
      "isInternetEnabled": false,
      "language": "python",
      "sourceType": "notebook"
    },
    "kernelspec": {
      "display_name": "Python 3",
      "name": "python3"
    },
    "language_info": {
      "codemirror_mode": {
        "name": "ipython",
        "version": 3
      },
      "file_extension": ".py",
      "mimetype": "text/x-python",
      "name": "python",
      "nbconvert_exporter": "python",
      "pygments_lexer": "ipython3",
      "version": "3.12.3"
    },
    "widgets": {
      "application/vnd.jupyter.widget-state+json": {
        "165c6ed46d6c44ba89bb0bdb6a18086d": {
          "model_module": "@jupyter-widgets/controls",
          "model_name": "HBoxModel",
          "model_module_version": "1.5.0",
          "state": {
            "_dom_classes": [],
            "_model_module": "@jupyter-widgets/controls",
            "_model_module_version": "1.5.0",
            "_model_name": "HBoxModel",
            "_view_count": null,
            "_view_module": "@jupyter-widgets/controls",
            "_view_module_version": "1.5.0",
            "_view_name": "HBoxView",
            "box_style": "",
            "children": [
              "IPY_MODEL_1ad867a5872a4dfa8507462ffbf969fb",
              "IPY_MODEL_bb1d35e1f38d45b9b5e28084559e8df7",
              "IPY_MODEL_dfe56397fcca4e29bd990f1216e783c4"
            ],
            "layout": "IPY_MODEL_fe520e04df5b4c2095c812cf3b43c194"
          }
        },
        "1ad867a5872a4dfa8507462ffbf969fb": {
          "model_module": "@jupyter-widgets/controls",
          "model_name": "HTMLModel",
          "model_module_version": "1.5.0",
          "state": {
            "_dom_classes": [],
            "_model_module": "@jupyter-widgets/controls",
            "_model_module_version": "1.5.0",
            "_model_name": "HTMLModel",
            "_view_count": null,
            "_view_module": "@jupyter-widgets/controls",
            "_view_module_version": "1.5.0",
            "_view_name": "HTMLView",
            "description": "",
            "description_tooltip": null,
            "layout": "IPY_MODEL_c3a02652c66c42789193c512b25d193a",
            "placeholder": "​",
            "style": "IPY_MODEL_c86facb46e974a1da2d9a63b8321fc66",
            "value": "config.json: 100%"
          }
        },
        "bb1d35e1f38d45b9b5e28084559e8df7": {
          "model_module": "@jupyter-widgets/controls",
          "model_name": "FloatProgressModel",
          "model_module_version": "1.5.0",
          "state": {
            "_dom_classes": [],
            "_model_module": "@jupyter-widgets/controls",
            "_model_module_version": "1.5.0",
            "_model_name": "FloatProgressModel",
            "_view_count": null,
            "_view_module": "@jupyter-widgets/controls",
            "_view_module_version": "1.5.0",
            "_view_name": "ProgressView",
            "bar_style": "success",
            "description": "",
            "description_tooltip": null,
            "layout": "IPY_MODEL_58f14944dde2422f9ec3f027753cf5ed",
            "max": 747,
            "min": 0,
            "orientation": "horizontal",
            "style": "IPY_MODEL_33b585d8e6d84f298e057f1f92fb32e6",
            "value": 747
          }
        },
        "dfe56397fcca4e29bd990f1216e783c4": {
          "model_module": "@jupyter-widgets/controls",
          "model_name": "HTMLModel",
          "model_module_version": "1.5.0",
          "state": {
            "_dom_classes": [],
            "_model_module": "@jupyter-widgets/controls",
            "_model_module_version": "1.5.0",
            "_model_name": "HTMLModel",
            "_view_count": null,
            "_view_module": "@jupyter-widgets/controls",
            "_view_module_version": "1.5.0",
            "_view_name": "HTMLView",
            "description": "",
            "description_tooltip": null,
            "layout": "IPY_MODEL_58f2f73f31b04b5f844ed8b54f11f342",
            "placeholder": "​",
            "style": "IPY_MODEL_718725d95c904228abf972f59c7e4e74",
            "value": " 747/747 [00:00&lt;00:00, 14.0kB/s]"
          }
        },
        "fe520e04df5b4c2095c812cf3b43c194": {
          "model_module": "@jupyter-widgets/base",
          "model_name": "LayoutModel",
          "model_module_version": "1.2.0",
          "state": {
            "_model_module": "@jupyter-widgets/base",
            "_model_module_version": "1.2.0",
            "_model_name": "LayoutModel",
            "_view_count": null,
            "_view_module": "@jupyter-widgets/base",
            "_view_module_version": "1.2.0",
            "_view_name": "LayoutView",
            "align_content": null,
            "align_items": null,
            "align_self": null,
            "border": null,
            "bottom": null,
            "display": null,
            "flex": null,
            "flex_flow": null,
            "grid_area": null,
            "grid_auto_columns": null,
            "grid_auto_flow": null,
            "grid_auto_rows": null,
            "grid_column": null,
            "grid_gap": null,
            "grid_row": null,
            "grid_template_areas": null,
            "grid_template_columns": null,
            "grid_template_rows": null,
            "height": null,
            "justify_content": null,
            "justify_items": null,
            "left": null,
            "margin": null,
            "max_height": null,
            "max_width": null,
            "min_height": null,
            "min_width": null,
            "object_fit": null,
            "object_position": null,
            "order": null,
            "overflow": null,
            "overflow_x": null,
            "overflow_y": null,
            "padding": null,
            "right": null,
            "top": null,
            "visibility": null,
            "width": null
          }
        },
        "c3a02652c66c42789193c512b25d193a": {
          "model_module": "@jupyter-widgets/base",
          "model_name": "LayoutModel",
          "model_module_version": "1.2.0",
          "state": {
            "_model_module": "@jupyter-widgets/base",
            "_model_module_version": "1.2.0",
            "_model_name": "LayoutModel",
            "_view_count": null,
            "_view_module": "@jupyter-widgets/base",
            "_view_module_version": "1.2.0",
            "_view_name": "LayoutView",
            "align_content": null,
            "align_items": null,
            "align_self": null,
            "border": null,
            "bottom": null,
            "display": null,
            "flex": null,
            "flex_flow": null,
            "grid_area": null,
            "grid_auto_columns": null,
            "grid_auto_flow": null,
            "grid_auto_rows": null,
            "grid_column": null,
            "grid_gap": null,
            "grid_row": null,
            "grid_template_areas": null,
            "grid_template_columns": null,
            "grid_template_rows": null,
            "height": null,
            "justify_content": null,
            "justify_items": null,
            "left": null,
            "margin": null,
            "max_height": null,
            "max_width": null,
            "min_height": null,
            "min_width": null,
            "object_fit": null,
            "object_position": null,
            "order": null,
            "overflow": null,
            "overflow_x": null,
            "overflow_y": null,
            "padding": null,
            "right": null,
            "top": null,
            "visibility": null,
            "width": null
          }
        },
        "c86facb46e974a1da2d9a63b8321fc66": {
          "model_module": "@jupyter-widgets/controls",
          "model_name": "DescriptionStyleModel",
          "model_module_version": "1.5.0",
          "state": {
            "_model_module": "@jupyter-widgets/controls",
            "_model_module_version": "1.5.0",
            "_model_name": "DescriptionStyleModel",
            "_view_count": null,
            "_view_module": "@jupyter-widgets/base",
            "_view_module_version": "1.2.0",
            "_view_name": "StyleView",
            "description_width": ""
          }
        },
        "58f14944dde2422f9ec3f027753cf5ed": {
          "model_module": "@jupyter-widgets/base",
          "model_name": "LayoutModel",
          "model_module_version": "1.2.0",
          "state": {
            "_model_module": "@jupyter-widgets/base",
            "_model_module_version": "1.2.0",
            "_model_name": "LayoutModel",
            "_view_count": null,
            "_view_module": "@jupyter-widgets/base",
            "_view_module_version": "1.2.0",
            "_view_name": "LayoutView",
            "align_content": null,
            "align_items": null,
            "align_self": null,
            "border": null,
            "bottom": null,
            "display": null,
            "flex": null,
            "flex_flow": null,
            "grid_area": null,
            "grid_auto_columns": null,
            "grid_auto_flow": null,
            "grid_auto_rows": null,
            "grid_column": null,
            "grid_gap": null,
            "grid_row": null,
            "grid_template_areas": null,
            "grid_template_columns": null,
            "grid_template_rows": null,
            "height": null,
            "justify_content": null,
            "justify_items": null,
            "left": null,
            "margin": null,
            "max_height": null,
            "max_width": null,
            "min_height": null,
            "min_width": null,
            "object_fit": null,
            "object_position": null,
            "order": null,
            "overflow": null,
            "overflow_x": null,
            "overflow_y": null,
            "padding": null,
            "right": null,
            "top": null,
            "visibility": null,
            "width": null
          }
        },
        "33b585d8e6d84f298e057f1f92fb32e6": {
          "model_module": "@jupyter-widgets/controls",
          "model_name": "ProgressStyleModel",
          "model_module_version": "1.5.0",
          "state": {
            "_model_module": "@jupyter-widgets/controls",
            "_model_module_version": "1.5.0",
            "_model_name": "ProgressStyleModel",
            "_view_count": null,
            "_view_module": "@jupyter-widgets/base",
            "_view_module_version": "1.2.0",
            "_view_name": "StyleView",
            "bar_color": null,
            "description_width": ""
          }
        },
        "58f2f73f31b04b5f844ed8b54f11f342": {
          "model_module": "@jupyter-widgets/base",
          "model_name": "LayoutModel",
          "model_module_version": "1.2.0",
          "state": {
            "_model_module": "@jupyter-widgets/base",
            "_model_module_version": "1.2.0",
            "_model_name": "LayoutModel",
            "_view_count": null,
            "_view_module": "@jupyter-widgets/base",
            "_view_module_version": "1.2.0",
            "_view_name": "LayoutView",
            "align_content": null,
            "align_items": null,
            "align_self": null,
            "border": null,
            "bottom": null,
            "display": null,
            "flex": null,
            "flex_flow": null,
            "grid_area": null,
            "grid_auto_columns": null,
            "grid_auto_flow": null,
            "grid_auto_rows": null,
            "grid_column": null,
            "grid_gap": null,
            "grid_row": null,
            "grid_template_areas": null,
            "grid_template_columns": null,
            "grid_template_rows": null,
            "height": null,
            "justify_content": null,
            "justify_items": null,
            "left": null,
            "margin": null,
            "max_height": null,
            "max_width": null,
            "min_height": null,
            "min_width": null,
            "object_fit": null,
            "object_position": null,
            "order": null,
            "overflow": null,
            "overflow_x": null,
            "overflow_y": null,
            "padding": null,
            "right": null,
            "top": null,
            "visibility": null,
            "width": null
          }
        },
        "718725d95c904228abf972f59c7e4e74": {
          "model_module": "@jupyter-widgets/controls",
          "model_name": "DescriptionStyleModel",
          "model_module_version": "1.5.0",
          "state": {
            "_model_module": "@jupyter-widgets/controls",
            "_model_module_version": "1.5.0",
            "_model_name": "DescriptionStyleModel",
            "_view_count": null,
            "_view_module": "@jupyter-widgets/base",
            "_view_module_version": "1.2.0",
            "_view_name": "StyleView",
            "description_width": ""
          }
        },
        "534a8cb2078f4c6280f2d278fb3f1b8b": {
          "model_module": "@jupyter-widgets/controls",
          "model_name": "HBoxModel",
          "model_module_version": "1.5.0",
          "state": {
            "_dom_classes": [],
            "_model_module": "@jupyter-widgets/controls",
            "_model_module_version": "1.5.0",
            "_model_name": "HBoxModel",
            "_view_count": null,
            "_view_module": "@jupyter-widgets/controls",
            "_view_module_version": "1.5.0",
            "_view_name": "HBoxView",
            "box_style": "",
            "children": [
              "IPY_MODEL_5d4c6cf36674477da79c1912f9d510b6",
              "IPY_MODEL_26b2e6094f074dfab848b15ee146e5f3",
              "IPY_MODEL_a1024ed088fc43dd81a2d30a2ca1b931"
            ],
            "layout": "IPY_MODEL_2cfbc7acb2e74aaea3d99f9a8d64567d"
          }
        },
        "5d4c6cf36674477da79c1912f9d510b6": {
          "model_module": "@jupyter-widgets/controls",
          "model_name": "HTMLModel",
          "model_module_version": "1.5.0",
          "state": {
            "_dom_classes": [],
            "_model_module": "@jupyter-widgets/controls",
            "_model_module_version": "1.5.0",
            "_model_name": "HTMLModel",
            "_view_count": null,
            "_view_module": "@jupyter-widgets/controls",
            "_view_module_version": "1.5.0",
            "_view_name": "HTMLView",
            "description": "",
            "description_tooltip": null,
            "layout": "IPY_MODEL_85d8d10d9a074fb6978404200485f7a7",
            "placeholder": "​",
            "style": "IPY_MODEL_f588222e126c45aa90d2f81a6eccd9c2",
            "value": "vocab.json: 100%"
          }
        },
        "26b2e6094f074dfab848b15ee146e5f3": {
          "model_module": "@jupyter-widgets/controls",
          "model_name": "FloatProgressModel",
          "model_module_version": "1.5.0",
          "state": {
            "_dom_classes": [],
            "_model_module": "@jupyter-widgets/controls",
            "_model_module_version": "1.5.0",
            "_model_name": "FloatProgressModel",
            "_view_count": null,
            "_view_module": "@jupyter-widgets/controls",
            "_view_module_version": "1.5.0",
            "_view_name": "ProgressView",
            "bar_style": "success",
            "description": "",
            "description_tooltip": null,
            "layout": "IPY_MODEL_223c8dd66eeb4b089eb0dde6deee1c44",
            "max": 898822,
            "min": 0,
            "orientation": "horizontal",
            "style": "IPY_MODEL_209d473dc3f24c63abd197c4131a88fc",
            "value": 898822
          }
        },
        "a1024ed088fc43dd81a2d30a2ca1b931": {
          "model_module": "@jupyter-widgets/controls",
          "model_name": "HTMLModel",
          "model_module_version": "1.5.0",
          "state": {
            "_dom_classes": [],
            "_model_module": "@jupyter-widgets/controls",
            "_model_module_version": "1.5.0",
            "_model_name": "HTMLModel",
            "_view_count": null,
            "_view_module": "@jupyter-widgets/controls",
            "_view_module_version": "1.5.0",
            "_view_name": "HTMLView",
            "description": "",
            "description_tooltip": null,
            "layout": "IPY_MODEL_bf26121168ac49d7b09f109b02f95f0c",
            "placeholder": "​",
            "style": "IPY_MODEL_028b47b6d76244e594949b85913a8afc",
            "value": " 899k/899k [00:00&lt;00:00, 7.02MB/s]"
          }
        },
        "2cfbc7acb2e74aaea3d99f9a8d64567d": {
          "model_module": "@jupyter-widgets/base",
          "model_name": "LayoutModel",
          "model_module_version": "1.2.0",
          "state": {
            "_model_module": "@jupyter-widgets/base",
            "_model_module_version": "1.2.0",
            "_model_name": "LayoutModel",
            "_view_count": null,
            "_view_module": "@jupyter-widgets/base",
            "_view_module_version": "1.2.0",
            "_view_name": "LayoutView",
            "align_content": null,
            "align_items": null,
            "align_self": null,
            "border": null,
            "bottom": null,
            "display": null,
            "flex": null,
            "flex_flow": null,
            "grid_area": null,
            "grid_auto_columns": null,
            "grid_auto_flow": null,
            "grid_auto_rows": null,
            "grid_column": null,
            "grid_gap": null,
            "grid_row": null,
            "grid_template_areas": null,
            "grid_template_columns": null,
            "grid_template_rows": null,
            "height": null,
            "justify_content": null,
            "justify_items": null,
            "left": null,
            "margin": null,
            "max_height": null,
            "max_width": null,
            "min_height": null,
            "min_width": null,
            "object_fit": null,
            "object_position": null,
            "order": null,
            "overflow": null,
            "overflow_x": null,
            "overflow_y": null,
            "padding": null,
            "right": null,
            "top": null,
            "visibility": null,
            "width": null
          }
        },
        "85d8d10d9a074fb6978404200485f7a7": {
          "model_module": "@jupyter-widgets/base",
          "model_name": "LayoutModel",
          "model_module_version": "1.2.0",
          "state": {
            "_model_module": "@jupyter-widgets/base",
            "_model_module_version": "1.2.0",
            "_model_name": "LayoutModel",
            "_view_count": null,
            "_view_module": "@jupyter-widgets/base",
            "_view_module_version": "1.2.0",
            "_view_name": "LayoutView",
            "align_content": null,
            "align_items": null,
            "align_self": null,
            "border": null,
            "bottom": null,
            "display": null,
            "flex": null,
            "flex_flow": null,
            "grid_area": null,
            "grid_auto_columns": null,
            "grid_auto_flow": null,
            "grid_auto_rows": null,
            "grid_column": null,
            "grid_gap": null,
            "grid_row": null,
            "grid_template_areas": null,
            "grid_template_columns": null,
            "grid_template_rows": null,
            "height": null,
            "justify_content": null,
            "justify_items": null,
            "left": null,
            "margin": null,
            "max_height": null,
            "max_width": null,
            "min_height": null,
            "min_width": null,
            "object_fit": null,
            "object_position": null,
            "order": null,
            "overflow": null,
            "overflow_x": null,
            "overflow_y": null,
            "padding": null,
            "right": null,
            "top": null,
            "visibility": null,
            "width": null
          }
        },
        "f588222e126c45aa90d2f81a6eccd9c2": {
          "model_module": "@jupyter-widgets/controls",
          "model_name": "DescriptionStyleModel",
          "model_module_version": "1.5.0",
          "state": {
            "_model_module": "@jupyter-widgets/controls",
            "_model_module_version": "1.5.0",
            "_model_name": "DescriptionStyleModel",
            "_view_count": null,
            "_view_module": "@jupyter-widgets/base",
            "_view_module_version": "1.2.0",
            "_view_name": "StyleView",
            "description_width": ""
          }
        },
        "223c8dd66eeb4b089eb0dde6deee1c44": {
          "model_module": "@jupyter-widgets/base",
          "model_name": "LayoutModel",
          "model_module_version": "1.2.0",
          "state": {
            "_model_module": "@jupyter-widgets/base",
            "_model_module_version": "1.2.0",
            "_model_name": "LayoutModel",
            "_view_count": null,
            "_view_module": "@jupyter-widgets/base",
            "_view_module_version": "1.2.0",
            "_view_name": "LayoutView",
            "align_content": null,
            "align_items": null,
            "align_self": null,
            "border": null,
            "bottom": null,
            "display": null,
            "flex": null,
            "flex_flow": null,
            "grid_area": null,
            "grid_auto_columns": null,
            "grid_auto_flow": null,
            "grid_auto_rows": null,
            "grid_column": null,
            "grid_gap": null,
            "grid_row": null,
            "grid_template_areas": null,
            "grid_template_columns": null,
            "grid_template_rows": null,
            "height": null,
            "justify_content": null,
            "justify_items": null,
            "left": null,
            "margin": null,
            "max_height": null,
            "max_width": null,
            "min_height": null,
            "min_width": null,
            "object_fit": null,
            "object_position": null,
            "order": null,
            "overflow": null,
            "overflow_x": null,
            "overflow_y": null,
            "padding": null,
            "right": null,
            "top": null,
            "visibility": null,
            "width": null
          }
        },
        "209d473dc3f24c63abd197c4131a88fc": {
          "model_module": "@jupyter-widgets/controls",
          "model_name": "ProgressStyleModel",
          "model_module_version": "1.5.0",
          "state": {
            "_model_module": "@jupyter-widgets/controls",
            "_model_module_version": "1.5.0",
            "_model_name": "ProgressStyleModel",
            "_view_count": null,
            "_view_module": "@jupyter-widgets/base",
            "_view_module_version": "1.2.0",
            "_view_name": "StyleView",
            "bar_color": null,
            "description_width": ""
          }
        },
        "bf26121168ac49d7b09f109b02f95f0c": {
          "model_module": "@jupyter-widgets/base",
          "model_name": "LayoutModel",
          "model_module_version": "1.2.0",
          "state": {
            "_model_module": "@jupyter-widgets/base",
            "_model_module_version": "1.2.0",
            "_model_name": "LayoutModel",
            "_view_count": null,
            "_view_module": "@jupyter-widgets/base",
            "_view_module_version": "1.2.0",
            "_view_name": "LayoutView",
            "align_content": null,
            "align_items": null,
            "align_self": null,
            "border": null,
            "bottom": null,
            "display": null,
            "flex": null,
            "flex_flow": null,
            "grid_area": null,
            "grid_auto_columns": null,
            "grid_auto_flow": null,
            "grid_auto_rows": null,
            "grid_column": null,
            "grid_gap": null,
            "grid_row": null,
            "grid_template_areas": null,
            "grid_template_columns": null,
            "grid_template_rows": null,
            "height": null,
            "justify_content": null,
            "justify_items": null,
            "left": null,
            "margin": null,
            "max_height": null,
            "max_width": null,
            "min_height": null,
            "min_width": null,
            "object_fit": null,
            "object_position": null,
            "order": null,
            "overflow": null,
            "overflow_x": null,
            "overflow_y": null,
            "padding": null,
            "right": null,
            "top": null,
            "visibility": null,
            "width": null
          }
        },
        "028b47b6d76244e594949b85913a8afc": {
          "model_module": "@jupyter-widgets/controls",
          "model_name": "DescriptionStyleModel",
          "model_module_version": "1.5.0",
          "state": {
            "_model_module": "@jupyter-widgets/controls",
            "_model_module_version": "1.5.0",
            "_model_name": "DescriptionStyleModel",
            "_view_count": null,
            "_view_module": "@jupyter-widgets/base",
            "_view_module_version": "1.2.0",
            "_view_name": "StyleView",
            "description_width": ""
          }
        },
        "08b1b7762609451482e30b157892c4f7": {
          "model_module": "@jupyter-widgets/controls",
          "model_name": "HBoxModel",
          "model_module_version": "1.5.0",
          "state": {
            "_dom_classes": [],
            "_model_module": "@jupyter-widgets/controls",
            "_model_module_version": "1.5.0",
            "_model_name": "HBoxModel",
            "_view_count": null,
            "_view_module": "@jupyter-widgets/controls",
            "_view_module_version": "1.5.0",
            "_view_name": "HBoxView",
            "box_style": "",
            "children": [
              "IPY_MODEL_b867469a7fc54cd59696a8d3dee6bdad",
              "IPY_MODEL_1d6998b777754934a828c7ceef775e85",
              "IPY_MODEL_6f8989e390ab4c11a4fa6ccf49f51c00"
            ],
            "layout": "IPY_MODEL_6fa1a1075e96428c9641c2667b4d4438"
          }
        },
        "b867469a7fc54cd59696a8d3dee6bdad": {
          "model_module": "@jupyter-widgets/controls",
          "model_name": "HTMLModel",
          "model_module_version": "1.5.0",
          "state": {
            "_dom_classes": [],
            "_model_module": "@jupyter-widgets/controls",
            "_model_module_version": "1.5.0",
            "_model_name": "HTMLModel",
            "_view_count": null,
            "_view_module": "@jupyter-widgets/controls",
            "_view_module_version": "1.5.0",
            "_view_name": "HTMLView",
            "description": "",
            "description_tooltip": null,
            "layout": "IPY_MODEL_9609b0124b7d4a2ea790ebd15b9ea8f5",
            "placeholder": "​",
            "style": "IPY_MODEL_853b681a9fa7497f9229740ce7add025",
            "value": "merges.txt: 100%"
          }
        },
        "1d6998b777754934a828c7ceef775e85": {
          "model_module": "@jupyter-widgets/controls",
          "model_name": "FloatProgressModel",
          "model_module_version": "1.5.0",
          "state": {
            "_dom_classes": [],
            "_model_module": "@jupyter-widgets/controls",
            "_model_module_version": "1.5.0",
            "_model_name": "FloatProgressModel",
            "_view_count": null,
            "_view_module": "@jupyter-widgets/controls",
            "_view_module_version": "1.5.0",
            "_view_name": "ProgressView",
            "bar_style": "success",
            "description": "",
            "description_tooltip": null,
            "layout": "IPY_MODEL_1db95eada75546c0a1dc516a1b44db73",
            "max": 456318,
            "min": 0,
            "orientation": "horizontal",
            "style": "IPY_MODEL_a344e5a110ec4997932895bff4a24b39",
            "value": 456318
          }
        },
        "6f8989e390ab4c11a4fa6ccf49f51c00": {
          "model_module": "@jupyter-widgets/controls",
          "model_name": "HTMLModel",
          "model_module_version": "1.5.0",
          "state": {
            "_dom_classes": [],
            "_model_module": "@jupyter-widgets/controls",
            "_model_module_version": "1.5.0",
            "_model_name": "HTMLModel",
            "_view_count": null,
            "_view_module": "@jupyter-widgets/controls",
            "_view_module_version": "1.5.0",
            "_view_name": "HTMLView",
            "description": "",
            "description_tooltip": null,
            "layout": "IPY_MODEL_b8d06253a4d341f8ac14152cb27dfa9d",
            "placeholder": "​",
            "style": "IPY_MODEL_63b4933314fb4cf9860b67cee156b6cf",
            "value": " 456k/456k [00:00&lt;00:00, 7.12MB/s]"
          }
        },
        "6fa1a1075e96428c9641c2667b4d4438": {
          "model_module": "@jupyter-widgets/base",
          "model_name": "LayoutModel",
          "model_module_version": "1.2.0",
          "state": {
            "_model_module": "@jupyter-widgets/base",
            "_model_module_version": "1.2.0",
            "_model_name": "LayoutModel",
            "_view_count": null,
            "_view_module": "@jupyter-widgets/base",
            "_view_module_version": "1.2.0",
            "_view_name": "LayoutView",
            "align_content": null,
            "align_items": null,
            "align_self": null,
            "border": null,
            "bottom": null,
            "display": null,
            "flex": null,
            "flex_flow": null,
            "grid_area": null,
            "grid_auto_columns": null,
            "grid_auto_flow": null,
            "grid_auto_rows": null,
            "grid_column": null,
            "grid_gap": null,
            "grid_row": null,
            "grid_template_areas": null,
            "grid_template_columns": null,
            "grid_template_rows": null,
            "height": null,
            "justify_content": null,
            "justify_items": null,
            "left": null,
            "margin": null,
            "max_height": null,
            "max_width": null,
            "min_height": null,
            "min_width": null,
            "object_fit": null,
            "object_position": null,
            "order": null,
            "overflow": null,
            "overflow_x": null,
            "overflow_y": null,
            "padding": null,
            "right": null,
            "top": null,
            "visibility": null,
            "width": null
          }
        },
        "9609b0124b7d4a2ea790ebd15b9ea8f5": {
          "model_module": "@jupyter-widgets/base",
          "model_name": "LayoutModel",
          "model_module_version": "1.2.0",
          "state": {
            "_model_module": "@jupyter-widgets/base",
            "_model_module_version": "1.2.0",
            "_model_name": "LayoutModel",
            "_view_count": null,
            "_view_module": "@jupyter-widgets/base",
            "_view_module_version": "1.2.0",
            "_view_name": "LayoutView",
            "align_content": null,
            "align_items": null,
            "align_self": null,
            "border": null,
            "bottom": null,
            "display": null,
            "flex": null,
            "flex_flow": null,
            "grid_area": null,
            "grid_auto_columns": null,
            "grid_auto_flow": null,
            "grid_auto_rows": null,
            "grid_column": null,
            "grid_gap": null,
            "grid_row": null,
            "grid_template_areas": null,
            "grid_template_columns": null,
            "grid_template_rows": null,
            "height": null,
            "justify_content": null,
            "justify_items": null,
            "left": null,
            "margin": null,
            "max_height": null,
            "max_width": null,
            "min_height": null,
            "min_width": null,
            "object_fit": null,
            "object_position": null,
            "order": null,
            "overflow": null,
            "overflow_x": null,
            "overflow_y": null,
            "padding": null,
            "right": null,
            "top": null,
            "visibility": null,
            "width": null
          }
        },
        "853b681a9fa7497f9229740ce7add025": {
          "model_module": "@jupyter-widgets/controls",
          "model_name": "DescriptionStyleModel",
          "model_module_version": "1.5.0",
          "state": {
            "_model_module": "@jupyter-widgets/controls",
            "_model_module_version": "1.5.0",
            "_model_name": "DescriptionStyleModel",
            "_view_count": null,
            "_view_module": "@jupyter-widgets/base",
            "_view_module_version": "1.2.0",
            "_view_name": "StyleView",
            "description_width": ""
          }
        },
        "1db95eada75546c0a1dc516a1b44db73": {
          "model_module": "@jupyter-widgets/base",
          "model_name": "LayoutModel",
          "model_module_version": "1.2.0",
          "state": {
            "_model_module": "@jupyter-widgets/base",
            "_model_module_version": "1.2.0",
            "_model_name": "LayoutModel",
            "_view_count": null,
            "_view_module": "@jupyter-widgets/base",
            "_view_module_version": "1.2.0",
            "_view_name": "LayoutView",
            "align_content": null,
            "align_items": null,
            "align_self": null,
            "border": null,
            "bottom": null,
            "display": null,
            "flex": null,
            "flex_flow": null,
            "grid_area": null,
            "grid_auto_columns": null,
            "grid_auto_flow": null,
            "grid_auto_rows": null,
            "grid_column": null,
            "grid_gap": null,
            "grid_row": null,
            "grid_template_areas": null,
            "grid_template_columns": null,
            "grid_template_rows": null,
            "height": null,
            "justify_content": null,
            "justify_items": null,
            "left": null,
            "margin": null,
            "max_height": null,
            "max_width": null,
            "min_height": null,
            "min_width": null,
            "object_fit": null,
            "object_position": null,
            "order": null,
            "overflow": null,
            "overflow_x": null,
            "overflow_y": null,
            "padding": null,
            "right": null,
            "top": null,
            "visibility": null,
            "width": null
          }
        },
        "a344e5a110ec4997932895bff4a24b39": {
          "model_module": "@jupyter-widgets/controls",
          "model_name": "ProgressStyleModel",
          "model_module_version": "1.5.0",
          "state": {
            "_model_module": "@jupyter-widgets/controls",
            "_model_module_version": "1.5.0",
            "_model_name": "ProgressStyleModel",
            "_view_count": null,
            "_view_module": "@jupyter-widgets/base",
            "_view_module_version": "1.2.0",
            "_view_name": "StyleView",
            "bar_color": null,
            "description_width": ""
          }
        },
        "b8d06253a4d341f8ac14152cb27dfa9d": {
          "model_module": "@jupyter-widgets/base",
          "model_name": "LayoutModel",
          "model_module_version": "1.2.0",
          "state": {
            "_model_module": "@jupyter-widgets/base",
            "_model_module_version": "1.2.0",
            "_model_name": "LayoutModel",
            "_view_count": null,
            "_view_module": "@jupyter-widgets/base",
            "_view_module_version": "1.2.0",
            "_view_name": "LayoutView",
            "align_content": null,
            "align_items": null,
            "align_self": null,
            "border": null,
            "bottom": null,
            "display": null,
            "flex": null,
            "flex_flow": null,
            "grid_area": null,
            "grid_auto_columns": null,
            "grid_auto_flow": null,
            "grid_auto_rows": null,
            "grid_column": null,
            "grid_gap": null,
            "grid_row": null,
            "grid_template_areas": null,
            "grid_template_columns": null,
            "grid_template_rows": null,
            "height": null,
            "justify_content": null,
            "justify_items": null,
            "left": null,
            "margin": null,
            "max_height": null,
            "max_width": null,
            "min_height": null,
            "min_width": null,
            "object_fit": null,
            "object_position": null,
            "order": null,
            "overflow": null,
            "overflow_x": null,
            "overflow_y": null,
            "padding": null,
            "right": null,
            "top": null,
            "visibility": null,
            "width": null
          }
        },
        "63b4933314fb4cf9860b67cee156b6cf": {
          "model_module": "@jupyter-widgets/controls",
          "model_name": "DescriptionStyleModel",
          "model_module_version": "1.5.0",
          "state": {
            "_model_module": "@jupyter-widgets/controls",
            "_model_module_version": "1.5.0",
            "_model_name": "DescriptionStyleModel",
            "_view_count": null,
            "_view_module": "@jupyter-widgets/base",
            "_view_module_version": "1.2.0",
            "_view_name": "StyleView",
            "description_width": ""
          }
        },
        "a12577f4edd144faa0b7368c1eb81c33": {
          "model_module": "@jupyter-widgets/controls",
          "model_name": "HBoxModel",
          "model_module_version": "1.5.0",
          "state": {
            "_dom_classes": [],
            "_model_module": "@jupyter-widgets/controls",
            "_model_module_version": "1.5.0",
            "_model_name": "HBoxModel",
            "_view_count": null,
            "_view_module": "@jupyter-widgets/controls",
            "_view_module_version": "1.5.0",
            "_view_name": "HBoxView",
            "box_style": "",
            "children": [
              "IPY_MODEL_cb1512b6dab54089a324f7829e873fad",
              "IPY_MODEL_c2964569e96642ff9da11adf0b84ccd4",
              "IPY_MODEL_39c11dd7e9b248a5b4db026d9a932d32"
            ],
            "layout": "IPY_MODEL_cc0ddde117e74bc2b5cf69b2c6e877aa"
          }
        },
        "cb1512b6dab54089a324f7829e873fad": {
          "model_module": "@jupyter-widgets/controls",
          "model_name": "HTMLModel",
          "model_module_version": "1.5.0",
          "state": {
            "_dom_classes": [],
            "_model_module": "@jupyter-widgets/controls",
            "_model_module_version": "1.5.0",
            "_model_name": "HTMLModel",
            "_view_count": null,
            "_view_module": "@jupyter-widgets/controls",
            "_view_module_version": "1.5.0",
            "_view_name": "HTMLView",
            "description": "",
            "description_tooltip": null,
            "layout": "IPY_MODEL_621a89c4e0fc4bc2858e7a98ce3aedaf",
            "placeholder": "​",
            "style": "IPY_MODEL_3806866808674c3daf4bb0ec974284e2",
            "value": "special_tokens_map.json: 100%"
          }
        },
        "c2964569e96642ff9da11adf0b84ccd4": {
          "model_module": "@jupyter-widgets/controls",
          "model_name": "FloatProgressModel",
          "model_module_version": "1.5.0",
          "state": {
            "_dom_classes": [],
            "_model_module": "@jupyter-widgets/controls",
            "_model_module_version": "1.5.0",
            "_model_name": "FloatProgressModel",
            "_view_count": null,
            "_view_module": "@jupyter-widgets/controls",
            "_view_module_version": "1.5.0",
            "_view_name": "ProgressView",
            "bar_style": "success",
            "description": "",
            "description_tooltip": null,
            "layout": "IPY_MODEL_9edc8c358d7743278cee0c314a94d418",
            "max": 150,
            "min": 0,
            "orientation": "horizontal",
            "style": "IPY_MODEL_861e9996cfa8464dbc18a775e3d7d8c4",
            "value": 150
          }
        },
        "39c11dd7e9b248a5b4db026d9a932d32": {
          "model_module": "@jupyter-widgets/controls",
          "model_name": "HTMLModel",
          "model_module_version": "1.5.0",
          "state": {
            "_dom_classes": [],
            "_model_module": "@jupyter-widgets/controls",
            "_model_module_version": "1.5.0",
            "_model_name": "HTMLModel",
            "_view_count": null,
            "_view_module": "@jupyter-widgets/controls",
            "_view_module_version": "1.5.0",
            "_view_name": "HTMLView",
            "description": "",
            "description_tooltip": null,
            "layout": "IPY_MODEL_73f104f200e649ac9251f94ab3ea5f2b",
            "placeholder": "​",
            "style": "IPY_MODEL_e19b547d311a4c34a496b1f2db1690ac",
            "value": " 150/150 [00:00&lt;00:00, 4.13kB/s]"
          }
        },
        "cc0ddde117e74bc2b5cf69b2c6e877aa": {
          "model_module": "@jupyter-widgets/base",
          "model_name": "LayoutModel",
          "model_module_version": "1.2.0",
          "state": {
            "_model_module": "@jupyter-widgets/base",
            "_model_module_version": "1.2.0",
            "_model_name": "LayoutModel",
            "_view_count": null,
            "_view_module": "@jupyter-widgets/base",
            "_view_module_version": "1.2.0",
            "_view_name": "LayoutView",
            "align_content": null,
            "align_items": null,
            "align_self": null,
            "border": null,
            "bottom": null,
            "display": null,
            "flex": null,
            "flex_flow": null,
            "grid_area": null,
            "grid_auto_columns": null,
            "grid_auto_flow": null,
            "grid_auto_rows": null,
            "grid_column": null,
            "grid_gap": null,
            "grid_row": null,
            "grid_template_areas": null,
            "grid_template_columns": null,
            "grid_template_rows": null,
            "height": null,
            "justify_content": null,
            "justify_items": null,
            "left": null,
            "margin": null,
            "max_height": null,
            "max_width": null,
            "min_height": null,
            "min_width": null,
            "object_fit": null,
            "object_position": null,
            "order": null,
            "overflow": null,
            "overflow_x": null,
            "overflow_y": null,
            "padding": null,
            "right": null,
            "top": null,
            "visibility": null,
            "width": null
          }
        },
        "621a89c4e0fc4bc2858e7a98ce3aedaf": {
          "model_module": "@jupyter-widgets/base",
          "model_name": "LayoutModel",
          "model_module_version": "1.2.0",
          "state": {
            "_model_module": "@jupyter-widgets/base",
            "_model_module_version": "1.2.0",
            "_model_name": "LayoutModel",
            "_view_count": null,
            "_view_module": "@jupyter-widgets/base",
            "_view_module_version": "1.2.0",
            "_view_name": "LayoutView",
            "align_content": null,
            "align_items": null,
            "align_self": null,
            "border": null,
            "bottom": null,
            "display": null,
            "flex": null,
            "flex_flow": null,
            "grid_area": null,
            "grid_auto_columns": null,
            "grid_auto_flow": null,
            "grid_auto_rows": null,
            "grid_column": null,
            "grid_gap": null,
            "grid_row": null,
            "grid_template_areas": null,
            "grid_template_columns": null,
            "grid_template_rows": null,
            "height": null,
            "justify_content": null,
            "justify_items": null,
            "left": null,
            "margin": null,
            "max_height": null,
            "max_width": null,
            "min_height": null,
            "min_width": null,
            "object_fit": null,
            "object_position": null,
            "order": null,
            "overflow": null,
            "overflow_x": null,
            "overflow_y": null,
            "padding": null,
            "right": null,
            "top": null,
            "visibility": null,
            "width": null
          }
        },
        "3806866808674c3daf4bb0ec974284e2": {
          "model_module": "@jupyter-widgets/controls",
          "model_name": "DescriptionStyleModel",
          "model_module_version": "1.5.0",
          "state": {
            "_model_module": "@jupyter-widgets/controls",
            "_model_module_version": "1.5.0",
            "_model_name": "DescriptionStyleModel",
            "_view_count": null,
            "_view_module": "@jupyter-widgets/base",
            "_view_module_version": "1.2.0",
            "_view_name": "StyleView",
            "description_width": ""
          }
        },
        "9edc8c358d7743278cee0c314a94d418": {
          "model_module": "@jupyter-widgets/base",
          "model_name": "LayoutModel",
          "model_module_version": "1.2.0",
          "state": {
            "_model_module": "@jupyter-widgets/base",
            "_model_module_version": "1.2.0",
            "_model_name": "LayoutModel",
            "_view_count": null,
            "_view_module": "@jupyter-widgets/base",
            "_view_module_version": "1.2.0",
            "_view_name": "LayoutView",
            "align_content": null,
            "align_items": null,
            "align_self": null,
            "border": null,
            "bottom": null,
            "display": null,
            "flex": null,
            "flex_flow": null,
            "grid_area": null,
            "grid_auto_columns": null,
            "grid_auto_flow": null,
            "grid_auto_rows": null,
            "grid_column": null,
            "grid_gap": null,
            "grid_row": null,
            "grid_template_areas": null,
            "grid_template_columns": null,
            "grid_template_rows": null,
            "height": null,
            "justify_content": null,
            "justify_items": null,
            "left": null,
            "margin": null,
            "max_height": null,
            "max_width": null,
            "min_height": null,
            "min_width": null,
            "object_fit": null,
            "object_position": null,
            "order": null,
            "overflow": null,
            "overflow_x": null,
            "overflow_y": null,
            "padding": null,
            "right": null,
            "top": null,
            "visibility": null,
            "width": null
          }
        },
        "861e9996cfa8464dbc18a775e3d7d8c4": {
          "model_module": "@jupyter-widgets/controls",
          "model_name": "ProgressStyleModel",
          "model_module_version": "1.5.0",
          "state": {
            "_model_module": "@jupyter-widgets/controls",
            "_model_module_version": "1.5.0",
            "_model_name": "ProgressStyleModel",
            "_view_count": null,
            "_view_module": "@jupyter-widgets/base",
            "_view_module_version": "1.2.0",
            "_view_name": "StyleView",
            "bar_color": null,
            "description_width": ""
          }
        },
        "73f104f200e649ac9251f94ab3ea5f2b": {
          "model_module": "@jupyter-widgets/base",
          "model_name": "LayoutModel",
          "model_module_version": "1.2.0",
          "state": {
            "_model_module": "@jupyter-widgets/base",
            "_model_module_version": "1.2.0",
            "_model_name": "LayoutModel",
            "_view_count": null,
            "_view_module": "@jupyter-widgets/base",
            "_view_module_version": "1.2.0",
            "_view_name": "LayoutView",
            "align_content": null,
            "align_items": null,
            "align_self": null,
            "border": null,
            "bottom": null,
            "display": null,
            "flex": null,
            "flex_flow": null,
            "grid_area": null,
            "grid_auto_columns": null,
            "grid_auto_flow": null,
            "grid_auto_rows": null,
            "grid_column": null,
            "grid_gap": null,
            "grid_row": null,
            "grid_template_areas": null,
            "grid_template_columns": null,
            "grid_template_rows": null,
            "height": null,
            "justify_content": null,
            "justify_items": null,
            "left": null,
            "margin": null,
            "max_height": null,
            "max_width": null,
            "min_height": null,
            "min_width": null,
            "object_fit": null,
            "object_position": null,
            "order": null,
            "overflow": null,
            "overflow_x": null,
            "overflow_y": null,
            "padding": null,
            "right": null,
            "top": null,
            "visibility": null,
            "width": null
          }
        },
        "e19b547d311a4c34a496b1f2db1690ac": {
          "model_module": "@jupyter-widgets/controls",
          "model_name": "DescriptionStyleModel",
          "model_module_version": "1.5.0",
          "state": {
            "_model_module": "@jupyter-widgets/controls",
            "_model_module_version": "1.5.0",
            "_model_name": "DescriptionStyleModel",
            "_view_count": null,
            "_view_module": "@jupyter-widgets/base",
            "_view_module_version": "1.2.0",
            "_view_name": "StyleView",
            "description_width": ""
          }
        },
        "25e7f0da024d41dc9aeb12ca04c48ee7": {
          "model_module": "@jupyter-widgets/controls",
          "model_name": "HBoxModel",
          "model_module_version": "1.5.0",
          "state": {
            "_dom_classes": [],
            "_model_module": "@jupyter-widgets/controls",
            "_model_module_version": "1.5.0",
            "_model_name": "HBoxModel",
            "_view_count": null,
            "_view_module": "@jupyter-widgets/controls",
            "_view_module_version": "1.5.0",
            "_view_name": "HBoxView",
            "box_style": "",
            "children": [
              "IPY_MODEL_1a77dc5730f84fc293eeb4cb2477f244",
              "IPY_MODEL_1ee68d1d47074e4d8a66f7c031591c3b",
              "IPY_MODEL_819ad4bd9051424c85f5b82f11e7dd14"
            ],
            "layout": "IPY_MODEL_a3678922ab5949a6a29aa591761ee512"
          }
        },
        "1a77dc5730f84fc293eeb4cb2477f244": {
          "model_module": "@jupyter-widgets/controls",
          "model_name": "HTMLModel",
          "model_module_version": "1.5.0",
          "state": {
            "_dom_classes": [],
            "_model_module": "@jupyter-widgets/controls",
            "_model_module_version": "1.5.0",
            "_model_name": "HTMLModel",
            "_view_count": null,
            "_view_module": "@jupyter-widgets/controls",
            "_view_module_version": "1.5.0",
            "_view_name": "HTMLView",
            "description": "",
            "description_tooltip": null,
            "layout": "IPY_MODEL_f778d743b94841ac8d46380536a060a1",
            "placeholder": "​",
            "style": "IPY_MODEL_4dd0fc7857c841acb4c4860af06eecf1",
            "value": "pytorch_model.bin: 100%"
          }
        },
        "1ee68d1d47074e4d8a66f7c031591c3b": {
          "model_module": "@jupyter-widgets/controls",
          "model_name": "FloatProgressModel",
          "model_module_version": "1.5.0",
          "state": {
            "_dom_classes": [],
            "_model_module": "@jupyter-widgets/controls",
            "_model_module_version": "1.5.0",
            "_model_name": "FloatProgressModel",
            "_view_count": null,
            "_view_module": "@jupyter-widgets/controls",
            "_view_module_version": "1.5.0",
            "_view_name": "ProgressView",
            "bar_style": "success",
            "description": "",
            "description_tooltip": null,
            "layout": "IPY_MODEL_2b191726f49f403dae469178fb674f30",
            "max": 498679497,
            "min": 0,
            "orientation": "horizontal",
            "style": "IPY_MODEL_a82e15542d7a424090b3feb6917a2e56",
            "value": 498679497
          }
        },
        "819ad4bd9051424c85f5b82f11e7dd14": {
          "model_module": "@jupyter-widgets/controls",
          "model_name": "HTMLModel",
          "model_module_version": "1.5.0",
          "state": {
            "_dom_classes": [],
            "_model_module": "@jupyter-widgets/controls",
            "_model_module_version": "1.5.0",
            "_model_name": "HTMLModel",
            "_view_count": null,
            "_view_module": "@jupyter-widgets/controls",
            "_view_module_version": "1.5.0",
            "_view_name": "HTMLView",
            "description": "",
            "description_tooltip": null,
            "layout": "IPY_MODEL_21c8b67f7998430cb7abc0e1d66d249b",
            "placeholder": "​",
            "style": "IPY_MODEL_1eedaf76705e4e2aa7cf18cf9fdc5ad3",
            "value": " 499M/499M [00:03&lt;00:00, 97.5MB/s]"
          }
        },
        "a3678922ab5949a6a29aa591761ee512": {
          "model_module": "@jupyter-widgets/base",
          "model_name": "LayoutModel",
          "model_module_version": "1.2.0",
          "state": {
            "_model_module": "@jupyter-widgets/base",
            "_model_module_version": "1.2.0",
            "_model_name": "LayoutModel",
            "_view_count": null,
            "_view_module": "@jupyter-widgets/base",
            "_view_module_version": "1.2.0",
            "_view_name": "LayoutView",
            "align_content": null,
            "align_items": null,
            "align_self": null,
            "border": null,
            "bottom": null,
            "display": null,
            "flex": null,
            "flex_flow": null,
            "grid_area": null,
            "grid_auto_columns": null,
            "grid_auto_flow": null,
            "grid_auto_rows": null,
            "grid_column": null,
            "grid_gap": null,
            "grid_row": null,
            "grid_template_areas": null,
            "grid_template_columns": null,
            "grid_template_rows": null,
            "height": null,
            "justify_content": null,
            "justify_items": null,
            "left": null,
            "margin": null,
            "max_height": null,
            "max_width": null,
            "min_height": null,
            "min_width": null,
            "object_fit": null,
            "object_position": null,
            "order": null,
            "overflow": null,
            "overflow_x": null,
            "overflow_y": null,
            "padding": null,
            "right": null,
            "top": null,
            "visibility": null,
            "width": null
          }
        },
        "f778d743b94841ac8d46380536a060a1": {
          "model_module": "@jupyter-widgets/base",
          "model_name": "LayoutModel",
          "model_module_version": "1.2.0",
          "state": {
            "_model_module": "@jupyter-widgets/base",
            "_model_module_version": "1.2.0",
            "_model_name": "LayoutModel",
            "_view_count": null,
            "_view_module": "@jupyter-widgets/base",
            "_view_module_version": "1.2.0",
            "_view_name": "LayoutView",
            "align_content": null,
            "align_items": null,
            "align_self": null,
            "border": null,
            "bottom": null,
            "display": null,
            "flex": null,
            "flex_flow": null,
            "grid_area": null,
            "grid_auto_columns": null,
            "grid_auto_flow": null,
            "grid_auto_rows": null,
            "grid_column": null,
            "grid_gap": null,
            "grid_row": null,
            "grid_template_areas": null,
            "grid_template_columns": null,
            "grid_template_rows": null,
            "height": null,
            "justify_content": null,
            "justify_items": null,
            "left": null,
            "margin": null,
            "max_height": null,
            "max_width": null,
            "min_height": null,
            "min_width": null,
            "object_fit": null,
            "object_position": null,
            "order": null,
            "overflow": null,
            "overflow_x": null,
            "overflow_y": null,
            "padding": null,
            "right": null,
            "top": null,
            "visibility": null,
            "width": null
          }
        },
        "4dd0fc7857c841acb4c4860af06eecf1": {
          "model_module": "@jupyter-widgets/controls",
          "model_name": "DescriptionStyleModel",
          "model_module_version": "1.5.0",
          "state": {
            "_model_module": "@jupyter-widgets/controls",
            "_model_module_version": "1.5.0",
            "_model_name": "DescriptionStyleModel",
            "_view_count": null,
            "_view_module": "@jupyter-widgets/base",
            "_view_module_version": "1.2.0",
            "_view_name": "StyleView",
            "description_width": ""
          }
        },
        "2b191726f49f403dae469178fb674f30": {
          "model_module": "@jupyter-widgets/base",
          "model_name": "LayoutModel",
          "model_module_version": "1.2.0",
          "state": {
            "_model_module": "@jupyter-widgets/base",
            "_model_module_version": "1.2.0",
            "_model_name": "LayoutModel",
            "_view_count": null,
            "_view_module": "@jupyter-widgets/base",
            "_view_module_version": "1.2.0",
            "_view_name": "LayoutView",
            "align_content": null,
            "align_items": null,
            "align_self": null,
            "border": null,
            "bottom": null,
            "display": null,
            "flex": null,
            "flex_flow": null,
            "grid_area": null,
            "grid_auto_columns": null,
            "grid_auto_flow": null,
            "grid_auto_rows": null,
            "grid_column": null,
            "grid_gap": null,
            "grid_row": null,
            "grid_template_areas": null,
            "grid_template_columns": null,
            "grid_template_rows": null,
            "height": null,
            "justify_content": null,
            "justify_items": null,
            "left": null,
            "margin": null,
            "max_height": null,
            "max_width": null,
            "min_height": null,
            "min_width": null,
            "object_fit": null,
            "object_position": null,
            "order": null,
            "overflow": null,
            "overflow_x": null,
            "overflow_y": null,
            "padding": null,
            "right": null,
            "top": null,
            "visibility": null,
            "width": null
          }
        },
        "a82e15542d7a424090b3feb6917a2e56": {
          "model_module": "@jupyter-widgets/controls",
          "model_name": "ProgressStyleModel",
          "model_module_version": "1.5.0",
          "state": {
            "_model_module": "@jupyter-widgets/controls",
            "_model_module_version": "1.5.0",
            "_model_name": "ProgressStyleModel",
            "_view_count": null,
            "_view_module": "@jupyter-widgets/base",
            "_view_module_version": "1.2.0",
            "_view_name": "StyleView",
            "bar_color": null,
            "description_width": ""
          }
        },
        "21c8b67f7998430cb7abc0e1d66d249b": {
          "model_module": "@jupyter-widgets/base",
          "model_name": "LayoutModel",
          "model_module_version": "1.2.0",
          "state": {
            "_model_module": "@jupyter-widgets/base",
            "_model_module_version": "1.2.0",
            "_model_name": "LayoutModel",
            "_view_count": null,
            "_view_module": "@jupyter-widgets/base",
            "_view_module_version": "1.2.0",
            "_view_name": "LayoutView",
            "align_content": null,
            "align_items": null,
            "align_self": null,
            "border": null,
            "bottom": null,
            "display": null,
            "flex": null,
            "flex_flow": null,
            "grid_area": null,
            "grid_auto_columns": null,
            "grid_auto_flow": null,
            "grid_auto_rows": null,
            "grid_column": null,
            "grid_gap": null,
            "grid_row": null,
            "grid_template_areas": null,
            "grid_template_columns": null,
            "grid_template_rows": null,
            "height": null,
            "justify_content": null,
            "justify_items": null,
            "left": null,
            "margin": null,
            "max_height": null,
            "max_width": null,
            "min_height": null,
            "min_width": null,
            "object_fit": null,
            "object_position": null,
            "order": null,
            "overflow": null,
            "overflow_x": null,
            "overflow_y": null,
            "padding": null,
            "right": null,
            "top": null,
            "visibility": null,
            "width": null
          }
        },
        "1eedaf76705e4e2aa7cf18cf9fdc5ad3": {
          "model_module": "@jupyter-widgets/controls",
          "model_name": "DescriptionStyleModel",
          "model_module_version": "1.5.0",
          "state": {
            "_model_module": "@jupyter-widgets/controls",
            "_model_module_version": "1.5.0",
            "_model_name": "DescriptionStyleModel",
            "_view_count": null,
            "_view_module": "@jupyter-widgets/base",
            "_view_module_version": "1.2.0",
            "_view_name": "StyleView",
            "description_width": ""
          }
        },
        "8738a7347ba64b7583a1bf98d8363d67": {
          "model_module": "@jupyter-widgets/controls",
          "model_name": "HBoxModel",
          "model_module_version": "1.5.0",
          "state": {
            "_dom_classes": [],
            "_model_module": "@jupyter-widgets/controls",
            "_model_module_version": "1.5.0",
            "_model_name": "HBoxModel",
            "_view_count": null,
            "_view_module": "@jupyter-widgets/controls",
            "_view_module_version": "1.5.0",
            "_view_name": "HBoxView",
            "box_style": "",
            "children": [
              "IPY_MODEL_3926761f6cd5478ba14da71def423461",
              "IPY_MODEL_a39351b0070a48049f09c4db2110eb73",
              "IPY_MODEL_d50577525f174181af7aad84eda6bd4c"
            ],
            "layout": "IPY_MODEL_6f6905a9abbf44829d32317d61cd99d3"
          }
        },
        "3926761f6cd5478ba14da71def423461": {
          "model_module": "@jupyter-widgets/controls",
          "model_name": "HTMLModel",
          "model_module_version": "1.5.0",
          "state": {
            "_dom_classes": [],
            "_model_module": "@jupyter-widgets/controls",
            "_model_module_version": "1.5.0",
            "_model_name": "HTMLModel",
            "_view_count": null,
            "_view_module": "@jupyter-widgets/controls",
            "_view_module_version": "1.5.0",
            "_view_name": "HTMLView",
            "description": "",
            "description_tooltip": null,
            "layout": "IPY_MODEL_d42c72cc90a04ae1bfa55460757589e4",
            "placeholder": "​",
            "style": "IPY_MODEL_3d5cd459b8cc4c5da0214710d4c4fd9f",
            "value": "  5%"
          }
        },
        "a39351b0070a48049f09c4db2110eb73": {
          "model_module": "@jupyter-widgets/controls",
          "model_name": "FloatProgressModel",
          "model_module_version": "1.5.0",
          "state": {
            "_dom_classes": [],
            "_model_module": "@jupyter-widgets/controls",
            "_model_module_version": "1.5.0",
            "_model_name": "FloatProgressModel",
            "_view_count": null,
            "_view_module": "@jupyter-widgets/controls",
            "_view_module_version": "1.5.0",
            "_view_name": "ProgressView",
            "bar_style": "",
            "description": "",
            "description_tooltip": null,
            "layout": "IPY_MODEL_a6a6738030ac4ecd9cd055e27ef8fde5",
            "max": 28537,
            "min": 0,
            "orientation": "horizontal",
            "style": "IPY_MODEL_c6483f37d06d4631a998e0c3950b8b92",
            "value": 1423
          }
        },
        "d50577525f174181af7aad84eda6bd4c": {
          "model_module": "@jupyter-widgets/controls",
          "model_name": "HTMLModel",
          "model_module_version": "1.5.0",
          "state": {
            "_dom_classes": [],
            "_model_module": "@jupyter-widgets/controls",
            "_model_module_version": "1.5.0",
            "_model_name": "HTMLModel",
            "_view_count": null,
            "_view_module": "@jupyter-widgets/controls",
            "_view_module_version": "1.5.0",
            "_view_name": "HTMLView",
            "description": "",
            "description_tooltip": null,
            "layout": "IPY_MODEL_28d3a9bb04d54a7b91935414c6fa68c9",
            "placeholder": "​",
            "style": "IPY_MODEL_3ab7a4c7e59d4439a7c65fd9ce0dc873",
            "value": " 1423/28537 [03:05&lt;51:42,  8.74it/s]"
          }
        },
        "6f6905a9abbf44829d32317d61cd99d3": {
          "model_module": "@jupyter-widgets/base",
          "model_name": "LayoutModel",
          "model_module_version": "1.2.0",
          "state": {
            "_model_module": "@jupyter-widgets/base",
            "_model_module_version": "1.2.0",
            "_model_name": "LayoutModel",
            "_view_count": null,
            "_view_module": "@jupyter-widgets/base",
            "_view_module_version": "1.2.0",
            "_view_name": "LayoutView",
            "align_content": null,
            "align_items": null,
            "align_self": null,
            "border": null,
            "bottom": null,
            "display": null,
            "flex": null,
            "flex_flow": null,
            "grid_area": null,
            "grid_auto_columns": null,
            "grid_auto_flow": null,
            "grid_auto_rows": null,
            "grid_column": null,
            "grid_gap": null,
            "grid_row": null,
            "grid_template_areas": null,
            "grid_template_columns": null,
            "grid_template_rows": null,
            "height": null,
            "justify_content": null,
            "justify_items": null,
            "left": null,
            "margin": null,
            "max_height": null,
            "max_width": null,
            "min_height": null,
            "min_width": null,
            "object_fit": null,
            "object_position": null,
            "order": null,
            "overflow": null,
            "overflow_x": null,
            "overflow_y": null,
            "padding": null,
            "right": null,
            "top": null,
            "visibility": null,
            "width": null
          }
        },
        "d42c72cc90a04ae1bfa55460757589e4": {
          "model_module": "@jupyter-widgets/base",
          "model_name": "LayoutModel",
          "model_module_version": "1.2.0",
          "state": {
            "_model_module": "@jupyter-widgets/base",
            "_model_module_version": "1.2.0",
            "_model_name": "LayoutModel",
            "_view_count": null,
            "_view_module": "@jupyter-widgets/base",
            "_view_module_version": "1.2.0",
            "_view_name": "LayoutView",
            "align_content": null,
            "align_items": null,
            "align_self": null,
            "border": null,
            "bottom": null,
            "display": null,
            "flex": null,
            "flex_flow": null,
            "grid_area": null,
            "grid_auto_columns": null,
            "grid_auto_flow": null,
            "grid_auto_rows": null,
            "grid_column": null,
            "grid_gap": null,
            "grid_row": null,
            "grid_template_areas": null,
            "grid_template_columns": null,
            "grid_template_rows": null,
            "height": null,
            "justify_content": null,
            "justify_items": null,
            "left": null,
            "margin": null,
            "max_height": null,
            "max_width": null,
            "min_height": null,
            "min_width": null,
            "object_fit": null,
            "object_position": null,
            "order": null,
            "overflow": null,
            "overflow_x": null,
            "overflow_y": null,
            "padding": null,
            "right": null,
            "top": null,
            "visibility": null,
            "width": null
          }
        },
        "3d5cd459b8cc4c5da0214710d4c4fd9f": {
          "model_module": "@jupyter-widgets/controls",
          "model_name": "DescriptionStyleModel",
          "model_module_version": "1.5.0",
          "state": {
            "_model_module": "@jupyter-widgets/controls",
            "_model_module_version": "1.5.0",
            "_model_name": "DescriptionStyleModel",
            "_view_count": null,
            "_view_module": "@jupyter-widgets/base",
            "_view_module_version": "1.2.0",
            "_view_name": "StyleView",
            "description_width": ""
          }
        },
        "a6a6738030ac4ecd9cd055e27ef8fde5": {
          "model_module": "@jupyter-widgets/base",
          "model_name": "LayoutModel",
          "model_module_version": "1.2.0",
          "state": {
            "_model_module": "@jupyter-widgets/base",
            "_model_module_version": "1.2.0",
            "_model_name": "LayoutModel",
            "_view_count": null,
            "_view_module": "@jupyter-widgets/base",
            "_view_module_version": "1.2.0",
            "_view_name": "LayoutView",
            "align_content": null,
            "align_items": null,
            "align_self": null,
            "border": null,
            "bottom": null,
            "display": null,
            "flex": null,
            "flex_flow": null,
            "grid_area": null,
            "grid_auto_columns": null,
            "grid_auto_flow": null,
            "grid_auto_rows": null,
            "grid_column": null,
            "grid_gap": null,
            "grid_row": null,
            "grid_template_areas": null,
            "grid_template_columns": null,
            "grid_template_rows": null,
            "height": null,
            "justify_content": null,
            "justify_items": null,
            "left": null,
            "margin": null,
            "max_height": null,
            "max_width": null,
            "min_height": null,
            "min_width": null,
            "object_fit": null,
            "object_position": null,
            "order": null,
            "overflow": null,
            "overflow_x": null,
            "overflow_y": null,
            "padding": null,
            "right": null,
            "top": null,
            "visibility": null,
            "width": null
          }
        },
        "c6483f37d06d4631a998e0c3950b8b92": {
          "model_module": "@jupyter-widgets/controls",
          "model_name": "ProgressStyleModel",
          "model_module_version": "1.5.0",
          "state": {
            "_model_module": "@jupyter-widgets/controls",
            "_model_module_version": "1.5.0",
            "_model_name": "ProgressStyleModel",
            "_view_count": null,
            "_view_module": "@jupyter-widgets/base",
            "_view_module_version": "1.2.0",
            "_view_name": "StyleView",
            "bar_color": null,
            "description_width": ""
          }
        },
        "28d3a9bb04d54a7b91935414c6fa68c9": {
          "model_module": "@jupyter-widgets/base",
          "model_name": "LayoutModel",
          "model_module_version": "1.2.0",
          "state": {
            "_model_module": "@jupyter-widgets/base",
            "_model_module_version": "1.2.0",
            "_model_name": "LayoutModel",
            "_view_count": null,
            "_view_module": "@jupyter-widgets/base",
            "_view_module_version": "1.2.0",
            "_view_name": "LayoutView",
            "align_content": null,
            "align_items": null,
            "align_self": null,
            "border": null,
            "bottom": null,
            "display": null,
            "flex": null,
            "flex_flow": null,
            "grid_area": null,
            "grid_auto_columns": null,
            "grid_auto_flow": null,
            "grid_auto_rows": null,
            "grid_column": null,
            "grid_gap": null,
            "grid_row": null,
            "grid_template_areas": null,
            "grid_template_columns": null,
            "grid_template_rows": null,
            "height": null,
            "justify_content": null,
            "justify_items": null,
            "left": null,
            "margin": null,
            "max_height": null,
            "max_width": null,
            "min_height": null,
            "min_width": null,
            "object_fit": null,
            "object_position": null,
            "order": null,
            "overflow": null,
            "overflow_x": null,
            "overflow_y": null,
            "padding": null,
            "right": null,
            "top": null,
            "visibility": null,
            "width": null
          }
        },
        "3ab7a4c7e59d4439a7c65fd9ce0dc873": {
          "model_module": "@jupyter-widgets/controls",
          "model_name": "DescriptionStyleModel",
          "model_module_version": "1.5.0",
          "state": {
            "_model_module": "@jupyter-widgets/controls",
            "_model_module_version": "1.5.0",
            "_model_name": "DescriptionStyleModel",
            "_view_count": null,
            "_view_module": "@jupyter-widgets/base",
            "_view_module_version": "1.2.0",
            "_view_name": "StyleView",
            "description_width": ""
          }
        }
      }
    }
  },
  "nbformat": 4,
  "nbformat_minor": 0
}