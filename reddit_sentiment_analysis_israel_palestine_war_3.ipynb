{
  "cells": [
    {
      "cell_type": "markdown",
      "metadata": {
        "id": "view-in-github",
        "colab_type": "text"
      },
      "source": [
        "<a href=\"https://colab.research.google.com/github/ishantomar/ishantomar/blob/main/reddit_sentiment_analysis_israel_palestine_war_3.ipynb\" target=\"_parent\"><img src=\"https://colab.research.google.com/assets/colab-badge.svg\" alt=\"Open In Colab\"/></a>"
      ]
    },
    {
      "cell_type": "code",
      "execution_count": 1,
      "metadata": {
        "execution": {
          "iopub.execute_input": "2024-01-11T23:31:49.618138Z",
          "iopub.status.busy": "2024-01-11T23:31:49.617107Z",
          "iopub.status.idle": "2024-01-11T23:31:52.441757Z",
          "shell.execute_reply": "2024-01-11T23:31:52.440827Z",
          "shell.execute_reply.started": "2024-01-11T23:31:49.618095Z"
        },
        "trusted": true,
        "id": "tFZm4ZHadD4a"
      },
      "outputs": [],
      "source": [
        "import pandas as pd\n",
        "import numpy as np\n",
        "import random\n",
        "import pytz\n",
        "import datetime\n",
        "from collections import defaultdict\n",
        "from textblob import TextBlob\n",
        "from wordcloud import WordCloud\n",
        "import pandas as pd\n",
        "from sklearn.feature_extraction.text import TfidfVectorizer\n",
        "from sklearn.cluster import KMeans\n",
        "import nltk\n",
        "from nltk.corpus import stopwords\n",
        "from nltk.tokenize import word_tokenize\n",
        "from sklearn.decomposition import PCA\n",
        "import matplotlib.pyplot as plt\n",
        "import re\n",
        "import numpy as np\n",
        "from bs4 import BeautifulSoup\n",
        "from nltk.stem import WordNetLemmatizer\n",
        "from nltk.sentiment.vader import SentimentIntensityAnalyzer\n",
        "import seaborn as sns\n",
        "import matplotlib.pyplot as plt\n",
        "from wordcloud import WordCloud, STOPWORDS\n",
        "from sklearn.feature_extraction.text import TfidfVectorizer\n",
        "from sklearn.decomposition import LatentDirichletAllocation\n",
        "\n",
        "#Hugging Face\n",
        "from transformers import AutoTokenizer, AutoModelForSequenceClassification#\n",
        "from scipy.special import softmax\n",
        "\n",
        "# Visualization\n",
        "import seaborn as sns\n",
        "import matplotlib.pyplot as plt\n",
        "import matplotlib.patches as mpatches\n",
        "from matplotlib.dates import DateFormatter\n",
        "import plotly.express as px\n",
        "import plotly.graph_objects as go\n",
        "import missingno as msno\n",
        "from IPython.display import HTML,display\n",
        "\n",
        "import warnings\n",
        "warnings.filterwarnings(\"ignore\")\n",
        "\n",
        "import cudf\n",
        "%load_ext cudf.pandas\n",
        "import time\n",
        "from datetime import timedelta\n",
        "\n",
        "pd.set_option('display.max_columns', 25)\n",
        "pd.set_option('display.max_rows', 70)\n",
        "pd.set_option('display.min_rows', 5)\n",
        "pd.set_option('display.max_colwidth', 1000)\n",
        "from google.colab import drive\n",
        "drive.mount('/content/drive/')\n",
        "# %reload_ext cudf.pandas\n",
        "# df_original = pd.read_csv(\"/kaggle/input/reddit-on-israel-palestine-daily-updated/reddit_opinion_PSE_ISR.csv\")\n",
        "# df_original = pd.read_csv(r\"c:\\Users\\tomar\\Documents\\Sheffield Sem 2\\Research And Dissertation Preparation\\Final_Dissertation\\DataSet\\reddit_opinion_PSE_ISR.csv\")\n",
        "start_time = time.monotonic()\n",
        "df_original = pd.read_csv(\"/content/drive/MyDrive/Dissertation/Dataset/reddit_opinion_PSE_ISR_cleaned_1.csv\")\n",
        "end_time = time.monotonic()\n",
        "print(timedelta(seconds=end_time - start_time))\n",
        "df = df_original.copy()\n",
        "# df.sample(1)"
      ]
    },
    {
      "cell_type": "code",
      "source": [
        "from nltk.corpus import stopwords\n",
        "from nltk.tokenize import word_tokenize\n",
        "from nltk.stem import WordNetLemmatizer\n",
        "from bs4 import BeautifulSoup\n",
        "import re\n",
        "# Initialize the lemmatizer and stopwords\n",
        "lemmatizer = WordNetLemmatizer()\n",
        "stop_words = set(stopwords.words('english'))\n",
        "\n",
        "nltk.download('all-corpora')\n",
        "nltk.download('punkt')"
      ],
      "metadata": {
        "id": "2RGpLGYndD4g"
      },
      "execution_count": null,
      "outputs": []
    },
    {
      "cell_type": "code",
      "source": [
        "exclude_cols = ['post_self_text', 'post_title', 'self_text', 'clean_text', 'clean_post_self_text']\n",
        "included_cols = [col for col in df.columns if col not in exclude_cols]\n",
        "print(len(included_cols), included_cols)\n",
        "df_no_text = df[included_cols]\n",
        "df_no_text.to_csv(\"/content/drive/MyDrive/Dissertation/Dataset/reddit_opinion_PSE_ISR_no_text.csv\")"
      ],
      "metadata": {
        "colab": {
          "base_uri": "https://localhost:8080/",
          "height": 0
        },
        "id": "9jLz7nv6RlTy",
        "outputId": "eba5c08a-ca0f-4f0d-af32-ca6fc5b4ece4"
      },
      "execution_count": 11,
      "outputs": [
        {
          "output_type": "stream",
          "name": "stdout",
          "text": [
            "22 ['Unnamed: 0', 'comment_id', 'score', 'subreddit', 'created_time', 'post_id', 'author_name', 'controversiality', 'ups', 'downs', 'user_is_verified', 'user_account_created_time', 'user_awardee_karma', 'user_awarder_karma', 'user_link_karma', 'user_comment_karma', 'user_total_karma', 'post_score', 'post_upvote_ratio', 'post_thumbs_ups', 'post_total_awards_received', 'post_created_time']\n"
          ]
        }
      ]
    },
    {
      "cell_type": "markdown",
      "metadata": {
        "id": "qxmQdepydD4d"
      },
      "source": [
        "# **Data Exploration and Cleaning**"
      ]
    },
    {
      "cell_type": "code",
      "execution_count": null,
      "metadata": {
        "execution": {
          "iopub.execute_input": "2024-01-11T23:32:18.469671Z",
          "iopub.status.busy": "2024-01-11T23:32:18.468943Z",
          "iopub.status.idle": "2024-01-11T23:32:18.477161Z",
          "shell.execute_reply": "2024-01-11T23:32:18.476051Z",
          "shell.execute_reply.started": "2024-01-11T23:32:18.46963Z"
        },
        "trusted": true,
        "id": "WMnnOTg0dD4e",
        "outputId": "bf50a4ac-6c76-4780-c063-0e0bf38b2b18"
      },
      "outputs": [
        {
          "data": {
            "text/plain": [
              "(1547486, 24)"
            ]
          },
          "execution_count": 7,
          "metadata": {},
          "output_type": "execute_result"
        }
      ],
      "source": [
        "df.shape\n",
        "df.columns\n",
        "df.head()\n",
        "df.dtypes\n",
        "### ***Changing wrong data types***\n",
        "# convert to datetime using pd.to_datetime\n",
        "df['created_time'] = pd.to_datetime(df['created_time'])\n",
        "df['post_created_time'] = pd.to_datetime(df['post_created_time'])\n",
        "df['user_account_created_time'] = pd.to_datetime(df['user_account_created_time'])\n",
        "\n",
        "df.dtypes"
      ]
    },
    {
      "cell_type": "markdown",
      "metadata": {
        "id": "vLwvFGHNdD4g"
      },
      "source": [
        "### ***Cleaning text columns for better analysis***"
      ]
    },
    {
      "cell_type": "code",
      "execution_count": null,
      "metadata": {
        "execution": {
          "iopub.execute_input": "2024-01-11T23:32:38.553899Z",
          "iopub.status.busy": "2024-01-11T23:32:38.553146Z",
          "iopub.status.idle": "2024-01-11T23:32:38.560946Z",
          "shell.execute_reply": "2024-01-11T23:32:38.559778Z",
          "shell.execute_reply.started": "2024-01-11T23:32:38.55386Z"
        },
        "trusted": true,
        "id": "y_DsPz9-dD4g"
      },
      "outputs": [],
      "source": [
        "# import zipfile\n",
        "# import os\n",
        "\n",
        "# zip_file_path = '/usr/share/nltk_data/corpora/wordnet.zip'\n",
        "# destination_directory = '/usr/share/nltk_data/corpora/'\n",
        "\n",
        "# # Check if the specific file exists in the destination directory\n",
        "# file_to_check = 'index.adv'\n",
        "# file_path_to_check = os.path.join(destination_directory, 'wordnet', file_to_check)\n",
        "\n",
        "# if not os.path.exists(file_path_to_check):\n",
        "#     # Unzip the entire archive if the specific file doesn't exist\n",
        "#     with zipfile.ZipFile(zip_file_path, 'r') as zip_ref:\n",
        "#         zip_ref.extractall(destination_directory)\n",
        "#     print(f\"Successfully unzipped {zip_file_path} to {destination_directory}\")\n",
        "# else:\n",
        "#     print(f\"File {file_to_check} already exists. No need to unzip the archive.\")"
      ]
    },
    {
      "cell_type": "code",
      "execution_count": null,
      "metadata": {
        "id": "XgnVp3IZdD4h"
      },
      "outputs": [],
      "source": [
        "def clean_text(text):\n",
        "    if isinstance(text, str):  # Check if the input is a string\n",
        "        # Remove URLs\n",
        "        text = re.sub(r'http\\S+', '', text)\n",
        "\n",
        "        # Remove HTML tags\n",
        "        soup = BeautifulSoup(text, 'html.parser')\n",
        "        text = soup.get_text()\n",
        "\n",
        "        # Remove special characters and lowercase the text\n",
        "        text = re.sub(r'[^a-zA-Z0-9\\s]', '', text).lower()\n",
        "\n",
        "        # Tokenization\n",
        "        tokens = word_tokenize(text)\n",
        "\n",
        "        # Lemmatization and removing stopwords\n",
        "        tokens = [lemmatizer.lemmatize(token) for token in tokens if token not in stop_words]\n",
        "\n",
        "        # Join the tokens back into a sentence\n",
        "        cleaned_text = ' '.join(tokens)\n",
        "\n",
        "        return cleaned_text\n",
        "    else:\n",
        "        return ''  # Return an empty string for non-string values\n",
        "\n",
        "\n",
        "# usage on 'self_text' column\n",
        "df['clean_text'] = df['self_text'].apply(clean_text)\n",
        "\n",
        "# df.to_csv(r\"C:\\Users\\tomar\\Documents\\Sheffield Sem 2\\Research And Dissertation Preparation\\Final_Dissertation\\DataSet\\reddit_opinion_PSE_ISR_cleaned_1.csv\")"
      ]
    },
    {
      "cell_type": "code",
      "execution_count": null,
      "metadata": {
        "execution": {
          "iopub.execute_input": "2024-01-11T23:37:38.671291Z",
          "iopub.status.busy": "2024-01-11T23:37:38.670948Z",
          "iopub.status.idle": "2024-01-11T23:37:38.677763Z",
          "shell.execute_reply": "2024-01-11T23:37:38.676716Z",
          "shell.execute_reply.started": "2024-01-11T23:37:38.671262Z"
        },
        "trusted": true,
        "id": "_nXHkZwZdD4h"
      },
      "outputs": [],
      "source": [
        "# without Initialize the lemmatizer and stopwords {self_text} column\n",
        "# for i in range(15):\n",
        "#     print(df.self_text[i])\n",
        "# with Initialize the lemmatizer and stopwords for self_text column\n",
        "for i in range(15):\n",
        "    print(df.clean_text[i])\n",
        "# usage on 'post_self_text' column\n",
        "df['clean_post_self_text'] = df['post_self_text'].apply(clean_text)\n",
        "# without Initialize the lemmatizer and stopwords post_self_text column\n",
        "for i in range(15):\n",
        "    print(df.post_self_text[i])\n",
        "# with Initialize the lemmatizer and stopwords post_self_text column\n",
        "for i in range(15):\n",
        "    print(df.clean_post_self_text[i])"
      ]
    },
    {
      "cell_type": "markdown",
      "metadata": {
        "id": "NvyZaBIOdD4i"
      },
      "source": [
        "#### ***Select data(posts+comments) starting from '2023-10-07'***"
      ]
    },
    {
      "cell_type": "code",
      "execution_count": 27,
      "metadata": {
        "execution": {
          "iopub.execute_input": "2024-01-11T23:59:05.371861Z",
          "iopub.status.busy": "2024-01-11T23:59:05.37146Z",
          "iopub.status.idle": "2024-01-11T23:59:05.612386Z",
          "shell.execute_reply": "2024-01-11T23:59:05.611217Z",
          "shell.execute_reply.started": "2024-01-11T23:59:05.371831Z"
        },
        "trusted": true,
        "colab": {
          "base_uri": "https://localhost:8080/",
          "height": 0
        },
        "id": "N2Tw-VbJdD4j",
        "outputId": "fddbf0bd-329d-44fa-a82b-0786fd1edbb3"
      },
      "outputs": [
        {
          "output_type": "stream",
          "name": "stdout",
          "text": [
            "Len. of data before 2023-10-07: 1547486\n",
            "Len. of data After 2023-10-07: 1544785\n",
            "Num. of dropped rows: 2701\n"
          ]
        }
      ],
      "source": [
        "print('Len. of data before 2023-10-07:' ,len(df))\n",
        "start_date = pd.to_datetime('2023-10-07')\n",
        "\n",
        "# data(posts+comments) starting from '2023-10-07'\n",
        "filtered_df = df[(df['post_created_time'] >= start_date) & (df['created_time'] >= start_date)]\n",
        "print('Len. of data After 2023-10-07:',len(filtered_df))\n",
        "print('Num. of dropped rows:',len(df)-len(filtered_df))\n",
        "# Get total number of missing values for all the dataset\n",
        "filtered_df.isnull().sum().sum()\n",
        "filtered_df.isnull().sum()\n",
        "# ***The post_self_text column contains the most null values,but This doesn't necessarily mean posts lack content; it's due to the dataset structure where post details get repeated for each comment.***\n",
        "# ***See the dublicated data***\n",
        "# Check the dublicated posts in dataset\n",
        "print(f\" Duplicate Posts: {filtered_df[['post_title','post_self_text']].duplicated().sum()}\")\n",
        "# Check the dublicated comments in dataset\n",
        "print(f'Duplicate Comments: {filtered_df[[\"self_text\"]].duplicated().sum()}')"
      ]
    },
    {
      "cell_type": "markdown",
      "metadata": {
        "id": "yLmzQAesdD4l"
      },
      "source": [
        "> **However there are many duplicated values, but we can't remove all of them. Perhaps it will affect the results, due to many people can share the same post or have the same agreement in the comment.**"
      ]
    },
    {
      "cell_type": "markdown",
      "metadata": {
        "id": "LvGPIdQhdD4l"
      },
      "source": [
        "***show the most duplicated values***"
      ]
    },
    {
      "cell_type": "code",
      "execution_count": null,
      "metadata": {
        "execution": {
          "iopub.execute_input": "2024-01-11T23:59:34.137795Z",
          "iopub.status.busy": "2024-01-11T23:59:34.13735Z",
          "iopub.status.idle": "2024-01-11T23:59:34.494536Z",
          "shell.execute_reply": "2024-01-11T23:59:34.493342Z",
          "shell.execute_reply.started": "2024-01-11T23:59:34.137761Z"
        },
        "trusted": true,
        "id": "ce1pKkNYdD4l"
      },
      "outputs": [],
      "source": [
        "#show the most duplicated values in posts\n",
        "df_duplicated_postss = filtered_df[filtered_df.duplicated(subset=['post_self_text'])]\n",
        "post_self_text_countss = df_duplicated_postss['post_self_text'].value_counts().reset_index()\n",
        "post_self_text_countss.columns = ['post_self_text', 'count']\n",
        "post_self_text_countss.head(15)\n",
        "#show the most duplicated values in comments\n",
        "df_duplicated_comments= filtered_df[filtered_df.duplicated(subset=['self_text'])]\n",
        "self_text_counts = df_duplicated_comments['self_text'].value_counts().reset_index()\n",
        "self_text_counts.columns = ['self_text', 'count']\n",
        "self_text_counts.head(15)"
      ]
    },
    {
      "cell_type": "markdown",
      "metadata": {
        "id": "7cG_OWbzdD4m"
      },
      "source": [
        "# **sentiment analysis**\n"
      ]
    },
    {
      "cell_type": "markdown",
      "metadata": {
        "id": "zrw1TydbdD4m"
      },
      "source": [
        "***Starting with posts sentiment analysis***"
      ]
    },
    {
      "cell_type": "markdown",
      "metadata": {
        "id": "d930wSNVdD4m"
      },
      "source": [
        "> Some reddit posts can only have a post title and a photo or video. This could be useful for identifying posts."
      ]
    },
    {
      "cell_type": "markdown",
      "metadata": {
        "id": "3AKsuRF2dD4m"
      },
      "source": [
        "# 1. Posts Sentiment Analysis  "
      ]
    },
    {
      "cell_type": "code",
      "source": [
        "print(pd)\n"
      ],
      "metadata": {
        "id": "RccMMFdomcFq"
      },
      "execution_count": null,
      "outputs": []
    },
    {
      "cell_type": "code",
      "source": [
        "MODEL = f'cardiffnlp/twitter-roberta-base-sentiment'\n",
        "tokenizer = AutoTokenizer.from_pretrained(MODEL)\n",
        "model = AutoModelForSequenceClassification.from_pretrained(MODEL)"
      ],
      "metadata": {
        "colab": {
          "base_uri": "https://localhost:8080/",
          "height": 177,
          "referenced_widgets": [
            "f2cb8101f40d49d6abe9e07344c5b890",
            "eb407b10a92f4fb7aeb8e30bbcd2963a",
            "b280f47026514ada8218f235a0f148cc",
            "df379ad4e24e43ce982e198dd5d2d8c7",
            "6324d56510b04eb2853ab60890dbc66a",
            "413626d2a09f4cb787292fcf2023ec81",
            "79ce1ab2ba5348d3a70e3a5bb50f9d98",
            "6159f2d69ccf4e83836abaf1f7b147a0",
            "b348fb7d12ac4bfd8d12e1e7be0baa95",
            "3906d15b02ee4e20a6e94f625a37acc8",
            "4367951173564118a2925d714aad007f",
            "8ed475d8813f46d7884cd201f4acb4a5",
            "cf8c8e0a07054a16909724cb0ca0eefb",
            "444522f2df7b4960a7684a1901738905",
            "dd995496cef74152b151158dee1bcd2b",
            "bc96897107e34d78a976f2aead64043d",
            "a1963097f6934057aec755fce3e759fe",
            "8cc0edc8906941c9b327fe94834a1a8d",
            "59decdc2735c48cdb87695df565cb944",
            "2933dc4a6dd44949927b6fe9a04a93aa",
            "0ec854bc1f3e49cd9e56c9b1983c46fb",
            "b3005fec0e9641dfb9a8c34d3c3b1f86",
            "d883b74e156e4524a9092f9607a3e27a",
            "c8e5ee73f6124d2bb4ad7a86531e7b7e",
            "ae23bc9eb3f84ff0942d20e885dc7684",
            "81a29c735bb1436f9f0b79690871f8fa",
            "9da88fc60f504e0cb7499b2413337663",
            "a485e7fc2aaf46bfaa2f6371da0ab026",
            "f4c1fb120a1f4ea78e82f9f27051033b",
            "02ce51feba614f9daa433ffe7e8b0554",
            "1b49d9bae72849b9999e18434254fce6",
            "80aa103ccd0a4c1a9585c92e8d2e0217",
            "e548cfa200e24b0c82e7c29a56e01e1e",
            "fbe8f30d915640dea77defd21ba696a9",
            "274b1667033c481e8137d4568b5c83ef",
            "ecb467a03c0f4f86849db9c45d6e19da",
            "9abdb3d212cf4e9e93f00c8bdece9284",
            "64bf690ce9af4a9da69e17b61d1b40bd",
            "6ff66c39ce7f400fb08228e4170f2c77",
            "9bf985d96cef40169ea591af6f2860c2",
            "f2bffe60063345739aba96e2ef02d9fc",
            "8a594c272da04bed865e93786490e30a",
            "0bb5cca1f0c34c3da972cb6aad1f2f76",
            "fd30bd43a8304a4692f4b0ceffc0618e",
            "7e5a0f7e7e1247e88b2cfd8e0a5013c1",
            "d417b30fac1a425087cfbefd50c0552e",
            "d8e74b26c54f406eb5dbec2975bbcf8a",
            "993fc987fd7a4330829d8617b66e2188",
            "7b95bbdc21694681b2dc4896eb133f28",
            "24c57c9ccd364a04b2d09f3d0df3dc20",
            "fb6f3ea6c4fd412bbd9b662e7990a280",
            "858086d8b49844ff9fbb4f02ceec372c",
            "36d13f3de5f84f479cd1e04c30f14b63",
            "556ee4bc6c81409a85664d339d77b37a",
            "ba2e56cfda5442248e0c8a27eaacfcf4"
          ]
        },
        "id": "LIVJ1DyKmIzL",
        "outputId": "4f00839f-f272-4b01-bbd2-bf5495b32961"
      },
      "execution_count": 29,
      "outputs": [
        {
          "output_type": "display_data",
          "data": {
            "text/plain": [
              "config.json:   0%|          | 0.00/747 [00:00<?, ?B/s]"
            ],
            "application/vnd.jupyter.widget-view+json": {
              "version_major": 2,
              "version_minor": 0,
              "model_id": "f2cb8101f40d49d6abe9e07344c5b890"
            }
          },
          "metadata": {}
        },
        {
          "output_type": "display_data",
          "data": {
            "text/plain": [
              "vocab.json:   0%|          | 0.00/899k [00:00<?, ?B/s]"
            ],
            "application/vnd.jupyter.widget-view+json": {
              "version_major": 2,
              "version_minor": 0,
              "model_id": "8ed475d8813f46d7884cd201f4acb4a5"
            }
          },
          "metadata": {}
        },
        {
          "output_type": "display_data",
          "data": {
            "text/plain": [
              "merges.txt:   0%|          | 0.00/456k [00:00<?, ?B/s]"
            ],
            "application/vnd.jupyter.widget-view+json": {
              "version_major": 2,
              "version_minor": 0,
              "model_id": "d883b74e156e4524a9092f9607a3e27a"
            }
          },
          "metadata": {}
        },
        {
          "output_type": "display_data",
          "data": {
            "text/plain": [
              "special_tokens_map.json:   0%|          | 0.00/150 [00:00<?, ?B/s]"
            ],
            "application/vnd.jupyter.widget-view+json": {
              "version_major": 2,
              "version_minor": 0,
              "model_id": "fbe8f30d915640dea77defd21ba696a9"
            }
          },
          "metadata": {}
        },
        {
          "output_type": "display_data",
          "data": {
            "text/plain": [
              "pytorch_model.bin:   0%|          | 0.00/499M [00:00<?, ?B/s]"
            ],
            "application/vnd.jupyter.widget-view+json": {
              "version_major": 2,
              "version_minor": 0,
              "model_id": "7e5a0f7e7e1247e88b2cfd8e0a5013c1"
            }
          },
          "metadata": {}
        }
      ]
    },
    {
      "cell_type": "code",
      "source": [
        "def getSentiment(text):\n",
        "    # ipdb.set_trace()\n",
        "    encoded_text = tokenizer(text, return_tensors='pt')\n",
        "    output = model(**encoded_text)\n",
        "    scores = output[0][0].detach().numpy()\n",
        "    scores = softmax(scores)\n",
        "    sentiment_dict = {0: 'Neg', 1: 'Neu', 2: 'Pos'}\n",
        "    sentiment = sentiment_dict[np.where(scores==scores.max())[0][0]]\n",
        "    return sentiment\n",
        "getSentiment('This is not bad')"
      ],
      "metadata": {
        "colab": {
          "base_uri": "https://localhost:8080/",
          "height": 35
        },
        "id": "x4MEUHtpmV8w",
        "outputId": "31ca3c60-5ba2-4261-c86c-fa0b801ce443"
      },
      "execution_count": 30,
      "outputs": [
        {
          "output_type": "execute_result",
          "data": {
            "text/plain": [
              "'Pos'"
            ],
            "application/vnd.google.colaboratory.intrinsic+json": {
              "type": "string"
            }
          },
          "metadata": {},
          "execution_count": 30
        }
      ]
    },
    {
      "cell_type": "code",
      "source": [
        "post_sentimenet_filtered_df=filtered_df[(~filtered_df['post_title'].isna())]\n",
        "# Remove duplicate values from the 'post_title' column , as the one post may be duplicated as it has many comments\n",
        "start_time_1 = time.monotonic()\n",
        "post_sentimenet_filtered_df = post_sentimenet_filtered_df.drop_duplicates(subset=['post_title'])\n",
        "end_time_1 = time.monotonic()\n",
        "print(f\"Time taken to drop duplicates: {timedelta(seconds=end_time_1 - start_time_1)}\")\n",
        "# Calc sentiment score for each record\n",
        "# post_sentimenet_filtered_df['post_sentiment'] = post_sentimenet_filtered_df['post_title'].apply(lambda x: TextBlob(str(x)).sentiment.polarity)\n",
        "# Assign sentiment category based on sentiment score\n",
        "# post_sentimenet_filtered_df['post_sentiment_category'] = post_sentimenet_filtered_df['post_sentiment'].apply(lambda x: 'Positive' if x > 0 else ('Negative' if x < 0 else 'Neutral'))\n",
        "start_time_2 = time.monotonic()\n",
        "post_sentimenet_filtered_df['post_sentiment_roberta'] = post_sentimenet_filtered_df['post_title'].apply(getSentiment)\n",
        "end_time_2 = time.monotonic()\n",
        "print(f\"Time taken to get roberta sentiments: {timedelta(seconds=end_time_2 - start_time_2)}\")\n",
        "# Count the occurrences of each sentiment category\n",
        "sentiment_counts = post_sentimenet_filtered_df['post_sentiment_roberta'].value_counts()\n",
        "sentiment_counts_df = sentiment_counts.reset_index()\n",
        "sentiment_counts_df.columns = ['Post_Sentiment', 'Count']\n",
        "sentiment_counts_df = sentiment_counts_df.sort_values(by='Count', ascending=False)\n",
        "sentiment_counts_df.style.background_gradient(cmap='YlGnBu')\n"
      ],
      "metadata": {
        "id": "0PLyvnT62gKr"
      },
      "execution_count": null,
      "outputs": []
    },
    {
      "cell_type": "markdown",
      "metadata": {
        "id": "FPRhioFldD4x"
      },
      "source": [
        "***i. sentiment analysis for post title***"
      ]
    },
    {
      "cell_type": "code",
      "execution_count": null,
      "metadata": {
        "execution": {
          "iopub.execute_input": "2024-01-11T23:59:44.275787Z",
          "iopub.status.busy": "2024-01-11T23:59:44.274945Z",
          "iopub.status.idle": "2024-01-11T23:59:47.889592Z",
          "shell.execute_reply": "2024-01-11T23:59:47.888422Z",
          "shell.execute_reply.started": "2024-01-11T23:59:44.275742Z"
        },
        "trusted": true,
        "id": "KsNG4sfZdD4x"
      },
      "outputs": [],
      "source": [
        "post_sentimenet_filtered_df=filtered_df[(~filtered_df['post_title'].isna())]\n",
        "# Remove duplicate values from the 'post_title' column , as the one post may be duplicated as it has many comments\n",
        "post_sentimenet_filtered_df = post_sentimenet_filtered_df.drop_duplicates(subset=['post_title'])\n",
        "\n",
        "# Calc sentiment score for each record\n",
        "post_sentimenet_filtered_df['post_sentiment'] = post_sentimenet_filtered_df['post_title'].apply(lambda x: TextBlob(str(x)).sentiment.polarity)\n",
        "# Assign sentiment category based on sentiment score\n",
        "post_sentimenet_filtered_df['post_sentiment_category'] = post_sentimenet_filtered_df['post_sentiment'].apply(lambda x: 'Positive' if x > 0 else ('Negative' if x < 0 else 'Neutral'))\n",
        "\n",
        "# Count the occurrences of each sentiment category\n",
        "sentiment_counts = post_sentimenet_filtered_df['post_sentiment_category'].value_counts()\n",
        "sentiment_counts_df = sentiment_counts.reset_index()\n",
        "sentiment_counts_df.columns = ['Post_Sentiment', 'Count']\n",
        "sentiment_counts_df = sentiment_counts_df.sort_values(by='Count', ascending=False)\n",
        "sentiment_counts_df.style.background_gradient(cmap='YlGnBu')"
      ]
    },
    {
      "cell_type": "code",
      "execution_count": null,
      "metadata": {
        "execution": {
          "iopub.execute_input": "2024-01-11T23:59:50.354156Z",
          "iopub.status.busy": "2024-01-11T23:59:50.35335Z",
          "iopub.status.idle": "2024-01-11T23:59:50.825019Z",
          "shell.execute_reply": "2024-01-11T23:59:50.823498Z",
          "shell.execute_reply.started": "2024-01-11T23:59:50.354105Z"
        },
        "trusted": true,
        "id": "iBpHDUlvdD4x"
      },
      "outputs": [],
      "source": [
        "fig = go.Figure(go.Funnelarea(\n",
        "    text =sentiment_counts_df.Post_Sentiment,\n",
        "    values = sentiment_counts_df.Count,\n",
        "    title = {\"position\": \"top center\"}\n",
        "    ))\n",
        "fig.update_layout(\n",
        "    title=\"Funnel-Chart of Sentiment Distribution | Posts\",\n",
        "    title_x=0.5, width=500, height=400)\n",
        "fig.show()\n",
        "\n",
        "\n",
        "plt.figure(figsize=(5, 5))\n",
        "ax = plt.pie(x =post_sentimenet_filtered_df['post_sentiment_category'].value_counts() , labels=post_sentimenet_filtered_df['post_sentiment_category'].value_counts().index, autopct = '%1.1f%%', explode = [0.03, 0.03, 0.08])\n",
        "plt.title('Sentiment Distribution | Posts')\n",
        "plt.show()"
      ]
    },
    {
      "cell_type": "markdown",
      "metadata": {
        "id": "XwW5KMHpdD4x"
      },
      "source": [
        "***ii. sentiment analysis for post title***"
      ]
    },
    {
      "cell_type": "code",
      "execution_count": null,
      "metadata": {
        "execution": {
          "iopub.execute_input": "2024-01-11T23:59:54.939155Z",
          "iopub.status.busy": "2024-01-11T23:59:54.937994Z",
          "iopub.status.idle": "2024-01-12T00:00:00.421534Z",
          "shell.execute_reply": "2024-01-12T00:00:00.420217Z",
          "shell.execute_reply.started": "2024-01-11T23:59:54.939098Z"
        },
        "trusted": true,
        "id": "eAJ5JgyFdD4y"
      },
      "outputs": [],
      "source": [
        "post_self_text_filtered_df = filtered_df[(~filtered_df['clean_post_self_text'].isna())]\n",
        "# Remove duplicate values from the 'post_title' column , as the one post may be duplicated as it has many comments\n",
        "post_self_text_filtered_df = post_self_text_filtered_df.drop_duplicates(subset=['post_title'])\n",
        "\n",
        "# Calc sentiment score for each record\n",
        "post_self_text_filtered_df['post_sentiment'] = post_self_text_filtered_df['clean_post_self_text'].apply(lambda x: TextBlob(str(x)).sentiment.polarity)\n",
        "# Assign sentiment category based on sentiment score\n",
        "post_self_text_filtered_df['post_sentiment_category'] = post_self_text_filtered_df['post_sentiment'].apply(lambda x: 'Positive' if x > 0 else ('Negative' if x < 0 else 'Neutral'))\n",
        "\n",
        "# Count the occurrences of each sentiment category\n",
        "sentiment_counts = post_self_text_filtered_df['post_sentiment_category'].value_counts()\n",
        "sentiment_counts_df = sentiment_counts.reset_index()\n",
        "sentiment_counts_df.columns = ['Post_Sentiment', 'Count']\n",
        "sentiment_counts_df = sentiment_counts_df.sort_values(by='Count', ascending=False)\n",
        "sentiment_counts_df.style.background_gradient(cmap='YlGnBu')"
      ]
    },
    {
      "cell_type": "code",
      "execution_count": null,
      "metadata": {
        "execution": {
          "iopub.execute_input": "2024-01-12T00:00:03.507178Z",
          "iopub.status.busy": "2024-01-12T00:00:03.506354Z",
          "iopub.status.idle": "2024-01-12T00:00:03.656146Z",
          "shell.execute_reply": "2024-01-12T00:00:03.654521Z",
          "shell.execute_reply.started": "2024-01-12T00:00:03.507137Z"
        },
        "trusted": true,
        "id": "N6N2QVrgdD4y"
      },
      "outputs": [],
      "source": [
        "fig = go.Figure(go.Funnelarea(\n",
        "    text =sentiment_counts_df.Post_Sentiment,\n",
        "    values = sentiment_counts_df.Count,\n",
        "    title = {\"position\": \"top center\"}\n",
        "    ))\n",
        "fig.update_layout(\n",
        "    title=\"Funnel-Chart of Sentiment Distribution | Posts\",\n",
        "    title_x=0.5, width=500, height=400)\n",
        "fig.show()\n",
        "\n",
        "\n",
        "plt.figure(figsize=(5, 5))\n",
        "ax = plt.pie(x =post_self_text_filtered_df['post_sentiment_category'].value_counts() , labels=post_sentimenet_filtered_df['post_sentiment_category'].value_counts().index, autopct = '%1.1f%%', explode = [0.03, 0.03, 0.08])\n",
        "plt.title('Sentiment Distribution | Posts')\n",
        "plt.show()"
      ]
    },
    {
      "cell_type": "markdown",
      "metadata": {
        "id": "cFakWwVudD4y"
      },
      "source": [
        " **Examples of of Positive, Negative, and Neutral posts**"
      ]
    },
    {
      "cell_type": "code",
      "execution_count": null,
      "metadata": {
        "execution": {
          "iopub.execute_input": "2024-01-12T00:00:06.584989Z",
          "iopub.status.busy": "2024-01-12T00:00:06.584532Z",
          "iopub.status.idle": "2024-01-12T00:00:06.607127Z",
          "shell.execute_reply": "2024-01-12T00:00:06.60582Z",
          "shell.execute_reply.started": "2024-01-12T00:00:06.584956Z"
        },
        "trusted": true,
        "id": "RyycbXpVdD4y"
      },
      "outputs": [],
      "source": [
        "# Neutral posts\n",
        "post_self_text_filtered_df[\n",
        "    (post_self_text_filtered_df['post_sentiment_category'] == 'Neutral') &  (post_self_text_filtered_df['post_self_text'].notnull())\n",
        "    ].sample(n=5, random_state=random.seed())[['post_title', 'post_self_text', 'post_sentiment', 'post_sentiment_category']]\n",
        "# positive posts\n",
        "post_self_text_filtered_df[\n",
        "    (post_self_text_filtered_df['post_sentiment_category'] == 'Positive') &  (post_self_text_filtered_df['post_self_text'].notnull())\n",
        "    ].sample(n=5, random_state=random.seed())[['post_title', 'post_self_text', 'post_sentiment', 'post_sentiment_category']]\n",
        "# Negative posts\n",
        "post_self_text_filtered_df[\n",
        "    (post_self_text_filtered_df['post_sentiment_category'] == 'Negative') &  (post_self_text_filtered_df['post_self_text'].notnull())\n",
        "    ].sample(n=5, random_state=random.seed())[['post_title', 'post_self_text', 'post_sentiment', 'post_sentiment_category']]"
      ]
    },
    {
      "cell_type": "markdown",
      "metadata": {
        "id": "Q12upPH5dD4z"
      },
      "source": [
        "**Analyzing Sentiment Trends Over Time**"
      ]
    },
    {
      "cell_type": "code",
      "execution_count": null,
      "metadata": {
        "execution": {
          "iopub.execute_input": "2024-01-12T00:00:13.926614Z",
          "iopub.status.busy": "2024-01-12T00:00:13.92614Z",
          "iopub.status.idle": "2024-01-12T00:00:15.448464Z",
          "shell.execute_reply": "2024-01-12T00:00:15.447359Z",
          "shell.execute_reply.started": "2024-01-12T00:00:13.926577Z"
        },
        "trusted": true,
        "id": "rTl2_eeidD40"
      },
      "outputs": [],
      "source": [
        "# Create legend patches\n",
        "positive_patch = mpatches.Patch(color='green', label='Positive')\n",
        "negative_patch = mpatches.Patch(color='red', label='Negative')\n",
        "neutral_patch = mpatches.Patch(color='blue', label='Neutral')\n",
        "\n",
        "# Group by 'created_time' and calculate the mean sentiment for each time period\n",
        "sentiment_by_time = post_self_text_filtered_df.groupby(post_self_text_filtered_df['post_created_time'].dt.date)['post_sentiment'].mean()\n",
        "\n",
        "# Replace 'sentiment_scores' with the actual variable or column containing sentiment scores\n",
        "sentiment_scores = post_self_text_filtered_df['post_sentiment']\n",
        "\n",
        "# Calculate dynamic thresholds based on percentiles\n",
        "percentile_25 = np.percentile(sentiment_scores, 25)\n",
        "percentile_75 = np.percentile(sentiment_scores, 75)\n",
        "\n",
        "# Classify sentiments based on dynamic thresholds\n",
        "post_self_text_filtered_df['post_sentiment_category'] = np.where(\n",
        "    post_self_text_filtered_df['post_sentiment'] < percentile_25, 'Negative',\n",
        "    np.where( post_self_text_filtered_df['post_sentiment'] > percentile_75, 'Positive','Neutral' ))\n",
        "\n",
        "# Plot the sentiment over time with lines connecting points and different colors for each category\n",
        "plt.figure(figsize=(15, 6))\n",
        "\n",
        "for idx, row in sentiment_by_time.reset_index().iterrows():\n",
        "    date = row['post_created_time']\n",
        "    sentiment = post_self_text_filtered_df.loc[post_self_text_filtered_df['post_created_time'].dt.date == date, 'post_sentiment_category'].iloc[0]\n",
        "\n",
        "    # Assign colors based on sentiment category\n",
        "    color = 'green' if sentiment == 'Positive' else ('red' if sentiment == 'Negative' else 'blue')\n",
        "\n",
        "    # Plot the point\n",
        "    plt.plot(date, row['post_sentiment'], marker='o', color=color)\n",
        "\n",
        "    # Connect with lines to the previous point\n",
        "    if idx > 0:\n",
        "        plt.plot([previous_date, date], [previous_sentiment, row['post_sentiment']], color=color)\n",
        "\n",
        "    previous_date = date\n",
        "    previous_sentiment = row['post_sentiment']\n",
        "\n",
        "# Add legend with colored boxes\n",
        "plt.legend(handles=[positive_patch, negative_patch, neutral_patch], title='Sentiment Category')\n",
        "plt.title('Sentiment Over Time | Posts')\n",
        "plt.xlabel('Date')\n",
        "plt.ylabel('Mean Sentiment Score')\n",
        "\n",
        "# Display every other date on x-axis\n",
        "plt.xticks(sentiment_by_time.index[::2], rotation=45, ha='right')\n",
        "\n",
        "plt.show()"
      ]
    },
    {
      "cell_type": "code",
      "execution_count": null,
      "metadata": {
        "execution": {
          "iopub.execute_input": "2024-01-12T00:00:18.508668Z",
          "iopub.status.busy": "2024-01-12T00:00:18.507594Z",
          "iopub.status.idle": "2024-01-12T00:00:19.27288Z",
          "shell.execute_reply": "2024-01-12T00:00:19.27177Z",
          "shell.execute_reply.started": "2024-01-12T00:00:18.508624Z"
        },
        "trusted": true,
        "id": "6ZAXmV_UdD40"
      },
      "outputs": [],
      "source": [
        "# Filter posts by sentiment category\n",
        "positive_posts = post_self_text_filtered_df[post_self_text_filtered_df['post_sentiment_category'] == 'Positive']\n",
        "negative_posts = post_self_text_filtered_df[post_self_text_filtered_df['post_sentiment_category'] == 'Negative']\n",
        "neutral_posts = post_self_text_filtered_df[post_self_text_filtered_df['post_sentiment_category'] == 'Neutral']\n",
        "\n",
        "# Group by 'post_created_time' and calculate counts\n",
        "positive_counts_per_day = positive_posts.groupby(positive_posts['post_created_time'].dt.date).size()\n",
        "negative_counts_per_day = negative_posts.groupby(negative_posts['post_created_time'].dt.date).size()\n",
        "neutral_counts_per_day = neutral_posts.groupby(neutral_posts['post_created_time'].dt.date).size()\n",
        "\n",
        "# Plotting using Seaborn\n",
        "plt.figure(figsize=(15, 6))\n",
        "\n",
        "# Plot lines for each sentiment category\n",
        "sns.lineplot(x=positive_counts_per_day.index, y=positive_counts_per_day.values, label='Positive',  color='green')\n",
        "sns.lineplot(x=negative_counts_per_day.index, y=negative_counts_per_day.values, label='Negative',  color='red')\n",
        "sns.lineplot(x=neutral_counts_per_day.index, y=neutral_counts_per_day.values, label='Neutral' , color='blue')\n",
        "\n",
        "plt.title('Sentiment Posts Over Time')\n",
        "plt.xlabel('Date')\n",
        "plt.ylabel('Number of Posts')\n",
        "plt.legend()\n",
        "plt.xticks(positive_counts_per_day.index[::2], rotation=45, ha='right')  # Display every second date for better visibility\n",
        "plt.show()"
      ]
    },
    {
      "cell_type": "markdown",
      "metadata": {
        "id": "RqV3t1pkdD41"
      },
      "source": [
        "# **2. Comments sentiment analysis**"
      ]
    },
    {
      "cell_type": "code",
      "execution_count": null,
      "metadata": {
        "execution": {
          "iopub.execute_input": "2024-01-12T00:00:22.48988Z",
          "iopub.status.busy": "2024-01-12T00:00:22.489412Z",
          "iopub.status.idle": "2024-01-12T00:03:21.264701Z",
          "shell.execute_reply": "2024-01-12T00:03:21.263421Z",
          "shell.execute_reply.started": "2024-01-12T00:00:22.489846Z"
        },
        "trusted": true,
        "id": "3Y2n6wNgdD41"
      },
      "outputs": [],
      "source": [
        "sentiment_filtered_df=filtered_df[(~filtered_df['clean_text'].isna())]\n",
        "sentiment_filtered_df = sentiment_filtered_df.drop_duplicates(subset=['clean_text'])\n",
        "\n",
        "sentiment_filtered_df['comment_sentiment'] = sentiment_filtered_df['clean_text'].apply(lambda x: TextBlob(str(x)).sentiment.polarity)\n",
        "sentiment_filtered_df['comment_sentiment_category'] = sentiment_filtered_df['comment_sentiment'].apply(lambda x: 'Positive' if x > 0 else ('Negative' if x < 0 else 'Neutral'))\n",
        "\n",
        "# Count the occurrences of each sentiment category\n",
        "sentiment_counts_df = pd.DataFrame(sentiment_filtered_df['comment_sentiment_category'].value_counts())\n",
        "sentiment_counts_df.columns = ['Count']\n",
        "sentiment_counts_df.index.name = 'comment_sentiment'\n",
        "sentiment_counts_df.reset_index(inplace=True)\n",
        "sentiment_counts_df = sentiment_counts_df.sort_values(by='Count', ascending=False)\n",
        "sentiment_counts_df.style.background_gradient(cmap='YlGnBu')"
      ]
    },
    {
      "cell_type": "code",
      "execution_count": null,
      "metadata": {
        "execution": {
          "iopub.execute_input": "2024-01-12T00:03:41.908324Z",
          "iopub.status.busy": "2024-01-12T00:03:41.907917Z",
          "iopub.status.idle": "2024-01-12T00:03:42.105897Z",
          "shell.execute_reply": "2024-01-12T00:03:42.104688Z",
          "shell.execute_reply.started": "2024-01-12T00:03:41.908295Z"
        },
        "trusted": true,
        "id": "uHyYBMmodD42"
      },
      "outputs": [],
      "source": [
        "plt.figure(figsize=(5, 5))\n",
        "ax = plt.pie(x =sentiment_filtered_df['comment_sentiment_category'].value_counts() , labels=sentiment_filtered_df['comment_sentiment_category'].value_counts().index, autopct = '%1.1f%%', explode = [0.03, 0.03, 0.08])\n",
        "plt.title('Sentiment Distribution | Comments')\n",
        "plt.show()"
      ]
    },
    {
      "cell_type": "markdown",
      "metadata": {
        "id": "u5mjhBK-dD42"
      },
      "source": [
        "**Examples of Positive, Negative, and Neutral comments individually**"
      ]
    },
    {
      "cell_type": "code",
      "execution_count": null,
      "metadata": {
        "execution": {
          "iopub.execute_input": "2024-01-12T00:03:45.227404Z",
          "iopub.status.busy": "2024-01-12T00:03:45.226274Z",
          "iopub.status.idle": "2024-01-12T00:03:45.372201Z",
          "shell.execute_reply": "2024-01-12T00:03:45.371118Z",
          "shell.execute_reply.started": "2024-01-12T00:03:45.227357Z"
        },
        "trusted": true,
        "id": "dbKQ89d6dD42"
      },
      "outputs": [],
      "source": [
        "# Neutral comments\n",
        "sentiment_filtered_df[sentiment_filtered_df['comment_sentiment_category'] == 'Neutral'].sample(n=5, random_state=random.seed())[['self_text', 'comment_sentiment', 'comment_sentiment_category']]"
      ]
    },
    {
      "cell_type": "code",
      "execution_count": null,
      "metadata": {
        "execution": {
          "iopub.execute_input": "2024-01-12T00:03:49.030622Z",
          "iopub.status.busy": "2024-01-12T00:03:49.030191Z",
          "iopub.status.idle": "2024-01-12T00:03:49.204187Z",
          "shell.execute_reply": "2024-01-12T00:03:49.203109Z",
          "shell.execute_reply.started": "2024-01-12T00:03:49.030588Z"
        },
        "trusted": true,
        "id": "9vG_oqYhdD42"
      },
      "outputs": [],
      "source": [
        "# Positive comments\n",
        "sentiment_filtered_df[sentiment_filtered_df['comment_sentiment_category'] == 'Positive'].sample(n=5, random_state=random.seed())[['self_text', 'comment_sentiment', 'comment_sentiment_category']]"
      ]
    },
    {
      "cell_type": "code",
      "execution_count": null,
      "metadata": {
        "execution": {
          "iopub.execute_input": "2024-01-12T00:03:51.604254Z",
          "iopub.status.busy": "2024-01-12T00:03:51.603325Z",
          "iopub.status.idle": "2024-01-12T00:03:51.749714Z",
          "shell.execute_reply": "2024-01-12T00:03:51.748611Z",
          "shell.execute_reply.started": "2024-01-12T00:03:51.604211Z"
        },
        "trusted": true,
        "id": "cJ_q86JWdD43"
      },
      "outputs": [],
      "source": [
        "# Negative comments\n",
        "sentiment_filtered_df[sentiment_filtered_df['comment_sentiment_category'] == 'Negative'].sample(n=5, random_state=random.seed())[['self_text', 'comment_sentiment', 'comment_sentiment_category']]"
      ]
    },
    {
      "cell_type": "markdown",
      "metadata": {
        "id": "pl7YmwfDdD43"
      },
      "source": [
        "**Analyzing comments Trends Over Time**"
      ]
    },
    {
      "cell_type": "code",
      "execution_count": null,
      "metadata": {
        "execution": {
          "iopub.execute_input": "2024-01-12T00:03:54.701331Z",
          "iopub.status.busy": "2024-01-12T00:03:54.700293Z",
          "iopub.status.idle": "2024-01-12T00:04:18.37225Z",
          "shell.execute_reply": "2024-01-12T00:04:18.371105Z",
          "shell.execute_reply.started": "2024-01-12T00:03:54.70129Z"
        },
        "trusted": true,
        "id": "9b9WYqOydD43"
      },
      "outputs": [],
      "source": [
        "# Group by 'created_time' and calculate the mean sentiment for each time period\n",
        "sentiment_by_time = sentiment_filtered_df.groupby(sentiment_filtered_df['created_time'].dt.date)['comment_sentiment'].mean()\n",
        "\n",
        "# Replace 'sentiment_scores' with the actual variable or column containing sentiment scores\n",
        "sentiment_scores = sentiment_filtered_df['comment_sentiment']\n",
        "\n",
        "# Calculate dynamic thresholds based on percentiles\n",
        "percentile_25 = np.percentile(sentiment_scores, 25)\n",
        "percentile_75 = np.percentile(sentiment_scores, 75)\n",
        "\n",
        "# Classify sentiments based on dynamic thresholds\n",
        "sentiment_filtered_df['comment_sentiment_category'] = np.where(\n",
        "    sentiment_filtered_df['comment_sentiment'] < percentile_25, 'Negative',\n",
        "    np.where(\n",
        "        sentiment_filtered_df['comment_sentiment'] > percentile_75, 'Positive',\n",
        "        'Neutral'\n",
        "    )\n",
        ")\n",
        "\n",
        "# Plot the sentiment over time with lines connecting points and different colors for each category\n",
        "plt.figure(figsize=(12, 6))\n",
        "\n",
        "for idx, row in sentiment_by_time.reset_index().iterrows():\n",
        "    date = row['created_time']\n",
        "    sentiment = sentiment_filtered_df.loc[sentiment_filtered_df['created_time'].dt.date == date, 'comment_sentiment_category'].iloc[0]\n",
        "\n",
        "    # Assign colors based on sentiment category\n",
        "    color = 'green' if sentiment == 'Positive' else ('red' if sentiment == 'Negative' else 'blue')\n",
        "\n",
        "    # Plot the point\n",
        "    plt.plot(date, row['comment_sentiment'], marker='o', color=color)\n",
        "\n",
        "    # Connect with lines to the previous point\n",
        "    if idx > 0:\n",
        "        plt.plot([previous_date, date], [previous_sentiment, row['comment_sentiment']], color=color)\n",
        "\n",
        "    previous_date = date\n",
        "    previous_sentiment = row['comment_sentiment']\n",
        "\n",
        "# Add legend with colored boxes\n",
        "plt.legend(handles=[positive_patch, negative_patch, neutral_patch], title='Sentiment Category')\n",
        "plt.title('Sentiment Over Time | Comments')\n",
        "plt.xlabel('Date')\n",
        "plt.ylabel('Mean Sentiment Score')\n",
        "\n",
        "# Display every other date on x-axis\n",
        "plt.xticks(sentiment_by_time.index[::2], rotation=45, ha='right')\n",
        "\n",
        "plt.show()"
      ]
    },
    {
      "cell_type": "code",
      "execution_count": null,
      "metadata": {
        "execution": {
          "iopub.execute_input": "2024-01-12T00:04:24.671655Z",
          "iopub.status.busy": "2024-01-12T00:04:24.67122Z",
          "iopub.status.idle": "2024-01-12T00:04:26.016965Z",
          "shell.execute_reply": "2024-01-12T00:04:26.015758Z",
          "shell.execute_reply.started": "2024-01-12T00:04:24.67162Z"
        },
        "trusted": true,
        "id": "c2K71XyudD43"
      },
      "outputs": [],
      "source": [
        "# Filter comments by sentiment category\n",
        "positive_comment = sentiment_filtered_df[sentiment_filtered_df['comment_sentiment_category'] == 'Positive']\n",
        "negative_comment = sentiment_filtered_df[sentiment_filtered_df['comment_sentiment_category'] == 'Negative']\n",
        "neutral_comment = sentiment_filtered_df[sentiment_filtered_df['comment_sentiment_category'] == 'Neutral']\n",
        "\n",
        "# Group by 'post_created_time' and calculate counts\n",
        "positive_counts_per_day = positive_comment.groupby(positive_comment['created_time'].dt.date).size()\n",
        "negative_counts_per_day = negative_comment.groupby(negative_comment['created_time'].dt.date).size()\n",
        "neutral_counts_per_day = neutral_comment.groupby(neutral_comment['created_time'].dt.date).size()\n",
        "\n",
        "plt.figure(figsize=(15, 6))\n",
        "\n",
        "# Plot lines for each sentiment category\n",
        "sns.lineplot(x=positive_counts_per_day.index, y=positive_counts_per_day.values, label='Positive',  color='green')\n",
        "sns.lineplot(x=negative_counts_per_day.index, y=negative_counts_per_day.values, label='Negative',  color='red')\n",
        "sns.lineplot(x=neutral_counts_per_day.index, y=neutral_counts_per_day.values, label='Neutral' , color='blue')\n",
        "\n",
        "plt.title('Sentiment Comments Over Time')\n",
        "plt.xlabel('Date')\n",
        "plt.ylabel('Number of Comments')\n",
        "plt.legend()\n",
        "plt.xticks(positive_counts_per_day.index[::2], rotation=45, ha='right')  # Display every second date for better visibility\n",
        "plt.show()"
      ]
    },
    {
      "cell_type": "markdown",
      "metadata": {
        "id": "djQuB58RdD44"
      },
      "source": [
        "# EDA for the Dataset\n"
      ]
    },
    {
      "cell_type": "code",
      "execution_count": null,
      "metadata": {
        "execution": {
          "iopub.execute_input": "2024-01-12T00:04:29.947758Z",
          "iopub.status.busy": "2024-01-12T00:04:29.946561Z",
          "iopub.status.idle": "2024-01-12T00:04:29.99646Z",
          "shell.execute_reply": "2024-01-12T00:04:29.995296Z",
          "shell.execute_reply.started": "2024-01-12T00:04:29.947718Z"
        },
        "trusted": true,
        "id": "8iRCpcGXdD45"
      },
      "outputs": [],
      "source": [
        "filtered_df['post_created_time'] = pd.to_datetime(filtered_df['post_created_time'])\n",
        "\n",
        "# Calculate date difference\n",
        "date_difference = filtered_df['post_created_time'].max() - filtered_df['post_created_time'].min()\n",
        "\n",
        "# Calculate years, months, and days\n",
        "years = date_difference.days // 365\n",
        "months = (date_difference.days % 365) // 30\n",
        "days = (date_difference.days % 365) % 30\n",
        "\n",
        "result = f\"Data covers a period of {years} years, {months} months, {days} days, \\nfrom {filtered_df['post_created_time'].min().date()} till {filtered_df['post_created_time'].max().date()}\"\n",
        "print(result)\n",
        "print(filtered_df.shape)"
      ]
    },
    {
      "cell_type": "markdown",
      "metadata": {
        "id": "buR2CoaKdD45"
      },
      "source": [
        "## Highest post score & comment"
      ]
    },
    {
      "cell_type": "code",
      "execution_count": null,
      "metadata": {
        "execution": {
          "iopub.execute_input": "2024-01-12T00:05:27.640031Z",
          "iopub.status.busy": "2024-01-12T00:05:27.63926Z",
          "iopub.status.idle": "2024-01-12T00:05:27.682495Z",
          "shell.execute_reply": "2024-01-12T00:05:27.68152Z",
          "shell.execute_reply.started": "2024-01-12T00:05:27.639995Z"
        },
        "trusted": true,
        "id": "uqONphoUdD45"
      },
      "outputs": [],
      "source": [
        "pd.DataFrame(filtered_df.loc[filtered_df['post_score'].idxmax()][[ 'post_title', 'post_score', 'subreddit', 'post_created_time']]).T"
      ]
    },
    {
      "cell_type": "code",
      "execution_count": null,
      "metadata": {
        "execution": {
          "iopub.execute_input": "2024-01-12T00:05:34.764387Z",
          "iopub.status.busy": "2024-01-12T00:05:34.763451Z",
          "iopub.status.idle": "2024-01-12T00:05:34.780045Z",
          "shell.execute_reply": "2024-01-12T00:05:34.778889Z",
          "shell.execute_reply.started": "2024-01-12T00:05:34.764349Z"
        },
        "trusted": true,
        "id": "10m5nYkLdD46",
        "outputId": "032a4f8a-1ef6-41c1-e6c0-9a40b8911489"
      },
      "outputs": [
        {
          "ename": "NameError",
          "evalue": "name 'pd' is not defined",
          "output_type": "error",
          "traceback": [
            "\u001b[1;31m---------------------------------------------------------------------------\u001b[0m",
            "\u001b[1;31mNameError\u001b[0m                                 Traceback (most recent call last)",
            "Cell \u001b[1;32mIn[1], line 1\u001b[0m\n\u001b[1;32m----> 1\u001b[0m \u001b[43mpd\u001b[49m\u001b[38;5;241m.\u001b[39mDataFrame(filtered_df\u001b[38;5;241m.\u001b[39mloc[filtered_df[\u001b[38;5;124m'\u001b[39m\u001b[38;5;124mscore\u001b[39m\u001b[38;5;124m'\u001b[39m]\u001b[38;5;241m.\u001b[39midxmax()][[\u001b[38;5;124m'\u001b[39m\u001b[38;5;124mself_text\u001b[39m\u001b[38;5;124m'\u001b[39m, \u001b[38;5;124m'\u001b[39m\u001b[38;5;124mpost_title\u001b[39m\u001b[38;5;124m'\u001b[39m, \u001b[38;5;124m'\u001b[39m\u001b[38;5;124mscore\u001b[39m\u001b[38;5;124m'\u001b[39m, \u001b[38;5;124m'\u001b[39m\u001b[38;5;124msubreddit\u001b[39m\u001b[38;5;124m'\u001b[39m, \u001b[38;5;124m'\u001b[39m\u001b[38;5;124mcreated_time\u001b[39m\u001b[38;5;124m'\u001b[39m]])\u001b[38;5;241m.\u001b[39mT\n",
            "\u001b[1;31mNameError\u001b[0m: name 'pd' is not defined"
          ]
        }
      ],
      "source": [
        "pd.DataFrame(filtered_df.loc[filtered_df['score'].idxmax()][['self_text', 'post_title', 'score', 'subreddit', 'created_time']]).T"
      ]
    },
    {
      "cell_type": "markdown",
      "metadata": {
        "id": "Aqr_BsrIdD46"
      },
      "source": [
        "## Total Authors"
      ]
    },
    {
      "cell_type": "code",
      "execution_count": null,
      "metadata": {
        "execution": {
          "iopub.execute_input": "2024-01-12T00:05:38.941284Z",
          "iopub.status.busy": "2024-01-12T00:05:38.940868Z",
          "iopub.status.idle": "2024-01-12T00:05:39.050306Z",
          "shell.execute_reply": "2024-01-12T00:05:39.04913Z",
          "shell.execute_reply.started": "2024-01-12T00:05:38.941251Z"
        },
        "trusted": true,
        "id": "aF5qs9oDdD47"
      },
      "outputs": [],
      "source": [
        "print(\"Number of unique authors:\",  filtered_df['author_name'].nunique())\n"
      ]
    },
    {
      "cell_type": "markdown",
      "metadata": {
        "id": "7KyrkD1mdD47"
      },
      "source": [
        "### Correlation Analysis between scores, karma, upvotes/downvotes, and user_total_karma to identify patterns."
      ]
    },
    {
      "cell_type": "code",
      "execution_count": null,
      "metadata": {
        "execution": {
          "iopub.execute_input": "2024-01-12T00:07:58.474889Z",
          "iopub.status.busy": "2024-01-12T00:07:58.47435Z",
          "iopub.status.idle": "2024-01-12T00:07:59.495119Z",
          "shell.execute_reply": "2024-01-12T00:07:59.493887Z",
          "shell.execute_reply.started": "2024-01-12T00:07:58.474852Z"
        },
        "trusted": true,
        "id": "1l4FUNuLdD48"
      },
      "outputs": [],
      "source": [
        "# Select numerical features for correlation analysis\n",
        "numerical_columns = filtered_df.select_dtypes(include='number').columns\n",
        "\n",
        "# Create a subset DataFrame with selected features\n",
        "correlation_df = filtered_df[numerical_columns]\n",
        "\n",
        "# Calculate correlation matrix\n",
        "correlation_matrix = correlation_df.corr()\n",
        "\n",
        "\n",
        "mask = np.triu(np.ones_like(correlation_matrix, dtype=bool))\n",
        "plt.figure(figsize=(10, 5))\n",
        "sns.heatmap(correlation_matrix, annot=True, cmap='coolwarm', fmt='.2f', linewidths=.5, mask=mask)\n",
        "plt.title('Correlation Matrix 12-1-2024')\n",
        "plt.show()"
      ]
    },
    {
      "cell_type": "markdown",
      "metadata": {
        "id": "aPg0fV9tdD48"
      },
      "source": [
        "🍉 Insights 🍉\n",
        "\n",
        "From the provided correlation matrix, we can see that:\n",
        "\n",
        "1. High Correlation (0.75)to(1.0):\n",
        "\n",
        "* the columns \"post_thumbs_ups\" and \"post_score\" also have a perfect positive correlation (1.0), suggesting redundancy. We may choose to keep \"post_score\".\n",
        "* Similarly but with a lower score, the columns \"user_total_karma\" and \"user_comment_karma\" also have a high positive correlation (0.82), suggesting redundancy. We choose to drop \"user_comment_karma\".\n",
        "* In addition to another high positive correlation (0.75). we choose to drop \"user_link_karma\", and keep\"user_total_karma\".\n",
        "\n",
        "2. medium Correlations:\n",
        "\n",
        "* User_awardee_karma, user_total_karma have a moderate positive correlation, suggesting that users who write comments are also likely to takes awards.\n",
        "3. Columns with lowest Correlation:\n",
        "\n",
        "* The column \"downs\"has lowest correlation with other features, indicating no linear relationship. We consider dropping \"downs\" as it does not contribute meaningfully to our analysis"
      ]
    },
    {
      "cell_type": "code",
      "execution_count": null,
      "metadata": {
        "execution": {
          "iopub.execute_input": "2024-01-12T00:11:24.201125Z",
          "iopub.status.busy": "2024-01-12T00:11:24.200631Z",
          "iopub.status.idle": "2024-01-12T00:11:24.22654Z",
          "shell.execute_reply": "2024-01-12T00:11:24.225504Z",
          "shell.execute_reply.started": "2024-01-12T00:11:24.201089Z"
        },
        "trusted": true,
        "id": "05VIP00idD48"
      },
      "outputs": [],
      "source": [
        "filtered_df[['post_thumbs_ups','post_score','user_total_karma','user_comment_karma','user_link_karma','downs']]"
      ]
    },
    {
      "cell_type": "markdown",
      "metadata": {
        "id": "-xon0xLNdD48"
      },
      "source": [
        "### droping the unmeaningful features from the correlation analysis"
      ]
    },
    {
      "cell_type": "code",
      "execution_count": null,
      "metadata": {
        "execution": {
          "iopub.execute_input": "2024-01-12T00:12:23.9549Z",
          "iopub.status.busy": "2024-01-12T00:12:23.953959Z",
          "iopub.status.idle": "2024-01-12T00:12:24.185301Z",
          "shell.execute_reply": "2024-01-12T00:12:24.184146Z",
          "shell.execute_reply.started": "2024-01-12T00:12:23.954853Z"
        },
        "trusted": true,
        "id": "dO4dD6fhdD49"
      },
      "outputs": [],
      "source": [
        "filtered_df= filtered_df.drop(columns=['downs','post_thumbs_ups','user_comment_karma','user_link_karma'])\n",
        "filtered_df.columns"
      ]
    },
    {
      "cell_type": "code",
      "execution_count": null,
      "metadata": {
        "execution": {
          "iopub.execute_input": "2024-01-12T00:12:30.456667Z",
          "iopub.status.busy": "2024-01-12T00:12:30.456254Z",
          "iopub.status.idle": "2024-01-12T00:12:30.465708Z",
          "shell.execute_reply": "2024-01-12T00:12:30.464624Z",
          "shell.execute_reply.started": "2024-01-12T00:12:30.456633Z"
        },
        "trusted": true,
        "id": "B3Zf86hjdD49"
      },
      "outputs": [],
      "source": [
        "filtered_df.dtypes"
      ]
    },
    {
      "cell_type": "markdown",
      "metadata": {
        "id": "-L-O1gBDdD49"
      },
      "source": [
        "# Descriptive Statisics"
      ]
    },
    {
      "cell_type": "code",
      "execution_count": null,
      "metadata": {
        "execution": {
          "iopub.execute_input": "2024-01-12T00:12:33.813394Z",
          "iopub.status.busy": "2024-01-12T00:12:33.812985Z",
          "iopub.status.idle": "2024-01-12T00:12:34.159922Z",
          "shell.execute_reply": "2024-01-12T00:12:34.15886Z",
          "shell.execute_reply.started": "2024-01-12T00:12:33.81336Z"
        },
        "trusted": true,
        "id": "r_nSy7sEdD4-"
      },
      "outputs": [],
      "source": [
        "# Descriptive statistics for numerical features\n",
        "filtered_df.describe().T"
      ]
    },
    {
      "cell_type": "code",
      "execution_count": null,
      "metadata": {
        "execution": {
          "iopub.execute_input": "2024-01-12T00:13:10.794353Z",
          "iopub.status.busy": "2024-01-12T00:13:10.793254Z",
          "iopub.status.idle": "2024-01-12T00:13:14.299413Z",
          "shell.execute_reply": "2024-01-12T00:13:14.29829Z",
          "shell.execute_reply.started": "2024-01-12T00:13:10.794314Z"
        },
        "trusted": true,
        "id": "5L6H-_mudD4-"
      },
      "outputs": [],
      "source": [
        "# Descriptive statistics for categorical features\n",
        "filtered_df.describe(include='object').T"
      ]
    },
    {
      "cell_type": "markdown",
      "metadata": {
        "id": "Th7yol62dD4-"
      },
      "source": [
        "### exploring isrealpalestine Subreddit comments overtime"
      ]
    },
    {
      "cell_type": "code",
      "execution_count": null,
      "metadata": {
        "execution": {
          "iopub.execute_input": "2024-01-12T00:13:19.270118Z",
          "iopub.status.busy": "2024-01-12T00:13:19.269342Z",
          "iopub.status.idle": "2024-01-12T00:13:19.329834Z",
          "shell.execute_reply": "2024-01-12T00:13:19.328837Z",
          "shell.execute_reply.started": "2024-01-12T00:13:19.270074Z"
        },
        "trusted": true,
        "id": "7Gr2yDfudD4-"
      },
      "outputs": [],
      "source": [
        "popular_subreddits = filtered_df['subreddit'].value_counts()\n",
        "popular_subreddits.columns=['subreddit', 'count']\n",
        "popular_subreddits"
      ]
    },
    {
      "cell_type": "code",
      "execution_count": null,
      "metadata": {
        "execution": {
          "iopub.execute_input": "2024-01-12T00:13:23.204927Z",
          "iopub.status.busy": "2024-01-12T00:13:23.204498Z",
          "iopub.status.idle": "2024-01-12T00:13:24.437391Z",
          "shell.execute_reply": "2024-01-12T00:13:24.43626Z",
          "shell.execute_reply.started": "2024-01-12T00:13:23.204892Z"
        },
        "trusted": true,
        "id": "BwqlGXk0dD4-"
      },
      "outputs": [],
      "source": [
        "# Filter DataFrame for 'IsraelPalestine' subreddit\n",
        "filtered_df_israel_palestine = filtered_df[filtered_df['subreddit'] == 'IsraelPalestine']\n",
        "\n",
        "# Drop duplicates based on 'author_name' and 'user_account_created_time'\n",
        "filtered_df_unique = filtered_df_israel_palestine.drop_duplicates(subset=['author_name', 'self_text'], keep='first')\n",
        "\n",
        "filtered_df_unique['created_time'] = pd.to_datetime(filtered_df_unique['created_time']).dt.date\n",
        "\n",
        "# Get the dates with the most account creations\n",
        "top_dates = filtered_df_unique['created_time'].value_counts()\n",
        "\n",
        "# Create a DataFrame from the top dates\n",
        "top_dates_df = pd.DataFrame({'Date': top_dates.index, 'Account_Creations': top_dates.values})\n",
        "\n",
        "# Sort the DataFrame by date\n",
        "top_dates_df = top_dates_df.sort_values(by='Date')\n",
        "\n",
        "plt.figure(figsize=(12, 6))\n",
        "lineplot = sns.lineplot(x='Date', y='Account_Creations', data=top_dates_df, palette='viridis')\n",
        "\n",
        "# Add labels to the data points\n",
        "for x, y in zip(top_dates_df['Date'], top_dates_df['Account_Creations']):\n",
        "    plt.text(x, y, str(y), ha='center', va='bottom', fontsize=10, rotation=45)\n",
        "\n",
        "# Set the x-axis tick labels\n",
        "date_ticks = top_dates_df['Date'][::2]  # Display every second date\n",
        "plt.xticks(date_ticks, rotation=45, ha='right')\n",
        "\n",
        "plt.title('Daily Commenting Activity | \"IsraelPalestine\" Subreddit ')\n",
        "plt.xlabel('Date')\n",
        "plt.ylabel('Account Creations')\n",
        "plt.tight_layout()\n",
        "plt.show()"
      ]
    },
    {
      "cell_type": "markdown",
      "metadata": {
        "id": "IyBK4CUYdD4_"
      },
      "source": [
        "## 🍉 Insights 🍉\n",
        "\n",
        "The Earliest Comment Activity:\n",
        "* Notably, \"IsraelPalestine\"  started in early November.\n",
        "\n",
        "Top Day of highest comment rate:\n",
        "\n",
        "* It's intriguing to observe that \"Israelpalestine\" subreddit experienced peaks in commenting around mid-November.\n",
        "* \"IsraelPalestine\" stands out as having the highest total number of comments on its top day, reaching approximately +6359 comments on November 19, 2023.\n",
        "\n",
        "Day with the Lowest Comment Rate:\n",
        "\n",
        "* On November 6, 2023, the 'IsraelPalestine' subreddit experienced the lowest commenting rate, which is the first day for this Subreddit commuiny, with around 1063 comments.\n",
        "\n",
        "Consistency and Variability:\n",
        "\n",
        "* The data shows varying levels of commenting activity throughout the period, with fluctuations in comments creations. Yet a notable consistency is observed during mid-November, where the subreddit maintained a relatively high level of commenting activity over several consecutive days.\n",
        "\n",
        "Decrease in Engagement:\n",
        "\n",
        "* The gradual decline in comments towards the end of the dataset, especially from lately December, indicates a decrease in engagement."
      ]
    },
    {
      "cell_type": "markdown",
      "metadata": {
        "id": "a4jAOeoxdD4_"
      },
      "source": [
        "### Exploring the Most Engaging Subreddit | IsraelPalestine"
      ]
    },
    {
      "cell_type": "code",
      "execution_count": null,
      "metadata": {
        "execution": {
          "iopub.execute_input": "2024-01-12T00:13:39.492762Z",
          "iopub.status.busy": "2024-01-12T00:13:39.492297Z",
          "iopub.status.idle": "2024-01-12T00:13:39.696881Z",
          "shell.execute_reply": "2024-01-12T00:13:39.695697Z",
          "shell.execute_reply.started": "2024-01-12T00:13:39.492727Z"
        },
        "trusted": true,
        "id": "MUhaHwZrdD4_"
      },
      "outputs": [],
      "source": [
        "# Count unique active users in the 'IsraelPalestine' subreddit\n",
        "unique_users_count = filtered_df[filtered_df['subreddit'] == 'IsraelPalestine']['author_name'].nunique()\n",
        "display(HTML(f\"<h3>Number of unique users in IsraelPalestine subreddit: <b style='color:red'>{unique_users_count}</b></h3>\"))"
      ]
    },
    {
      "cell_type": "code",
      "execution_count": null,
      "metadata": {
        "execution": {
          "iopub.execute_input": "2024-01-12T00:13:43.048952Z",
          "iopub.status.busy": "2024-01-12T00:13:43.048474Z",
          "iopub.status.idle": "2024-01-12T00:13:43.246325Z",
          "shell.execute_reply": "2024-01-12T00:13:43.245186Z",
          "shell.execute_reply.started": "2024-01-12T00:13:43.048916Z"
        },
        "trusted": true,
        "id": "f7oZ84i5dD5A"
      },
      "outputs": [],
      "source": [
        "# Filter posts related to 'IsraelPalestine' subreddit\n",
        "posts_israel_palestine = filtered_df[(filtered_df['subreddit'] == 'IsraelPalestine') & (filtered_df['post_self_text'].notnull())]\n",
        "# Drop duplicate posts\n",
        "unique_posts = posts_israel_palestine.drop_duplicates(subset='post_self_text')\n",
        "posts_count = len(unique_posts)\n",
        "display(HTML(f\"<h3>Number of unique posts in IsraelPalestine subreddit : <b style='color:red'>{posts_count}</b></h3>\"))"
      ]
    },
    {
      "cell_type": "code",
      "execution_count": null,
      "metadata": {
        "execution": {
          "iopub.execute_input": "2024-01-12T00:13:45.138696Z",
          "iopub.status.busy": "2024-01-12T00:13:45.138306Z",
          "iopub.status.idle": "2024-01-12T00:13:45.493892Z",
          "shell.execute_reply": "2024-01-12T00:13:45.492791Z",
          "shell.execute_reply.started": "2024-01-12T00:13:45.138668Z"
        },
        "trusted": true,
        "id": "iRAVfO3QdD5A"
      },
      "outputs": [],
      "source": [
        "# Filter comments related to 'IsraelPalestine' subreddit\n",
        "comments_israel_palestine = filtered_df[(filtered_df['subreddit'] == 'IsraelPalestine') & (filtered_df['self_text'].notnull())]\n",
        "# Drop duplicate comments\n",
        "unique_comments = comments_israel_palestine.drop_duplicates(subset='self_text')\n",
        "# Get the counts\n",
        "comments_count = len(unique_comments)\n",
        "display(HTML(f\"<h3>Number of unique comments in IsraelPalestine subreddit : <b style='color:red'>{comments_count}</b></h3>\"))"
      ]
    },
    {
      "cell_type": "code",
      "execution_count": null,
      "metadata": {
        "execution": {
          "iopub.execute_input": "2024-01-12T00:13:47.259495Z",
          "iopub.status.busy": "2024-01-12T00:13:47.25908Z",
          "iopub.status.idle": "2024-01-12T00:13:47.302182Z",
          "shell.execute_reply": "2024-01-12T00:13:47.30125Z",
          "shell.execute_reply.started": "2024-01-12T00:13:47.259462Z"
        },
        "trusted": true,
        "id": "y6OfNtoxdD5A"
      },
      "outputs": [],
      "source": [
        "# Find the earliest post_created_time and corresponding post_self_text\n",
        "earliest_post = posts_israel_palestine.loc[posts_israel_palestine['post_created_time'].idxmin()]\n",
        "earliest_post_time = earliest_post['post_created_time']\n",
        "earliest_post_text = earliest_post['post_self_text']\n",
        "display(HTML(f\"<h4>Earliest post created time : <b style='color:red'>{earliest_post_time}</b></h4>\"))\n",
        "display(HTML(f\"<h4>Earliest post : <b style='color:red'>{earliest_post_text}</b></h4>\"))\n",
        "horizontal_line= '<hr style=\"border: none; background-color: #000000; height: 1px; margin: 5px 0;\">'\n",
        "\n",
        "display(HTML(horizontal_line))\n",
        "\n",
        "last_post = posts_israel_palestine.loc[posts_israel_palestine['post_created_time'].idxmax()]\n",
        "last_post_time = last_post['post_created_time']\n",
        "last_post_text = last_post['post_self_text']\n",
        "display(HTML(f\"<h4>Last post created time : <b style='color:red'>{last_post_time}</b></h4>\"))\n",
        "display(HTML(f\"<h4>Last post : <b style='color:red'>{last_post_text}</b></h4>\"))"
      ]
    },
    {
      "cell_type": "markdown",
      "metadata": {
        "id": "jr0WKhGrdD5A"
      },
      "source": [
        "### WORDCLOUD OF COMMENTS"
      ]
    },
    {
      "cell_type": "code",
      "execution_count": null,
      "metadata": {
        "execution": {
          "iopub.execute_input": "2024-01-12T00:18:48.023385Z",
          "iopub.status.busy": "2024-01-12T00:18:48.022924Z",
          "iopub.status.idle": "2024-01-12T00:21:38.160368Z",
          "shell.execute_reply": "2024-01-12T00:21:38.159057Z",
          "shell.execute_reply.started": "2024-01-12T00:18:48.023354Z"
        },
        "trusted": true,
        "id": "ReJiJBBxdD5B"
      },
      "outputs": [],
      "source": [
        "from wordcloud import WordCloud, STOPWORDS\n",
        "import matplotlib.pyplot as plt\n",
        "\n",
        "# Assuming 'post_created_time' and 'post_self_text' are columns in israel_palestine_df\n",
        "comment_words = ''\n",
        "stopwords = set(STOPWORDS)\n",
        "\n",
        "# Iterate through the DataFrame rows\n",
        "for index, row in sentiment_filtered_df.iterrows():\n",
        "    # Concatenate 'post_self_text' values\n",
        "    val = str(row['self_text'])\n",
        "\n",
        "    # Split the value into tokens\n",
        "    tokens = val.split()\n",
        "\n",
        "    # Convert each token to lowercase\n",
        "    tokens = [token.lower() for token in tokens]\n",
        "\n",
        "    # Join the lowercase tokens\n",
        "    comment_words += \" \".join(tokens) + \" \"\n",
        "\n",
        "# Generate WordCloud\n",
        "wordcloud = WordCloud(width=800, height=800,\n",
        "                      background_color='white',\n",
        "                      stopwords=stopwords,\n",
        "                      min_font_size=10).generate(comment_words)\n",
        "\n",
        "# Plot the WordCloud image\n",
        "plt.figure(figsize=(8, 8), facecolor=None)\n",
        "plt.imshow(wordcloud,  interpolation='bilinear')\n",
        "plt.axis(\"off\")\n",
        "plt.tight_layout(pad=0)\n",
        "plt.title(\"comments on 12-1-2024\")\n",
        "plt.show()"
      ]
    },
    {
      "cell_type": "markdown",
      "metadata": {
        "id": "2Lu1zNX2dD5B"
      },
      "source": [
        "### Trends Period"
      ]
    },
    {
      "cell_type": "code",
      "execution_count": null,
      "metadata": {
        "execution": {
          "iopub.execute_input": "2024-01-12T00:21:46.059048Z",
          "iopub.status.busy": "2024-01-12T00:21:46.058611Z",
          "iopub.status.idle": "2024-01-12T00:21:47.904755Z",
          "shell.execute_reply": "2024-01-12T00:21:47.903595Z",
          "shell.execute_reply.started": "2024-01-12T00:21:46.059016Z"
        },
        "trusted": true,
        "id": "OLfAVq34dD5B"
      },
      "outputs": [],
      "source": [
        "filtered_df_unique = filtered_df.copy()\n",
        "\n",
        "filtered_df_unique['created_time'] = pd.to_datetime(filtered_df_unique['created_time']).dt.date\n",
        "\n",
        "# Get the dates with the most account creations\n",
        "top_dates = filtered_df_unique['created_time'].value_counts()\n",
        "\n",
        "# Create a DataFrame from the top dates\n",
        "top_dates_df = pd.DataFrame({'Date': top_dates.index, 'Comment_Creations': top_dates.values})\n",
        "\n",
        "# Sort the DataFrame by date\n",
        "top_dates_df = top_dates_df.sort_values(by='Date')\n",
        "\n",
        "# Plotting using Seaborn\n",
        "plt.figure(figsize=(20,6))\n",
        "lineplot = sns.lineplot(x='Date', y='Comment_Creations', data=top_dates_df, palette='viridis')\n",
        "\n",
        "# Add labels to the data points\n",
        "for x, y in zip(top_dates_df['Date'], top_dates_df['Comment_Creations']):\n",
        "    plt.text(x, y, str(y), ha='center', va='bottom', fontsize=10, rotation=45)\n",
        "\n",
        "# Set the x-axis tick labels\n",
        "date_ticks = top_dates_df['Date'][::2]  # Display every second date\n",
        "plt.xticks(date_ticks, rotation=45, ha='right')\n",
        "\n",
        "# Highlight the time period from 24 November 2023 to 30 November 2023 in a different color\n",
        "highlight_start_date = pd.Timestamp('2023-11-24')\n",
        "highlight_end_date = pd.Timestamp('2023-11-30')\n",
        "\n",
        "lineplot.axvspan(highlight_start_date, highlight_end_date, color='lightcoral', alpha=0.3, label='Temporary Ceasefire Period')\n",
        "\n",
        "\n",
        "plt.title('Temporal Trends - Comments per Day | All Subreddits')\n",
        "plt.xlabel('Date')\n",
        "plt.ylabel('Total Number of Comments')\n",
        "plt.legend( title_fontsize='12', loc='upper left')\n",
        "plt.tight_layout()\n",
        "plt.show()"
      ]
    },
    {
      "cell_type": "markdown",
      "metadata": {
        "id": "C9Cx6UYEdD5B"
      },
      "source": [
        "### Ceasefire Impact:\n",
        "\n",
        "* There is a noticeable decline in the number of comments from November 24th to November 30th, possibly due to the announced ceasefire during that period. This decline aligns with a decrease in commenting activity."
      ]
    },
    {
      "cell_type": "code",
      "execution_count": null,
      "metadata": {
        "execution": {
          "iopub.execute_input": "2024-01-12T00:21:58.310581Z",
          "iopub.status.busy": "2024-01-12T00:21:58.309865Z",
          "iopub.status.idle": "2024-01-12T00:21:58.631985Z",
          "shell.execute_reply": "2024-01-12T00:21:58.630881Z",
          "shell.execute_reply.started": "2024-01-12T00:21:58.310547Z"
        },
        "trusted": true,
        "id": "ZlO5ZePidD5B"
      },
      "outputs": [],
      "source": [
        "# Assuming 'post_created_time' is a datetime column in israel_palestine_df\n",
        "filtered_df['post_created_time'] = pd.to_datetime(filtered_df['post_created_time'])\n",
        "\n",
        "# Group by date and count the number of posts for each day\n",
        "filtered_df.groupby(filtered_df['post_created_time'].dt.date)['post_self_text'].count()"
      ]
    },
    {
      "cell_type": "markdown",
      "metadata": {
        "id": "4IM_SsGQdD5C"
      },
      "source": [
        "# 🍉 Analysis"
      ]
    },
    {
      "cell_type": "code",
      "execution_count": null,
      "metadata": {
        "execution": {
          "iopub.execute_input": "2024-01-12T00:22:00.63586Z",
          "iopub.status.busy": "2024-01-12T00:22:00.635425Z",
          "iopub.status.idle": "2024-01-12T00:22:02.819941Z",
          "shell.execute_reply": "2024-01-12T00:22:02.818769Z",
          "shell.execute_reply.started": "2024-01-12T00:22:00.635829Z"
        },
        "trusted": true,
        "id": "neAu_9BudD5C"
      },
      "outputs": [],
      "source": [
        "# Assuming 'self_text' is the column containing posts/comments in your DataFrame\n",
        "emoji = '🍉'\n",
        "emoji_counts = filtered_df['self_text'].str.count(emoji)\n",
        "\n",
        "# Create a new column in the DataFrame with the counts\n",
        "filtered_df['emoji_counts'] = emoji_counts\n",
        "\n",
        "# Sum the counts to get the total occurrences\n",
        "total_occurrences = emoji_counts.sum()\n",
        "\n",
        "# Print the total occurrences\n",
        "print(f'Total occurrences of 🍉 emoji: {total_occurrences}')\n",
        "\n",
        "# Plot a bar chart with color gradient to visualize the occurrences\n",
        "plt.figure(figsize=(10, 6))\n",
        "sns.scatterplot(x=filtered_df.index, y=filtered_df['emoji_counts'], color='red')\n",
        "plt.xlabel('Index')\n",
        "plt.ylabel('Emoji Counts')\n",
        "plt.title('Scatter Plot of 🍉 Emoji Counts in Posts/Comments')\n",
        "plt.show()"
      ]
    },
    {
      "cell_type": "code",
      "execution_count": null,
      "metadata": {
        "execution": {
          "iopub.execute_input": "2024-01-12T00:22:02.822939Z",
          "iopub.status.busy": "2024-01-12T00:22:02.821878Z",
          "iopub.status.idle": "2024-01-12T00:22:03.555003Z",
          "shell.execute_reply": "2024-01-12T00:22:03.553809Z",
          "shell.execute_reply.started": "2024-01-12T00:22:02.822902Z"
        },
        "trusted": true,
        "id": "eBMcnTNRdD5C"
      },
      "outputs": [],
      "source": [
        "# Assuming 'self_text' is the column containing posts/comments in your DataFrame\n",
        "emoji = '🍉'\n",
        "emoji_counts = filtered_df['self_text'].str.count(emoji)\n",
        "\n",
        "# Create a new column in the DataFrame with the counts\n",
        "filtered_df['emoji_counts'] = emoji_counts\n",
        "\n",
        "# Sum the counts to get the total occurrences\n",
        "total_occurrences = emoji_counts.sum()\n",
        "\n",
        "# Print the total occurrences\n",
        "print(f'Total occurrences of 🍉 emoji: {total_occurrences}')\n",
        "\n",
        "# Filter rows where the emoji count is greater than 0\n",
        "comments_with_emoji = filtered_df[emoji_counts > 0]\n",
        "\n",
        "# Iterate over the DataFrame and print occurrences\n",
        "for index, row in comments_with_emoji.iterrows():\n",
        "    print(f'Index {index}: {row[\"self_text\"]}')\n",
        "\n",
        "# Plot a bar chart to visualize the occurrences\n",
        "# Your plotting code goes here"
      ]
    },
    {
      "cell_type": "code",
      "execution_count": null,
      "metadata": {
        "execution": {
          "iopub.execute_input": "2024-01-12T00:22:07.200552Z",
          "iopub.status.busy": "2024-01-12T00:22:07.200093Z",
          "iopub.status.idle": "2024-01-12T00:22:09.745779Z",
          "shell.execute_reply": "2024-01-12T00:22:09.744457Z",
          "shell.execute_reply.started": "2024-01-12T00:22:07.200494Z"
        },
        "trusted": true,
        "id": "fqz7ytcFdD5C"
      },
      "outputs": [],
      "source": [
        "import pandas as pd\n",
        "import matplotlib.pyplot as plt\n",
        "import seaborn as sns\n",
        "\n",
        "# Assuming 'self_text' is the column containing posts/comments in your DataFrame\n",
        "emojis_to_count = ['🍉', '🇵🇸']  # 🇵🇸 represents the Palestinian flag emoji\n",
        "\n",
        "# Create a new column in the DataFrame for each emoji count\n",
        "for emoji in emojis_to_count:\n",
        "    emoji_counts = filtered_df['self_text'].str.count(emoji)\n",
        "    filtered_df[f'{emoji}_counts'] = emoji_counts\n",
        "\n",
        "# Sum the counts for each emoji to get the total occurrences\n",
        "total_occurrences = filtered_df[[f'{emoji}_counts' for emoji in emojis_to_count]].sum()\n",
        "\n",
        "# Display the total occurrences of each emoji\n",
        "print(f'Total occurrences of each emoji: {total_occurrences}')\n",
        "\n",
        "# Plot a bar chart to visualize the occurrences\n",
        "plt.figure(figsize=(10, 6))\n",
        "sns.barplot(x=emojis_to_count, y=total_occurrences.values, palette='viridis')\n",
        "plt.xlabel('Emoji')\n",
        "plt.ylabel('Total Occurrences')\n",
        "plt.title('Total Occurrences of Emojis in Posts/Comments')\n",
        "plt.show()\n",
        "for emoji in emojis_to_count:\n",
        "    emoji_counts = filtered_df['self_text'].str.count(emoji)\n",
        "    filtered_df[f'{emoji}_counts'] = emoji_counts\n",
        "\n",
        "# Sum the counts for each emoji to get the total occurrences\n",
        "total_occurrences = filtered_df[[f'{emoji}_counts' for emoji in emojis_to_count]].sum()\n",
        "\n",
        "\n",
        "# Plot a pie chart to visualize the occurrences\n",
        "plt.figure(figsize=(8, 8))\n",
        "plt.pie(total_occurrences, labels=emojis_to_count, autopct='%1.1f%%', startangle=140, colors=['lightblue', 'lightgreen'])\n",
        "plt.title('Percentage of Occurrences of Emojis in Posts/Comments')\n",
        "plt.show()"
      ]
    },
    {
      "cell_type": "markdown",
      "metadata": {
        "id": "ZsMNbtNFdD5D"
      },
      "source": [
        "# **geopolitical determination**"
      ]
    },
    {
      "cell_type": "markdown",
      "metadata": {
        "id": "axs1MNEydD5D"
      },
      "source": [
        "Identify Author Locations\n",
        "Reddit, a predominantly anonymous community, faces challenges in discerning the geographical locations of its users. While Reddit has access to users' IP addresses, this information remains undisclosed to the public.\n",
        "\n",
        "An effective strategy involves recognizing that user activity, particularly engagement through comments, tends to peak from 12:00 to 21:00 UTC. By leveraging this temporal pattern, we can make a tentative inference about a user's likely country or region based on their prevalent posting times.\n",
        "\n",
        "To achieve this, we will follow these steps:\n",
        "\n",
        "1. Extract the hour component from the `created_time` column.\n",
        "2. Aggregate the data by `author_name` and compute the mean hour for each user.\n",
        "3. Utilize the mean hour to estimate the probable time zone associated with each user.\n",
        "4. Summarize the count of users within each estimated time zone."
      ]
    },
    {
      "cell_type": "code",
      "execution_count": null,
      "metadata": {
        "execution": {
          "iopub.execute_input": "2024-01-12T00:22:25.179329Z",
          "iopub.status.busy": "2024-01-12T00:22:25.178415Z",
          "iopub.status.idle": "2024-01-12T00:22:25.623849Z",
          "shell.execute_reply": "2024-01-12T00:22:25.622686Z",
          "shell.execute_reply.started": "2024-01-12T00:22:25.179295Z"
        },
        "trusted": true,
        "id": "KS-qzVHydD5D"
      },
      "outputs": [],
      "source": [
        "# Extract hour from 'created_time'\n",
        "filtered_df['hour'] = filtered_df['created_time'].dt.hour\n",
        "\n",
        "# Group by 'author_name' and calculate the mean hour\n",
        "df_users = filtered_df.groupby('author_name')['hour'].mean().reset_index()\n",
        "\n",
        "# Function to estimate timezone from mean hour\n",
        "def estimate_timezone(hour):\n",
        "    '''\n",
        "    estimate_timezone function takes the mean hour as input and estimates the timezone based on the assumption that the most active time\n",
        "    is between 12:00 - 21:00 local time. The function then calculates the difference (local_hour) between the mean hour and 12,and constructs\n",
        "    a string in the format \"UTC{local_hour:+03d}:00\". This string represents the estimated timezone with a UTC offset.\n",
        "\n",
        "    For example:\n",
        "    If the mean hour is 15, then local_hour would be 3, and the returned timezone would be \"UTC+03:00\".\n",
        "    If the mean hour is 9, then local_hour would be -3, and the returned timezone would be \"UTC-03:00\".\n",
        "    This way, you're expressing the timezone as a UTC offset relative to UTC time.\n",
        "    '''\n",
        "    # Assuming most active time is between 12:00 - 21:00 local time\n",
        "    local_hour = int (hour - 12)\n",
        "    return f\"UTC{local_hour:+03d}:00\"\n",
        "\n",
        "# Apply the timezone estimation function\n",
        "df_users['estimated_timezone'] = df_users['hour'].apply(estimate_timezone)\n",
        "\n",
        "# Count the number of users in each estimated timezone\n",
        "timezone_distribution = df_users['estimated_timezone'].value_counts()\n",
        "timezone_distribution"
      ]
    },
    {
      "cell_type": "code",
      "execution_count": null,
      "metadata": {
        "execution": {
          "iopub.execute_input": "2024-01-12T00:22:28.733484Z",
          "iopub.status.busy": "2024-01-12T00:22:28.732635Z",
          "iopub.status.idle": "2024-01-12T00:22:29.022636Z",
          "shell.execute_reply": "2024-01-12T00:22:29.021325Z",
          "shell.execute_reply.started": "2024-01-12T00:22:28.73342Z"
        },
        "trusted": true,
        "id": "U_DOQuM7dD5D"
      },
      "outputs": [],
      "source": [
        "#Aggregate the data by author_name and compute the mean hour for each user.\n",
        "filtered_df.groupby('author_name')['hour'].mean().reset_index()"
      ]
    },
    {
      "cell_type": "code",
      "execution_count": null,
      "metadata": {
        "execution": {
          "iopub.execute_input": "2024-01-12T00:22:30.525485Z",
          "iopub.status.busy": "2024-01-12T00:22:30.525041Z",
          "iopub.status.idle": "2024-01-12T00:22:31.210636Z",
          "shell.execute_reply": "2024-01-12T00:22:31.209378Z",
          "shell.execute_reply.started": "2024-01-12T00:22:30.525431Z"
        },
        "trusted": true,
        "id": "ES_KcRmbdD5E"
      },
      "outputs": [],
      "source": [
        "# Get a list of time zones\n",
        "time_zones = pytz.all_timezones\n",
        "\n",
        "# Create a mapping of UTC offsets to countries\n",
        "utc_region_mapping = defaultdict(list)\n",
        "\n",
        "for time_zone in time_zones:\n",
        "    tz = pytz.timezone(time_zone)\n",
        "    now = tz.localize(datetime.datetime.now())\n",
        "    offset = now.utcoffset()\n",
        "    utc_offset = offset.total_seconds() // 3600\n",
        "    utc_region_mapping[f'{utc_offset:+03.0f}:00'].append(time_zone)\n",
        "\n",
        "# Convert defaultdict to a regular dictionary\n",
        "utc_region_mapping = dict(utc_region_mapping)\n",
        "\n",
        "# Function to estimate region from UTC offset\n",
        "def estimate_region(estimated_timezone):\n",
        "    # Extract UTC offset from the 'estimated_timezone' column\n",
        "    utc_offset = estimated_timezone[-6:]\n",
        "\n",
        "    # Map UTC offset to region using the provided utc_region_mapping\n",
        "    return utc_region_mapping.get(utc_offset, 'Unknown')\n",
        "\n",
        "# Apply the region estimation function\n",
        "df_users['region'] = df_users['estimated_timezone'].apply(estimate_region)\n",
        "\n",
        "df_users.head()"
      ]
    },
    {
      "cell_type": "markdown",
      "metadata": {
        "id": "Dzsf63TrdD5E"
      },
      "source": [
        "# **Controversiality Analysis**"
      ]
    },
    {
      "cell_type": "code",
      "execution_count": null,
      "metadata": {
        "execution": {
          "iopub.execute_input": "2024-01-12T00:22:34.317934Z",
          "iopub.status.busy": "2024-01-12T00:22:34.317551Z",
          "iopub.status.idle": "2024-01-12T00:22:34.804671Z",
          "shell.execute_reply": "2024-01-12T00:22:34.803411Z",
          "shell.execute_reply.started": "2024-01-12T00:22:34.317906Z"
        },
        "trusted": true,
        "id": "nwEvWg5mdD5E"
      },
      "outputs": [],
      "source": [
        "filtered_df['controversiality'] = df_original['controversiality']\n",
        "# Create comment_df with non-NaN values in both self_text and post_self_text\n",
        "comment_df = filtered_df.dropna(subset=['self_text','post_self_text'])\n",
        "# drop duplicate comments (like comments by Reddit Commuinty)\n",
        "comment_df = comment_df.drop_duplicates(subset=['self_text'])\n",
        "controversiality_counts = comment_df['controversiality'].value_counts()\n",
        "controversiality_counts"
      ]
    },
    {
      "cell_type": "code",
      "execution_count": null,
      "metadata": {
        "execution": {
          "iopub.execute_input": "2024-01-12T00:22:36.328875Z",
          "iopub.status.busy": "2024-01-12T00:22:36.327784Z",
          "iopub.status.idle": "2024-01-12T00:22:38.119213Z",
          "shell.execute_reply": "2024-01-12T00:22:38.118071Z",
          "shell.execute_reply.started": "2024-01-12T00:22:36.32883Z"
        },
        "trusted": true,
        "id": "E6f1IAsYdD5E"
      },
      "outputs": [],
      "source": [
        "# Calculate controversiality percentages for each subreddit\n",
        "controversiality_percentages = comment_df.groupby('subreddit')['controversiality'].mean().sort_values(ascending=False)\n",
        "\n",
        "# Sort subreddits based on the highest comment_id\n",
        "subreddit_sorted = comment_df.groupby('subreddit')['comment_id'].count().sort_values(ascending=False).index\n",
        "\n",
        "# Set up subplots\n",
        "num_subplots = min(12, len(controversiality_percentages))  # Display only 12 charts\n",
        "num_cols = 6  # Display 6 charts per line\n",
        "num_rows = (num_subplots + num_cols - 1) // num_cols\n",
        "fig, axes = plt.subplots(nrows=num_rows, ncols=num_cols, figsize=(15, 5 * num_rows))\n",
        "axes = axes.flatten()\n",
        "\n",
        "# Plot pie charts for each subreddit\n",
        "for i, subreddit in enumerate(subreddit_sorted[:num_subplots]):\n",
        "    # Filter data for the current subreddit\n",
        "    subreddit_data = comment_df[comment_df['subreddit'] == subreddit]\n",
        "    # Calculate controversiality distribution\n",
        "    controversiality_counts = subreddit_data['controversiality'].value_counts()\n",
        "    # Plot the pie chart for the current subreddit\n",
        "    axes[i].pie(controversiality_counts, labels=controversiality_counts.index, autopct='%1.1f%%', startangle=90, colors=['lightcoral', 'lightblue'])\n",
        "    axes[i].set_title(f'{subreddit}')\n",
        "\n",
        "plt.tight_layout()\n",
        "plt.show()"
      ]
    },
    {
      "cell_type": "code",
      "execution_count": null,
      "metadata": {
        "execution": {
          "iopub.execute_input": "2024-01-12T00:22:41.842957Z",
          "iopub.status.busy": "2024-01-12T00:22:41.842551Z",
          "iopub.status.idle": "2024-01-12T00:22:41.890071Z",
          "shell.execute_reply": "2024-01-12T00:22:41.888922Z",
          "shell.execute_reply.started": "2024-01-12T00:22:41.842927Z"
        },
        "trusted": true,
        "id": "qtCKLmL5dD5F"
      },
      "outputs": [],
      "source": [
        "comment_df[comment_df['controversiality'] == 1].sort_values(by=['score','user_total_karma'], ascending=False).head()[['self_text', 'score', 'user_total_karma', 'controversiality']]"
      ]
    },
    {
      "cell_type": "code",
      "execution_count": null,
      "metadata": {
        "execution": {
          "iopub.execute_input": "2024-01-12T00:22:45.142768Z",
          "iopub.status.busy": "2024-01-12T00:22:45.142373Z",
          "iopub.status.idle": "2024-01-12T00:22:45.595005Z",
          "shell.execute_reply": "2024-01-12T00:22:45.593857Z",
          "shell.execute_reply.started": "2024-01-12T00:22:45.14274Z"
        },
        "trusted": true,
        "id": "hd986l9edD5F"
      },
      "outputs": [],
      "source": [
        "comment_df[comment_df['controversiality'] == 0].sort_values(by=['score','user_total_karma'], ascending=False).head()[['self_text', 'score', 'user_total_karma', 'controversiality']]"
      ]
    },
    {
      "cell_type": "markdown",
      "metadata": {
        "id": "oFX5Ce0EdD5F"
      },
      "source": [
        "# **Topic modeling**"
      ]
    },
    {
      "cell_type": "code",
      "execution_count": null,
      "metadata": {
        "execution": {
          "iopub.execute_input": "2024-01-12T00:23:57.190784Z",
          "iopub.status.busy": "2024-01-12T00:23:57.190348Z",
          "iopub.status.idle": "2024-01-12T00:38:43.953501Z",
          "shell.execute_reply": "2024-01-12T00:38:43.951451Z",
          "shell.execute_reply.started": "2024-01-12T00:23:57.190756Z"
        },
        "trusted": true,
        "id": "9nqmxFtxdD5H"
      },
      "outputs": [],
      "source": [
        "from sklearn.feature_extraction.text import TfidfVectorizer\n",
        "from sklearn.decomposition import LatentDirichletAllocation\n",
        "\n",
        "vectorizer = TfidfVectorizer(max_features=5000, stop_words='english')\n",
        "df['self_text'].fillna(\"\", inplace=True)\n",
        "tfidf_matrix = vectorizer.fit_transform(df['self_text'])\n",
        "lda_model = LatentDirichletAllocation(n_components=10, random_state=42, n_jobs=-1)  # Assuming 10 topics\n",
        "lda_topic_matrix = lda_model.fit_transform(tfidf_matrix)\n",
        "# Get the feature names (words) from the vectorizer\n",
        "feature_names = vectorizer.get_feature_names_out()\n",
        "\n",
        "# Get the top words for each topic\n",
        "# Number of words for each topic\n",
        "no_words_per_topic = 10\n",
        "top_words_per_topic = []\n",
        "for topic_idx, topic in enumerate(lda_model.components_):\n",
        "    top_words_idx = topic.argsort()[:-no_words_per_topic - 1:-1]\n",
        "    top_words = [feature_names[i] for i in top_words_idx]\n",
        "    top_words_per_topic.append(top_words)\n",
        "\n",
        "# Print the topics and related words\n",
        "for topic_idx, top_words in enumerate(top_words_per_topic):\n",
        "    print(f\"Topic {topic_idx + 1}:\")\n",
        "    print(\", \".join(top_words))\n",
        "    print()"
      ]
    },
    {
      "cell_type": "code",
      "execution_count": null,
      "metadata": {
        "execution": {
          "iopub.execute_input": "2024-01-12T00:43:16.477179Z",
          "iopub.status.busy": "2024-01-12T00:43:16.47631Z",
          "iopub.status.idle": "2024-01-12T00:43:16.484159Z",
          "shell.execute_reply": "2024-01-12T00:43:16.483157Z",
          "shell.execute_reply.started": "2024-01-12T00:43:16.47713Z"
        },
        "trusted": true,
        "id": "nzy4BEdNdD5I"
      },
      "outputs": [],
      "source": [
        "# Get the vocabulary indices for 'israel' and 'palestine' in your vectorizer\n",
        "israel_word_index = vectorizer.vocabulary_['israel']\n",
        "palestine_word_index = vectorizer.vocabulary_['palestine']"
      ]
    },
    {
      "cell_type": "code",
      "execution_count": null,
      "metadata": {
        "execution": {
          "iopub.execute_input": "2024-01-12T00:43:22.037933Z",
          "iopub.status.busy": "2024-01-12T00:43:22.037455Z",
          "iopub.status.idle": "2024-01-12T00:43:22.043623Z",
          "shell.execute_reply": "2024-01-12T00:43:22.042633Z",
          "shell.execute_reply.started": "2024-01-12T00:43:22.037896Z"
        },
        "trusted": true,
        "id": "Xsd8tJS7dD5I"
      },
      "outputs": [],
      "source": [
        "topic_term_distribution = lda_model.components_\n",
        "israel_topic_index = topic_term_distribution[:, israel_word_index].argmax()\n",
        "palestine_topic_index = topic_term_distribution[:, palestine_word_index].argmax()"
      ]
    },
    {
      "cell_type": "code",
      "execution_count": null,
      "metadata": {
        "execution": {
          "iopub.execute_input": "2024-01-12T00:43:24.72532Z",
          "iopub.status.busy": "2024-01-12T00:43:24.7241Z",
          "iopub.status.idle": "2024-01-12T00:43:24.732195Z",
          "shell.execute_reply": "2024-01-12T00:43:24.731448Z",
          "shell.execute_reply.started": "2024-01-12T00:43:24.72528Z"
        },
        "trusted": true,
        "id": "V2_DIFOPdD5I"
      },
      "outputs": [],
      "source": [
        "print(f\"The topic related with 'israel' is Topic {israel_topic_index + 1}:\")\n",
        "print(\", \".join(top_words_per_topic[israel_topic_index]))\n",
        "print()\n",
        "\n",
        "# Print the topics related with 'palestine'\n",
        "print(f\"The topic related with 'palestine' is Topic {palestine_topic_index + 1}:\")\n",
        "print(\", \".join(top_words_per_topic[palestine_topic_index]))\n",
        "print()"
      ]
    }
  ],
  "metadata": {
    "kaggle": {
      "accelerator": "none",
      "dataSources": [
        {
          "datasetId": 3848678,
          "sourceId": 8722590,
          "sourceType": "datasetVersion"
        }
      ],
      "dockerImageVersionId": 30626,
      "isGpuEnabled": false,
      "isInternetEnabled": false,
      "language": "python",
      "sourceType": "notebook"
    },
    "kernelspec": {
      "display_name": "Python 3",
      "name": "python3"
    },
    "language_info": {
      "codemirror_mode": {
        "name": "ipython",
        "version": 3
      },
      "file_extension": ".py",
      "mimetype": "text/x-python",
      "name": "python",
      "nbconvert_exporter": "python",
      "pygments_lexer": "ipython3",
      "version": "3.12.3"
    },
    "colab": {
      "provenance": [],
      "gpuType": "T4",
      "include_colab_link": true
    },
    "accelerator": "GPU",
    "widgets": {
      "application/vnd.jupyter.widget-state+json": {
        "f2cb8101f40d49d6abe9e07344c5b890": {
          "model_module": "@jupyter-widgets/controls",
          "model_name": "HBoxModel",
          "model_module_version": "1.5.0",
          "state": {
            "_dom_classes": [],
            "_model_module": "@jupyter-widgets/controls",
            "_model_module_version": "1.5.0",
            "_model_name": "HBoxModel",
            "_view_count": null,
            "_view_module": "@jupyter-widgets/controls",
            "_view_module_version": "1.5.0",
            "_view_name": "HBoxView",
            "box_style": "",
            "children": [
              "IPY_MODEL_eb407b10a92f4fb7aeb8e30bbcd2963a",
              "IPY_MODEL_b280f47026514ada8218f235a0f148cc",
              "IPY_MODEL_df379ad4e24e43ce982e198dd5d2d8c7"
            ],
            "layout": "IPY_MODEL_6324d56510b04eb2853ab60890dbc66a"
          }
        },
        "eb407b10a92f4fb7aeb8e30bbcd2963a": {
          "model_module": "@jupyter-widgets/controls",
          "model_name": "HTMLModel",
          "model_module_version": "1.5.0",
          "state": {
            "_dom_classes": [],
            "_model_module": "@jupyter-widgets/controls",
            "_model_module_version": "1.5.0",
            "_model_name": "HTMLModel",
            "_view_count": null,
            "_view_module": "@jupyter-widgets/controls",
            "_view_module_version": "1.5.0",
            "_view_name": "HTMLView",
            "description": "",
            "description_tooltip": null,
            "layout": "IPY_MODEL_413626d2a09f4cb787292fcf2023ec81",
            "placeholder": "​",
            "style": "IPY_MODEL_79ce1ab2ba5348d3a70e3a5bb50f9d98",
            "value": "config.json: 100%"
          }
        },
        "b280f47026514ada8218f235a0f148cc": {
          "model_module": "@jupyter-widgets/controls",
          "model_name": "FloatProgressModel",
          "model_module_version": "1.5.0",
          "state": {
            "_dom_classes": [],
            "_model_module": "@jupyter-widgets/controls",
            "_model_module_version": "1.5.0",
            "_model_name": "FloatProgressModel",
            "_view_count": null,
            "_view_module": "@jupyter-widgets/controls",
            "_view_module_version": "1.5.0",
            "_view_name": "ProgressView",
            "bar_style": "success",
            "description": "",
            "description_tooltip": null,
            "layout": "IPY_MODEL_6159f2d69ccf4e83836abaf1f7b147a0",
            "max": 747,
            "min": 0,
            "orientation": "horizontal",
            "style": "IPY_MODEL_b348fb7d12ac4bfd8d12e1e7be0baa95",
            "value": 747
          }
        },
        "df379ad4e24e43ce982e198dd5d2d8c7": {
          "model_module": "@jupyter-widgets/controls",
          "model_name": "HTMLModel",
          "model_module_version": "1.5.0",
          "state": {
            "_dom_classes": [],
            "_model_module": "@jupyter-widgets/controls",
            "_model_module_version": "1.5.0",
            "_model_name": "HTMLModel",
            "_view_count": null,
            "_view_module": "@jupyter-widgets/controls",
            "_view_module_version": "1.5.0",
            "_view_name": "HTMLView",
            "description": "",
            "description_tooltip": null,
            "layout": "IPY_MODEL_3906d15b02ee4e20a6e94f625a37acc8",
            "placeholder": "​",
            "style": "IPY_MODEL_4367951173564118a2925d714aad007f",
            "value": " 747/747 [00:00&lt;00:00, 21.8kB/s]"
          }
        },
        "6324d56510b04eb2853ab60890dbc66a": {
          "model_module": "@jupyter-widgets/base",
          "model_name": "LayoutModel",
          "model_module_version": "1.2.0",
          "state": {
            "_model_module": "@jupyter-widgets/base",
            "_model_module_version": "1.2.0",
            "_model_name": "LayoutModel",
            "_view_count": null,
            "_view_module": "@jupyter-widgets/base",
            "_view_module_version": "1.2.0",
            "_view_name": "LayoutView",
            "align_content": null,
            "align_items": null,
            "align_self": null,
            "border": null,
            "bottom": null,
            "display": null,
            "flex": null,
            "flex_flow": null,
            "grid_area": null,
            "grid_auto_columns": null,
            "grid_auto_flow": null,
            "grid_auto_rows": null,
            "grid_column": null,
            "grid_gap": null,
            "grid_row": null,
            "grid_template_areas": null,
            "grid_template_columns": null,
            "grid_template_rows": null,
            "height": null,
            "justify_content": null,
            "justify_items": null,
            "left": null,
            "margin": null,
            "max_height": null,
            "max_width": null,
            "min_height": null,
            "min_width": null,
            "object_fit": null,
            "object_position": null,
            "order": null,
            "overflow": null,
            "overflow_x": null,
            "overflow_y": null,
            "padding": null,
            "right": null,
            "top": null,
            "visibility": null,
            "width": null
          }
        },
        "413626d2a09f4cb787292fcf2023ec81": {
          "model_module": "@jupyter-widgets/base",
          "model_name": "LayoutModel",
          "model_module_version": "1.2.0",
          "state": {
            "_model_module": "@jupyter-widgets/base",
            "_model_module_version": "1.2.0",
            "_model_name": "LayoutModel",
            "_view_count": null,
            "_view_module": "@jupyter-widgets/base",
            "_view_module_version": "1.2.0",
            "_view_name": "LayoutView",
            "align_content": null,
            "align_items": null,
            "align_self": null,
            "border": null,
            "bottom": null,
            "display": null,
            "flex": null,
            "flex_flow": null,
            "grid_area": null,
            "grid_auto_columns": null,
            "grid_auto_flow": null,
            "grid_auto_rows": null,
            "grid_column": null,
            "grid_gap": null,
            "grid_row": null,
            "grid_template_areas": null,
            "grid_template_columns": null,
            "grid_template_rows": null,
            "height": null,
            "justify_content": null,
            "justify_items": null,
            "left": null,
            "margin": null,
            "max_height": null,
            "max_width": null,
            "min_height": null,
            "min_width": null,
            "object_fit": null,
            "object_position": null,
            "order": null,
            "overflow": null,
            "overflow_x": null,
            "overflow_y": null,
            "padding": null,
            "right": null,
            "top": null,
            "visibility": null,
            "width": null
          }
        },
        "79ce1ab2ba5348d3a70e3a5bb50f9d98": {
          "model_module": "@jupyter-widgets/controls",
          "model_name": "DescriptionStyleModel",
          "model_module_version": "1.5.0",
          "state": {
            "_model_module": "@jupyter-widgets/controls",
            "_model_module_version": "1.5.0",
            "_model_name": "DescriptionStyleModel",
            "_view_count": null,
            "_view_module": "@jupyter-widgets/base",
            "_view_module_version": "1.2.0",
            "_view_name": "StyleView",
            "description_width": ""
          }
        },
        "6159f2d69ccf4e83836abaf1f7b147a0": {
          "model_module": "@jupyter-widgets/base",
          "model_name": "LayoutModel",
          "model_module_version": "1.2.0",
          "state": {
            "_model_module": "@jupyter-widgets/base",
            "_model_module_version": "1.2.0",
            "_model_name": "LayoutModel",
            "_view_count": null,
            "_view_module": "@jupyter-widgets/base",
            "_view_module_version": "1.2.0",
            "_view_name": "LayoutView",
            "align_content": null,
            "align_items": null,
            "align_self": null,
            "border": null,
            "bottom": null,
            "display": null,
            "flex": null,
            "flex_flow": null,
            "grid_area": null,
            "grid_auto_columns": null,
            "grid_auto_flow": null,
            "grid_auto_rows": null,
            "grid_column": null,
            "grid_gap": null,
            "grid_row": null,
            "grid_template_areas": null,
            "grid_template_columns": null,
            "grid_template_rows": null,
            "height": null,
            "justify_content": null,
            "justify_items": null,
            "left": null,
            "margin": null,
            "max_height": null,
            "max_width": null,
            "min_height": null,
            "min_width": null,
            "object_fit": null,
            "object_position": null,
            "order": null,
            "overflow": null,
            "overflow_x": null,
            "overflow_y": null,
            "padding": null,
            "right": null,
            "top": null,
            "visibility": null,
            "width": null
          }
        },
        "b348fb7d12ac4bfd8d12e1e7be0baa95": {
          "model_module": "@jupyter-widgets/controls",
          "model_name": "ProgressStyleModel",
          "model_module_version": "1.5.0",
          "state": {
            "_model_module": "@jupyter-widgets/controls",
            "_model_module_version": "1.5.0",
            "_model_name": "ProgressStyleModel",
            "_view_count": null,
            "_view_module": "@jupyter-widgets/base",
            "_view_module_version": "1.2.0",
            "_view_name": "StyleView",
            "bar_color": null,
            "description_width": ""
          }
        },
        "3906d15b02ee4e20a6e94f625a37acc8": {
          "model_module": "@jupyter-widgets/base",
          "model_name": "LayoutModel",
          "model_module_version": "1.2.0",
          "state": {
            "_model_module": "@jupyter-widgets/base",
            "_model_module_version": "1.2.0",
            "_model_name": "LayoutModel",
            "_view_count": null,
            "_view_module": "@jupyter-widgets/base",
            "_view_module_version": "1.2.0",
            "_view_name": "LayoutView",
            "align_content": null,
            "align_items": null,
            "align_self": null,
            "border": null,
            "bottom": null,
            "display": null,
            "flex": null,
            "flex_flow": null,
            "grid_area": null,
            "grid_auto_columns": null,
            "grid_auto_flow": null,
            "grid_auto_rows": null,
            "grid_column": null,
            "grid_gap": null,
            "grid_row": null,
            "grid_template_areas": null,
            "grid_template_columns": null,
            "grid_template_rows": null,
            "height": null,
            "justify_content": null,
            "justify_items": null,
            "left": null,
            "margin": null,
            "max_height": null,
            "max_width": null,
            "min_height": null,
            "min_width": null,
            "object_fit": null,
            "object_position": null,
            "order": null,
            "overflow": null,
            "overflow_x": null,
            "overflow_y": null,
            "padding": null,
            "right": null,
            "top": null,
            "visibility": null,
            "width": null
          }
        },
        "4367951173564118a2925d714aad007f": {
          "model_module": "@jupyter-widgets/controls",
          "model_name": "DescriptionStyleModel",
          "model_module_version": "1.5.0",
          "state": {
            "_model_module": "@jupyter-widgets/controls",
            "_model_module_version": "1.5.0",
            "_model_name": "DescriptionStyleModel",
            "_view_count": null,
            "_view_module": "@jupyter-widgets/base",
            "_view_module_version": "1.2.0",
            "_view_name": "StyleView",
            "description_width": ""
          }
        },
        "8ed475d8813f46d7884cd201f4acb4a5": {
          "model_module": "@jupyter-widgets/controls",
          "model_name": "HBoxModel",
          "model_module_version": "1.5.0",
          "state": {
            "_dom_classes": [],
            "_model_module": "@jupyter-widgets/controls",
            "_model_module_version": "1.5.0",
            "_model_name": "HBoxModel",
            "_view_count": null,
            "_view_module": "@jupyter-widgets/controls",
            "_view_module_version": "1.5.0",
            "_view_name": "HBoxView",
            "box_style": "",
            "children": [
              "IPY_MODEL_cf8c8e0a07054a16909724cb0ca0eefb",
              "IPY_MODEL_444522f2df7b4960a7684a1901738905",
              "IPY_MODEL_dd995496cef74152b151158dee1bcd2b"
            ],
            "layout": "IPY_MODEL_bc96897107e34d78a976f2aead64043d"
          }
        },
        "cf8c8e0a07054a16909724cb0ca0eefb": {
          "model_module": "@jupyter-widgets/controls",
          "model_name": "HTMLModel",
          "model_module_version": "1.5.0",
          "state": {
            "_dom_classes": [],
            "_model_module": "@jupyter-widgets/controls",
            "_model_module_version": "1.5.0",
            "_model_name": "HTMLModel",
            "_view_count": null,
            "_view_module": "@jupyter-widgets/controls",
            "_view_module_version": "1.5.0",
            "_view_name": "HTMLView",
            "description": "",
            "description_tooltip": null,
            "layout": "IPY_MODEL_a1963097f6934057aec755fce3e759fe",
            "placeholder": "​",
            "style": "IPY_MODEL_8cc0edc8906941c9b327fe94834a1a8d",
            "value": "vocab.json: 100%"
          }
        },
        "444522f2df7b4960a7684a1901738905": {
          "model_module": "@jupyter-widgets/controls",
          "model_name": "FloatProgressModel",
          "model_module_version": "1.5.0",
          "state": {
            "_dom_classes": [],
            "_model_module": "@jupyter-widgets/controls",
            "_model_module_version": "1.5.0",
            "_model_name": "FloatProgressModel",
            "_view_count": null,
            "_view_module": "@jupyter-widgets/controls",
            "_view_module_version": "1.5.0",
            "_view_name": "ProgressView",
            "bar_style": "success",
            "description": "",
            "description_tooltip": null,
            "layout": "IPY_MODEL_59decdc2735c48cdb87695df565cb944",
            "max": 898822,
            "min": 0,
            "orientation": "horizontal",
            "style": "IPY_MODEL_2933dc4a6dd44949927b6fe9a04a93aa",
            "value": 898822
          }
        },
        "dd995496cef74152b151158dee1bcd2b": {
          "model_module": "@jupyter-widgets/controls",
          "model_name": "HTMLModel",
          "model_module_version": "1.5.0",
          "state": {
            "_dom_classes": [],
            "_model_module": "@jupyter-widgets/controls",
            "_model_module_version": "1.5.0",
            "_model_name": "HTMLModel",
            "_view_count": null,
            "_view_module": "@jupyter-widgets/controls",
            "_view_module_version": "1.5.0",
            "_view_name": "HTMLView",
            "description": "",
            "description_tooltip": null,
            "layout": "IPY_MODEL_0ec854bc1f3e49cd9e56c9b1983c46fb",
            "placeholder": "​",
            "style": "IPY_MODEL_b3005fec0e9641dfb9a8c34d3c3b1f86",
            "value": " 899k/899k [00:00&lt;00:00, 4.59MB/s]"
          }
        },
        "bc96897107e34d78a976f2aead64043d": {
          "model_module": "@jupyter-widgets/base",
          "model_name": "LayoutModel",
          "model_module_version": "1.2.0",
          "state": {
            "_model_module": "@jupyter-widgets/base",
            "_model_module_version": "1.2.0",
            "_model_name": "LayoutModel",
            "_view_count": null,
            "_view_module": "@jupyter-widgets/base",
            "_view_module_version": "1.2.0",
            "_view_name": "LayoutView",
            "align_content": null,
            "align_items": null,
            "align_self": null,
            "border": null,
            "bottom": null,
            "display": null,
            "flex": null,
            "flex_flow": null,
            "grid_area": null,
            "grid_auto_columns": null,
            "grid_auto_flow": null,
            "grid_auto_rows": null,
            "grid_column": null,
            "grid_gap": null,
            "grid_row": null,
            "grid_template_areas": null,
            "grid_template_columns": null,
            "grid_template_rows": null,
            "height": null,
            "justify_content": null,
            "justify_items": null,
            "left": null,
            "margin": null,
            "max_height": null,
            "max_width": null,
            "min_height": null,
            "min_width": null,
            "object_fit": null,
            "object_position": null,
            "order": null,
            "overflow": null,
            "overflow_x": null,
            "overflow_y": null,
            "padding": null,
            "right": null,
            "top": null,
            "visibility": null,
            "width": null
          }
        },
        "a1963097f6934057aec755fce3e759fe": {
          "model_module": "@jupyter-widgets/base",
          "model_name": "LayoutModel",
          "model_module_version": "1.2.0",
          "state": {
            "_model_module": "@jupyter-widgets/base",
            "_model_module_version": "1.2.0",
            "_model_name": "LayoutModel",
            "_view_count": null,
            "_view_module": "@jupyter-widgets/base",
            "_view_module_version": "1.2.0",
            "_view_name": "LayoutView",
            "align_content": null,
            "align_items": null,
            "align_self": null,
            "border": null,
            "bottom": null,
            "display": null,
            "flex": null,
            "flex_flow": null,
            "grid_area": null,
            "grid_auto_columns": null,
            "grid_auto_flow": null,
            "grid_auto_rows": null,
            "grid_column": null,
            "grid_gap": null,
            "grid_row": null,
            "grid_template_areas": null,
            "grid_template_columns": null,
            "grid_template_rows": null,
            "height": null,
            "justify_content": null,
            "justify_items": null,
            "left": null,
            "margin": null,
            "max_height": null,
            "max_width": null,
            "min_height": null,
            "min_width": null,
            "object_fit": null,
            "object_position": null,
            "order": null,
            "overflow": null,
            "overflow_x": null,
            "overflow_y": null,
            "padding": null,
            "right": null,
            "top": null,
            "visibility": null,
            "width": null
          }
        },
        "8cc0edc8906941c9b327fe94834a1a8d": {
          "model_module": "@jupyter-widgets/controls",
          "model_name": "DescriptionStyleModel",
          "model_module_version": "1.5.0",
          "state": {
            "_model_module": "@jupyter-widgets/controls",
            "_model_module_version": "1.5.0",
            "_model_name": "DescriptionStyleModel",
            "_view_count": null,
            "_view_module": "@jupyter-widgets/base",
            "_view_module_version": "1.2.0",
            "_view_name": "StyleView",
            "description_width": ""
          }
        },
        "59decdc2735c48cdb87695df565cb944": {
          "model_module": "@jupyter-widgets/base",
          "model_name": "LayoutModel",
          "model_module_version": "1.2.0",
          "state": {
            "_model_module": "@jupyter-widgets/base",
            "_model_module_version": "1.2.0",
            "_model_name": "LayoutModel",
            "_view_count": null,
            "_view_module": "@jupyter-widgets/base",
            "_view_module_version": "1.2.0",
            "_view_name": "LayoutView",
            "align_content": null,
            "align_items": null,
            "align_self": null,
            "border": null,
            "bottom": null,
            "display": null,
            "flex": null,
            "flex_flow": null,
            "grid_area": null,
            "grid_auto_columns": null,
            "grid_auto_flow": null,
            "grid_auto_rows": null,
            "grid_column": null,
            "grid_gap": null,
            "grid_row": null,
            "grid_template_areas": null,
            "grid_template_columns": null,
            "grid_template_rows": null,
            "height": null,
            "justify_content": null,
            "justify_items": null,
            "left": null,
            "margin": null,
            "max_height": null,
            "max_width": null,
            "min_height": null,
            "min_width": null,
            "object_fit": null,
            "object_position": null,
            "order": null,
            "overflow": null,
            "overflow_x": null,
            "overflow_y": null,
            "padding": null,
            "right": null,
            "top": null,
            "visibility": null,
            "width": null
          }
        },
        "2933dc4a6dd44949927b6fe9a04a93aa": {
          "model_module": "@jupyter-widgets/controls",
          "model_name": "ProgressStyleModel",
          "model_module_version": "1.5.0",
          "state": {
            "_model_module": "@jupyter-widgets/controls",
            "_model_module_version": "1.5.0",
            "_model_name": "ProgressStyleModel",
            "_view_count": null,
            "_view_module": "@jupyter-widgets/base",
            "_view_module_version": "1.2.0",
            "_view_name": "StyleView",
            "bar_color": null,
            "description_width": ""
          }
        },
        "0ec854bc1f3e49cd9e56c9b1983c46fb": {
          "model_module": "@jupyter-widgets/base",
          "model_name": "LayoutModel",
          "model_module_version": "1.2.0",
          "state": {
            "_model_module": "@jupyter-widgets/base",
            "_model_module_version": "1.2.0",
            "_model_name": "LayoutModel",
            "_view_count": null,
            "_view_module": "@jupyter-widgets/base",
            "_view_module_version": "1.2.0",
            "_view_name": "LayoutView",
            "align_content": null,
            "align_items": null,
            "align_self": null,
            "border": null,
            "bottom": null,
            "display": null,
            "flex": null,
            "flex_flow": null,
            "grid_area": null,
            "grid_auto_columns": null,
            "grid_auto_flow": null,
            "grid_auto_rows": null,
            "grid_column": null,
            "grid_gap": null,
            "grid_row": null,
            "grid_template_areas": null,
            "grid_template_columns": null,
            "grid_template_rows": null,
            "height": null,
            "justify_content": null,
            "justify_items": null,
            "left": null,
            "margin": null,
            "max_height": null,
            "max_width": null,
            "min_height": null,
            "min_width": null,
            "object_fit": null,
            "object_position": null,
            "order": null,
            "overflow": null,
            "overflow_x": null,
            "overflow_y": null,
            "padding": null,
            "right": null,
            "top": null,
            "visibility": null,
            "width": null
          }
        },
        "b3005fec0e9641dfb9a8c34d3c3b1f86": {
          "model_module": "@jupyter-widgets/controls",
          "model_name": "DescriptionStyleModel",
          "model_module_version": "1.5.0",
          "state": {
            "_model_module": "@jupyter-widgets/controls",
            "_model_module_version": "1.5.0",
            "_model_name": "DescriptionStyleModel",
            "_view_count": null,
            "_view_module": "@jupyter-widgets/base",
            "_view_module_version": "1.2.0",
            "_view_name": "StyleView",
            "description_width": ""
          }
        },
        "d883b74e156e4524a9092f9607a3e27a": {
          "model_module": "@jupyter-widgets/controls",
          "model_name": "HBoxModel",
          "model_module_version": "1.5.0",
          "state": {
            "_dom_classes": [],
            "_model_module": "@jupyter-widgets/controls",
            "_model_module_version": "1.5.0",
            "_model_name": "HBoxModel",
            "_view_count": null,
            "_view_module": "@jupyter-widgets/controls",
            "_view_module_version": "1.5.0",
            "_view_name": "HBoxView",
            "box_style": "",
            "children": [
              "IPY_MODEL_c8e5ee73f6124d2bb4ad7a86531e7b7e",
              "IPY_MODEL_ae23bc9eb3f84ff0942d20e885dc7684",
              "IPY_MODEL_81a29c735bb1436f9f0b79690871f8fa"
            ],
            "layout": "IPY_MODEL_9da88fc60f504e0cb7499b2413337663"
          }
        },
        "c8e5ee73f6124d2bb4ad7a86531e7b7e": {
          "model_module": "@jupyter-widgets/controls",
          "model_name": "HTMLModel",
          "model_module_version": "1.5.0",
          "state": {
            "_dom_classes": [],
            "_model_module": "@jupyter-widgets/controls",
            "_model_module_version": "1.5.0",
            "_model_name": "HTMLModel",
            "_view_count": null,
            "_view_module": "@jupyter-widgets/controls",
            "_view_module_version": "1.5.0",
            "_view_name": "HTMLView",
            "description": "",
            "description_tooltip": null,
            "layout": "IPY_MODEL_a485e7fc2aaf46bfaa2f6371da0ab026",
            "placeholder": "​",
            "style": "IPY_MODEL_f4c1fb120a1f4ea78e82f9f27051033b",
            "value": "merges.txt: 100%"
          }
        },
        "ae23bc9eb3f84ff0942d20e885dc7684": {
          "model_module": "@jupyter-widgets/controls",
          "model_name": "FloatProgressModel",
          "model_module_version": "1.5.0",
          "state": {
            "_dom_classes": [],
            "_model_module": "@jupyter-widgets/controls",
            "_model_module_version": "1.5.0",
            "_model_name": "FloatProgressModel",
            "_view_count": null,
            "_view_module": "@jupyter-widgets/controls",
            "_view_module_version": "1.5.0",
            "_view_name": "ProgressView",
            "bar_style": "success",
            "description": "",
            "description_tooltip": null,
            "layout": "IPY_MODEL_02ce51feba614f9daa433ffe7e8b0554",
            "max": 456318,
            "min": 0,
            "orientation": "horizontal",
            "style": "IPY_MODEL_1b49d9bae72849b9999e18434254fce6",
            "value": 456318
          }
        },
        "81a29c735bb1436f9f0b79690871f8fa": {
          "model_module": "@jupyter-widgets/controls",
          "model_name": "HTMLModel",
          "model_module_version": "1.5.0",
          "state": {
            "_dom_classes": [],
            "_model_module": "@jupyter-widgets/controls",
            "_model_module_version": "1.5.0",
            "_model_name": "HTMLModel",
            "_view_count": null,
            "_view_module": "@jupyter-widgets/controls",
            "_view_module_version": "1.5.0",
            "_view_name": "HTMLView",
            "description": "",
            "description_tooltip": null,
            "layout": "IPY_MODEL_80aa103ccd0a4c1a9585c92e8d2e0217",
            "placeholder": "​",
            "style": "IPY_MODEL_e548cfa200e24b0c82e7c29a56e01e1e",
            "value": " 456k/456k [00:00&lt;00:00, 15.6MB/s]"
          }
        },
        "9da88fc60f504e0cb7499b2413337663": {
          "model_module": "@jupyter-widgets/base",
          "model_name": "LayoutModel",
          "model_module_version": "1.2.0",
          "state": {
            "_model_module": "@jupyter-widgets/base",
            "_model_module_version": "1.2.0",
            "_model_name": "LayoutModel",
            "_view_count": null,
            "_view_module": "@jupyter-widgets/base",
            "_view_module_version": "1.2.0",
            "_view_name": "LayoutView",
            "align_content": null,
            "align_items": null,
            "align_self": null,
            "border": null,
            "bottom": null,
            "display": null,
            "flex": null,
            "flex_flow": null,
            "grid_area": null,
            "grid_auto_columns": null,
            "grid_auto_flow": null,
            "grid_auto_rows": null,
            "grid_column": null,
            "grid_gap": null,
            "grid_row": null,
            "grid_template_areas": null,
            "grid_template_columns": null,
            "grid_template_rows": null,
            "height": null,
            "justify_content": null,
            "justify_items": null,
            "left": null,
            "margin": null,
            "max_height": null,
            "max_width": null,
            "min_height": null,
            "min_width": null,
            "object_fit": null,
            "object_position": null,
            "order": null,
            "overflow": null,
            "overflow_x": null,
            "overflow_y": null,
            "padding": null,
            "right": null,
            "top": null,
            "visibility": null,
            "width": null
          }
        },
        "a485e7fc2aaf46bfaa2f6371da0ab026": {
          "model_module": "@jupyter-widgets/base",
          "model_name": "LayoutModel",
          "model_module_version": "1.2.0",
          "state": {
            "_model_module": "@jupyter-widgets/base",
            "_model_module_version": "1.2.0",
            "_model_name": "LayoutModel",
            "_view_count": null,
            "_view_module": "@jupyter-widgets/base",
            "_view_module_version": "1.2.0",
            "_view_name": "LayoutView",
            "align_content": null,
            "align_items": null,
            "align_self": null,
            "border": null,
            "bottom": null,
            "display": null,
            "flex": null,
            "flex_flow": null,
            "grid_area": null,
            "grid_auto_columns": null,
            "grid_auto_flow": null,
            "grid_auto_rows": null,
            "grid_column": null,
            "grid_gap": null,
            "grid_row": null,
            "grid_template_areas": null,
            "grid_template_columns": null,
            "grid_template_rows": null,
            "height": null,
            "justify_content": null,
            "justify_items": null,
            "left": null,
            "margin": null,
            "max_height": null,
            "max_width": null,
            "min_height": null,
            "min_width": null,
            "object_fit": null,
            "object_position": null,
            "order": null,
            "overflow": null,
            "overflow_x": null,
            "overflow_y": null,
            "padding": null,
            "right": null,
            "top": null,
            "visibility": null,
            "width": null
          }
        },
        "f4c1fb120a1f4ea78e82f9f27051033b": {
          "model_module": "@jupyter-widgets/controls",
          "model_name": "DescriptionStyleModel",
          "model_module_version": "1.5.0",
          "state": {
            "_model_module": "@jupyter-widgets/controls",
            "_model_module_version": "1.5.0",
            "_model_name": "DescriptionStyleModel",
            "_view_count": null,
            "_view_module": "@jupyter-widgets/base",
            "_view_module_version": "1.2.0",
            "_view_name": "StyleView",
            "description_width": ""
          }
        },
        "02ce51feba614f9daa433ffe7e8b0554": {
          "model_module": "@jupyter-widgets/base",
          "model_name": "LayoutModel",
          "model_module_version": "1.2.0",
          "state": {
            "_model_module": "@jupyter-widgets/base",
            "_model_module_version": "1.2.0",
            "_model_name": "LayoutModel",
            "_view_count": null,
            "_view_module": "@jupyter-widgets/base",
            "_view_module_version": "1.2.0",
            "_view_name": "LayoutView",
            "align_content": null,
            "align_items": null,
            "align_self": null,
            "border": null,
            "bottom": null,
            "display": null,
            "flex": null,
            "flex_flow": null,
            "grid_area": null,
            "grid_auto_columns": null,
            "grid_auto_flow": null,
            "grid_auto_rows": null,
            "grid_column": null,
            "grid_gap": null,
            "grid_row": null,
            "grid_template_areas": null,
            "grid_template_columns": null,
            "grid_template_rows": null,
            "height": null,
            "justify_content": null,
            "justify_items": null,
            "left": null,
            "margin": null,
            "max_height": null,
            "max_width": null,
            "min_height": null,
            "min_width": null,
            "object_fit": null,
            "object_position": null,
            "order": null,
            "overflow": null,
            "overflow_x": null,
            "overflow_y": null,
            "padding": null,
            "right": null,
            "top": null,
            "visibility": null,
            "width": null
          }
        },
        "1b49d9bae72849b9999e18434254fce6": {
          "model_module": "@jupyter-widgets/controls",
          "model_name": "ProgressStyleModel",
          "model_module_version": "1.5.0",
          "state": {
            "_model_module": "@jupyter-widgets/controls",
            "_model_module_version": "1.5.0",
            "_model_name": "ProgressStyleModel",
            "_view_count": null,
            "_view_module": "@jupyter-widgets/base",
            "_view_module_version": "1.2.0",
            "_view_name": "StyleView",
            "bar_color": null,
            "description_width": ""
          }
        },
        "80aa103ccd0a4c1a9585c92e8d2e0217": {
          "model_module": "@jupyter-widgets/base",
          "model_name": "LayoutModel",
          "model_module_version": "1.2.0",
          "state": {
            "_model_module": "@jupyter-widgets/base",
            "_model_module_version": "1.2.0",
            "_model_name": "LayoutModel",
            "_view_count": null,
            "_view_module": "@jupyter-widgets/base",
            "_view_module_version": "1.2.0",
            "_view_name": "LayoutView",
            "align_content": null,
            "align_items": null,
            "align_self": null,
            "border": null,
            "bottom": null,
            "display": null,
            "flex": null,
            "flex_flow": null,
            "grid_area": null,
            "grid_auto_columns": null,
            "grid_auto_flow": null,
            "grid_auto_rows": null,
            "grid_column": null,
            "grid_gap": null,
            "grid_row": null,
            "grid_template_areas": null,
            "grid_template_columns": null,
            "grid_template_rows": null,
            "height": null,
            "justify_content": null,
            "justify_items": null,
            "left": null,
            "margin": null,
            "max_height": null,
            "max_width": null,
            "min_height": null,
            "min_width": null,
            "object_fit": null,
            "object_position": null,
            "order": null,
            "overflow": null,
            "overflow_x": null,
            "overflow_y": null,
            "padding": null,
            "right": null,
            "top": null,
            "visibility": null,
            "width": null
          }
        },
        "e548cfa200e24b0c82e7c29a56e01e1e": {
          "model_module": "@jupyter-widgets/controls",
          "model_name": "DescriptionStyleModel",
          "model_module_version": "1.5.0",
          "state": {
            "_model_module": "@jupyter-widgets/controls",
            "_model_module_version": "1.5.0",
            "_model_name": "DescriptionStyleModel",
            "_view_count": null,
            "_view_module": "@jupyter-widgets/base",
            "_view_module_version": "1.2.0",
            "_view_name": "StyleView",
            "description_width": ""
          }
        },
        "fbe8f30d915640dea77defd21ba696a9": {
          "model_module": "@jupyter-widgets/controls",
          "model_name": "HBoxModel",
          "model_module_version": "1.5.0",
          "state": {
            "_dom_classes": [],
            "_model_module": "@jupyter-widgets/controls",
            "_model_module_version": "1.5.0",
            "_model_name": "HBoxModel",
            "_view_count": null,
            "_view_module": "@jupyter-widgets/controls",
            "_view_module_version": "1.5.0",
            "_view_name": "HBoxView",
            "box_style": "",
            "children": [
              "IPY_MODEL_274b1667033c481e8137d4568b5c83ef",
              "IPY_MODEL_ecb467a03c0f4f86849db9c45d6e19da",
              "IPY_MODEL_9abdb3d212cf4e9e93f00c8bdece9284"
            ],
            "layout": "IPY_MODEL_64bf690ce9af4a9da69e17b61d1b40bd"
          }
        },
        "274b1667033c481e8137d4568b5c83ef": {
          "model_module": "@jupyter-widgets/controls",
          "model_name": "HTMLModel",
          "model_module_version": "1.5.0",
          "state": {
            "_dom_classes": [],
            "_model_module": "@jupyter-widgets/controls",
            "_model_module_version": "1.5.0",
            "_model_name": "HTMLModel",
            "_view_count": null,
            "_view_module": "@jupyter-widgets/controls",
            "_view_module_version": "1.5.0",
            "_view_name": "HTMLView",
            "description": "",
            "description_tooltip": null,
            "layout": "IPY_MODEL_6ff66c39ce7f400fb08228e4170f2c77",
            "placeholder": "​",
            "style": "IPY_MODEL_9bf985d96cef40169ea591af6f2860c2",
            "value": "special_tokens_map.json: 100%"
          }
        },
        "ecb467a03c0f4f86849db9c45d6e19da": {
          "model_module": "@jupyter-widgets/controls",
          "model_name": "FloatProgressModel",
          "model_module_version": "1.5.0",
          "state": {
            "_dom_classes": [],
            "_model_module": "@jupyter-widgets/controls",
            "_model_module_version": "1.5.0",
            "_model_name": "FloatProgressModel",
            "_view_count": null,
            "_view_module": "@jupyter-widgets/controls",
            "_view_module_version": "1.5.0",
            "_view_name": "ProgressView",
            "bar_style": "success",
            "description": "",
            "description_tooltip": null,
            "layout": "IPY_MODEL_f2bffe60063345739aba96e2ef02d9fc",
            "max": 150,
            "min": 0,
            "orientation": "horizontal",
            "style": "IPY_MODEL_8a594c272da04bed865e93786490e30a",
            "value": 150
          }
        },
        "9abdb3d212cf4e9e93f00c8bdece9284": {
          "model_module": "@jupyter-widgets/controls",
          "model_name": "HTMLModel",
          "model_module_version": "1.5.0",
          "state": {
            "_dom_classes": [],
            "_model_module": "@jupyter-widgets/controls",
            "_model_module_version": "1.5.0",
            "_model_name": "HTMLModel",
            "_view_count": null,
            "_view_module": "@jupyter-widgets/controls",
            "_view_module_version": "1.5.0",
            "_view_name": "HTMLView",
            "description": "",
            "description_tooltip": null,
            "layout": "IPY_MODEL_0bb5cca1f0c34c3da972cb6aad1f2f76",
            "placeholder": "​",
            "style": "IPY_MODEL_fd30bd43a8304a4692f4b0ceffc0618e",
            "value": " 150/150 [00:00&lt;00:00, 2.89kB/s]"
          }
        },
        "64bf690ce9af4a9da69e17b61d1b40bd": {
          "model_module": "@jupyter-widgets/base",
          "model_name": "LayoutModel",
          "model_module_version": "1.2.0",
          "state": {
            "_model_module": "@jupyter-widgets/base",
            "_model_module_version": "1.2.0",
            "_model_name": "LayoutModel",
            "_view_count": null,
            "_view_module": "@jupyter-widgets/base",
            "_view_module_version": "1.2.0",
            "_view_name": "LayoutView",
            "align_content": null,
            "align_items": null,
            "align_self": null,
            "border": null,
            "bottom": null,
            "display": null,
            "flex": null,
            "flex_flow": null,
            "grid_area": null,
            "grid_auto_columns": null,
            "grid_auto_flow": null,
            "grid_auto_rows": null,
            "grid_column": null,
            "grid_gap": null,
            "grid_row": null,
            "grid_template_areas": null,
            "grid_template_columns": null,
            "grid_template_rows": null,
            "height": null,
            "justify_content": null,
            "justify_items": null,
            "left": null,
            "margin": null,
            "max_height": null,
            "max_width": null,
            "min_height": null,
            "min_width": null,
            "object_fit": null,
            "object_position": null,
            "order": null,
            "overflow": null,
            "overflow_x": null,
            "overflow_y": null,
            "padding": null,
            "right": null,
            "top": null,
            "visibility": null,
            "width": null
          }
        },
        "6ff66c39ce7f400fb08228e4170f2c77": {
          "model_module": "@jupyter-widgets/base",
          "model_name": "LayoutModel",
          "model_module_version": "1.2.0",
          "state": {
            "_model_module": "@jupyter-widgets/base",
            "_model_module_version": "1.2.0",
            "_model_name": "LayoutModel",
            "_view_count": null,
            "_view_module": "@jupyter-widgets/base",
            "_view_module_version": "1.2.0",
            "_view_name": "LayoutView",
            "align_content": null,
            "align_items": null,
            "align_self": null,
            "border": null,
            "bottom": null,
            "display": null,
            "flex": null,
            "flex_flow": null,
            "grid_area": null,
            "grid_auto_columns": null,
            "grid_auto_flow": null,
            "grid_auto_rows": null,
            "grid_column": null,
            "grid_gap": null,
            "grid_row": null,
            "grid_template_areas": null,
            "grid_template_columns": null,
            "grid_template_rows": null,
            "height": null,
            "justify_content": null,
            "justify_items": null,
            "left": null,
            "margin": null,
            "max_height": null,
            "max_width": null,
            "min_height": null,
            "min_width": null,
            "object_fit": null,
            "object_position": null,
            "order": null,
            "overflow": null,
            "overflow_x": null,
            "overflow_y": null,
            "padding": null,
            "right": null,
            "top": null,
            "visibility": null,
            "width": null
          }
        },
        "9bf985d96cef40169ea591af6f2860c2": {
          "model_module": "@jupyter-widgets/controls",
          "model_name": "DescriptionStyleModel",
          "model_module_version": "1.5.0",
          "state": {
            "_model_module": "@jupyter-widgets/controls",
            "_model_module_version": "1.5.0",
            "_model_name": "DescriptionStyleModel",
            "_view_count": null,
            "_view_module": "@jupyter-widgets/base",
            "_view_module_version": "1.2.0",
            "_view_name": "StyleView",
            "description_width": ""
          }
        },
        "f2bffe60063345739aba96e2ef02d9fc": {
          "model_module": "@jupyter-widgets/base",
          "model_name": "LayoutModel",
          "model_module_version": "1.2.0",
          "state": {
            "_model_module": "@jupyter-widgets/base",
            "_model_module_version": "1.2.0",
            "_model_name": "LayoutModel",
            "_view_count": null,
            "_view_module": "@jupyter-widgets/base",
            "_view_module_version": "1.2.0",
            "_view_name": "LayoutView",
            "align_content": null,
            "align_items": null,
            "align_self": null,
            "border": null,
            "bottom": null,
            "display": null,
            "flex": null,
            "flex_flow": null,
            "grid_area": null,
            "grid_auto_columns": null,
            "grid_auto_flow": null,
            "grid_auto_rows": null,
            "grid_column": null,
            "grid_gap": null,
            "grid_row": null,
            "grid_template_areas": null,
            "grid_template_columns": null,
            "grid_template_rows": null,
            "height": null,
            "justify_content": null,
            "justify_items": null,
            "left": null,
            "margin": null,
            "max_height": null,
            "max_width": null,
            "min_height": null,
            "min_width": null,
            "object_fit": null,
            "object_position": null,
            "order": null,
            "overflow": null,
            "overflow_x": null,
            "overflow_y": null,
            "padding": null,
            "right": null,
            "top": null,
            "visibility": null,
            "width": null
          }
        },
        "8a594c272da04bed865e93786490e30a": {
          "model_module": "@jupyter-widgets/controls",
          "model_name": "ProgressStyleModel",
          "model_module_version": "1.5.0",
          "state": {
            "_model_module": "@jupyter-widgets/controls",
            "_model_module_version": "1.5.0",
            "_model_name": "ProgressStyleModel",
            "_view_count": null,
            "_view_module": "@jupyter-widgets/base",
            "_view_module_version": "1.2.0",
            "_view_name": "StyleView",
            "bar_color": null,
            "description_width": ""
          }
        },
        "0bb5cca1f0c34c3da972cb6aad1f2f76": {
          "model_module": "@jupyter-widgets/base",
          "model_name": "LayoutModel",
          "model_module_version": "1.2.0",
          "state": {
            "_model_module": "@jupyter-widgets/base",
            "_model_module_version": "1.2.0",
            "_model_name": "LayoutModel",
            "_view_count": null,
            "_view_module": "@jupyter-widgets/base",
            "_view_module_version": "1.2.0",
            "_view_name": "LayoutView",
            "align_content": null,
            "align_items": null,
            "align_self": null,
            "border": null,
            "bottom": null,
            "display": null,
            "flex": null,
            "flex_flow": null,
            "grid_area": null,
            "grid_auto_columns": null,
            "grid_auto_flow": null,
            "grid_auto_rows": null,
            "grid_column": null,
            "grid_gap": null,
            "grid_row": null,
            "grid_template_areas": null,
            "grid_template_columns": null,
            "grid_template_rows": null,
            "height": null,
            "justify_content": null,
            "justify_items": null,
            "left": null,
            "margin": null,
            "max_height": null,
            "max_width": null,
            "min_height": null,
            "min_width": null,
            "object_fit": null,
            "object_position": null,
            "order": null,
            "overflow": null,
            "overflow_x": null,
            "overflow_y": null,
            "padding": null,
            "right": null,
            "top": null,
            "visibility": null,
            "width": null
          }
        },
        "fd30bd43a8304a4692f4b0ceffc0618e": {
          "model_module": "@jupyter-widgets/controls",
          "model_name": "DescriptionStyleModel",
          "model_module_version": "1.5.0",
          "state": {
            "_model_module": "@jupyter-widgets/controls",
            "_model_module_version": "1.5.0",
            "_model_name": "DescriptionStyleModel",
            "_view_count": null,
            "_view_module": "@jupyter-widgets/base",
            "_view_module_version": "1.2.0",
            "_view_name": "StyleView",
            "description_width": ""
          }
        },
        "7e5a0f7e7e1247e88b2cfd8e0a5013c1": {
          "model_module": "@jupyter-widgets/controls",
          "model_name": "HBoxModel",
          "model_module_version": "1.5.0",
          "state": {
            "_dom_classes": [],
            "_model_module": "@jupyter-widgets/controls",
            "_model_module_version": "1.5.0",
            "_model_name": "HBoxModel",
            "_view_count": null,
            "_view_module": "@jupyter-widgets/controls",
            "_view_module_version": "1.5.0",
            "_view_name": "HBoxView",
            "box_style": "",
            "children": [
              "IPY_MODEL_d417b30fac1a425087cfbefd50c0552e",
              "IPY_MODEL_d8e74b26c54f406eb5dbec2975bbcf8a",
              "IPY_MODEL_993fc987fd7a4330829d8617b66e2188"
            ],
            "layout": "IPY_MODEL_7b95bbdc21694681b2dc4896eb133f28"
          }
        },
        "d417b30fac1a425087cfbefd50c0552e": {
          "model_module": "@jupyter-widgets/controls",
          "model_name": "HTMLModel",
          "model_module_version": "1.5.0",
          "state": {
            "_dom_classes": [],
            "_model_module": "@jupyter-widgets/controls",
            "_model_module_version": "1.5.0",
            "_model_name": "HTMLModel",
            "_view_count": null,
            "_view_module": "@jupyter-widgets/controls",
            "_view_module_version": "1.5.0",
            "_view_name": "HTMLView",
            "description": "",
            "description_tooltip": null,
            "layout": "IPY_MODEL_24c57c9ccd364a04b2d09f3d0df3dc20",
            "placeholder": "​",
            "style": "IPY_MODEL_fb6f3ea6c4fd412bbd9b662e7990a280",
            "value": "pytorch_model.bin: 100%"
          }
        },
        "d8e74b26c54f406eb5dbec2975bbcf8a": {
          "model_module": "@jupyter-widgets/controls",
          "model_name": "FloatProgressModel",
          "model_module_version": "1.5.0",
          "state": {
            "_dom_classes": [],
            "_model_module": "@jupyter-widgets/controls",
            "_model_module_version": "1.5.0",
            "_model_name": "FloatProgressModel",
            "_view_count": null,
            "_view_module": "@jupyter-widgets/controls",
            "_view_module_version": "1.5.0",
            "_view_name": "ProgressView",
            "bar_style": "success",
            "description": "",
            "description_tooltip": null,
            "layout": "IPY_MODEL_858086d8b49844ff9fbb4f02ceec372c",
            "max": 498679497,
            "min": 0,
            "orientation": "horizontal",
            "style": "IPY_MODEL_36d13f3de5f84f479cd1e04c30f14b63",
            "value": 498679497
          }
        },
        "993fc987fd7a4330829d8617b66e2188": {
          "model_module": "@jupyter-widgets/controls",
          "model_name": "HTMLModel",
          "model_module_version": "1.5.0",
          "state": {
            "_dom_classes": [],
            "_model_module": "@jupyter-widgets/controls",
            "_model_module_version": "1.5.0",
            "_model_name": "HTMLModel",
            "_view_count": null,
            "_view_module": "@jupyter-widgets/controls",
            "_view_module_version": "1.5.0",
            "_view_name": "HTMLView",
            "description": "",
            "description_tooltip": null,
            "layout": "IPY_MODEL_556ee4bc6c81409a85664d339d77b37a",
            "placeholder": "​",
            "style": "IPY_MODEL_ba2e56cfda5442248e0c8a27eaacfcf4",
            "value": " 499M/499M [00:04&lt;00:00, 128MB/s]"
          }
        },
        "7b95bbdc21694681b2dc4896eb133f28": {
          "model_module": "@jupyter-widgets/base",
          "model_name": "LayoutModel",
          "model_module_version": "1.2.0",
          "state": {
            "_model_module": "@jupyter-widgets/base",
            "_model_module_version": "1.2.0",
            "_model_name": "LayoutModel",
            "_view_count": null,
            "_view_module": "@jupyter-widgets/base",
            "_view_module_version": "1.2.0",
            "_view_name": "LayoutView",
            "align_content": null,
            "align_items": null,
            "align_self": null,
            "border": null,
            "bottom": null,
            "display": null,
            "flex": null,
            "flex_flow": null,
            "grid_area": null,
            "grid_auto_columns": null,
            "grid_auto_flow": null,
            "grid_auto_rows": null,
            "grid_column": null,
            "grid_gap": null,
            "grid_row": null,
            "grid_template_areas": null,
            "grid_template_columns": null,
            "grid_template_rows": null,
            "height": null,
            "justify_content": null,
            "justify_items": null,
            "left": null,
            "margin": null,
            "max_height": null,
            "max_width": null,
            "min_height": null,
            "min_width": null,
            "object_fit": null,
            "object_position": null,
            "order": null,
            "overflow": null,
            "overflow_x": null,
            "overflow_y": null,
            "padding": null,
            "right": null,
            "top": null,
            "visibility": null,
            "width": null
          }
        },
        "24c57c9ccd364a04b2d09f3d0df3dc20": {
          "model_module": "@jupyter-widgets/base",
          "model_name": "LayoutModel",
          "model_module_version": "1.2.0",
          "state": {
            "_model_module": "@jupyter-widgets/base",
            "_model_module_version": "1.2.0",
            "_model_name": "LayoutModel",
            "_view_count": null,
            "_view_module": "@jupyter-widgets/base",
            "_view_module_version": "1.2.0",
            "_view_name": "LayoutView",
            "align_content": null,
            "align_items": null,
            "align_self": null,
            "border": null,
            "bottom": null,
            "display": null,
            "flex": null,
            "flex_flow": null,
            "grid_area": null,
            "grid_auto_columns": null,
            "grid_auto_flow": null,
            "grid_auto_rows": null,
            "grid_column": null,
            "grid_gap": null,
            "grid_row": null,
            "grid_template_areas": null,
            "grid_template_columns": null,
            "grid_template_rows": null,
            "height": null,
            "justify_content": null,
            "justify_items": null,
            "left": null,
            "margin": null,
            "max_height": null,
            "max_width": null,
            "min_height": null,
            "min_width": null,
            "object_fit": null,
            "object_position": null,
            "order": null,
            "overflow": null,
            "overflow_x": null,
            "overflow_y": null,
            "padding": null,
            "right": null,
            "top": null,
            "visibility": null,
            "width": null
          }
        },
        "fb6f3ea6c4fd412bbd9b662e7990a280": {
          "model_module": "@jupyter-widgets/controls",
          "model_name": "DescriptionStyleModel",
          "model_module_version": "1.5.0",
          "state": {
            "_model_module": "@jupyter-widgets/controls",
            "_model_module_version": "1.5.0",
            "_model_name": "DescriptionStyleModel",
            "_view_count": null,
            "_view_module": "@jupyter-widgets/base",
            "_view_module_version": "1.2.0",
            "_view_name": "StyleView",
            "description_width": ""
          }
        },
        "858086d8b49844ff9fbb4f02ceec372c": {
          "model_module": "@jupyter-widgets/base",
          "model_name": "LayoutModel",
          "model_module_version": "1.2.0",
          "state": {
            "_model_module": "@jupyter-widgets/base",
            "_model_module_version": "1.2.0",
            "_model_name": "LayoutModel",
            "_view_count": null,
            "_view_module": "@jupyter-widgets/base",
            "_view_module_version": "1.2.0",
            "_view_name": "LayoutView",
            "align_content": null,
            "align_items": null,
            "align_self": null,
            "border": null,
            "bottom": null,
            "display": null,
            "flex": null,
            "flex_flow": null,
            "grid_area": null,
            "grid_auto_columns": null,
            "grid_auto_flow": null,
            "grid_auto_rows": null,
            "grid_column": null,
            "grid_gap": null,
            "grid_row": null,
            "grid_template_areas": null,
            "grid_template_columns": null,
            "grid_template_rows": null,
            "height": null,
            "justify_content": null,
            "justify_items": null,
            "left": null,
            "margin": null,
            "max_height": null,
            "max_width": null,
            "min_height": null,
            "min_width": null,
            "object_fit": null,
            "object_position": null,
            "order": null,
            "overflow": null,
            "overflow_x": null,
            "overflow_y": null,
            "padding": null,
            "right": null,
            "top": null,
            "visibility": null,
            "width": null
          }
        },
        "36d13f3de5f84f479cd1e04c30f14b63": {
          "model_module": "@jupyter-widgets/controls",
          "model_name": "ProgressStyleModel",
          "model_module_version": "1.5.0",
          "state": {
            "_model_module": "@jupyter-widgets/controls",
            "_model_module_version": "1.5.0",
            "_model_name": "ProgressStyleModel",
            "_view_count": null,
            "_view_module": "@jupyter-widgets/base",
            "_view_module_version": "1.2.0",
            "_view_name": "StyleView",
            "bar_color": null,
            "description_width": ""
          }
        },
        "556ee4bc6c81409a85664d339d77b37a": {
          "model_module": "@jupyter-widgets/base",
          "model_name": "LayoutModel",
          "model_module_version": "1.2.0",
          "state": {
            "_model_module": "@jupyter-widgets/base",
            "_model_module_version": "1.2.0",
            "_model_name": "LayoutModel",
            "_view_count": null,
            "_view_module": "@jupyter-widgets/base",
            "_view_module_version": "1.2.0",
            "_view_name": "LayoutView",
            "align_content": null,
            "align_items": null,
            "align_self": null,
            "border": null,
            "bottom": null,
            "display": null,
            "flex": null,
            "flex_flow": null,
            "grid_area": null,
            "grid_auto_columns": null,
            "grid_auto_flow": null,
            "grid_auto_rows": null,
            "grid_column": null,
            "grid_gap": null,
            "grid_row": null,
            "grid_template_areas": null,
            "grid_template_columns": null,
            "grid_template_rows": null,
            "height": null,
            "justify_content": null,
            "justify_items": null,
            "left": null,
            "margin": null,
            "max_height": null,
            "max_width": null,
            "min_height": null,
            "min_width": null,
            "object_fit": null,
            "object_position": null,
            "order": null,
            "overflow": null,
            "overflow_x": null,
            "overflow_y": null,
            "padding": null,
            "right": null,
            "top": null,
            "visibility": null,
            "width": null
          }
        },
        "ba2e56cfda5442248e0c8a27eaacfcf4": {
          "model_module": "@jupyter-widgets/controls",
          "model_name": "DescriptionStyleModel",
          "model_module_version": "1.5.0",
          "state": {
            "_model_module": "@jupyter-widgets/controls",
            "_model_module_version": "1.5.0",
            "_model_name": "DescriptionStyleModel",
            "_view_count": null,
            "_view_module": "@jupyter-widgets/base",
            "_view_module_version": "1.2.0",
            "_view_name": "StyleView",
            "description_width": ""
          }
        }
      }
    }
  },
  "nbformat": 4,
  "nbformat_minor": 0
}